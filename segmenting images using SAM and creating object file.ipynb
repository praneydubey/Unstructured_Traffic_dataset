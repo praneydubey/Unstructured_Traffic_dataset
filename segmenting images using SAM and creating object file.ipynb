{
 "cells": [
  {
   "cell_type": "code",
   "execution_count": null,
   "id": "483012ad-a5a0-4a96-a603-03560c21f976",
   "metadata": {},
   "outputs": [
    {
     "name": "stdout",
     "output_type": "stream",
     "text": [
      "--2025-05-16 06:15:14--  https://dl.fbaipublicfiles.com/segment_anything/sam_vit_h_4b8939.pth\n",
      "Resolving dl.fbaipublicfiles.com (dl.fbaipublicfiles.com)... 3.171.22.13, 3.171.22.68, 3.171.22.118, ...\n",
      "connected. to dl.fbaipublicfiles.com (dl.fbaipublicfiles.com)|3.171.22.13|:443... \n",
      "HTTP request sent, awaiting response... 200 OK\n",
      "Length: 2564550879 (2.4G) [binary/octet-stream]\n",
      "Saving to: ‘sam_vit_h_4b8939.pth.3’\n",
      "\n",
      "sam_vit_h_4b8939.pt 100%[===================>]   2.39G  13.9MB/s    in 2m 55s  \n",
      "\n",
      "2025-05-16 06:18:10 (13.9 MB/s) - ‘sam_vit_h_4b8939.pth.3’ saved [2564550879/2564550879]\n",
      "\n",
      "Help on class SamAutomaticMaskGenerator in module segment_anything.automatic_mask_generator:\n",
      "\n",
      "class SamAutomaticMaskGenerator(builtins.object)\n",
      " |  SamAutomaticMaskGenerator(\n",
      " |      model: segment_anything.modeling.sam.Sam,\n",
      " |      points_per_side: Optional[int] = 32,\n",
      " |      points_per_batch: int = 64,\n",
      " |      pred_iou_thresh: float = 0.88,\n",
      " |      stability_score_thresh: float = 0.95,\n",
      " |      stability_score_offset: float = 1.0,\n",
      " |      box_nms_thresh: float = 0.7,\n",
      " |      crop_n_layers: int = 0,\n",
      " |      crop_nms_thresh: float = 0.7,\n",
      " |      crop_overlap_ratio: float = 0.3413333333333333,\n",
      " |      crop_n_points_downscale_factor: int = 1,\n",
      " |      point_grids: Optional[List[numpy.ndarray]] = None,\n",
      " |      min_mask_region_area: int = 0,\n",
      " |      output_mode: str = 'binary_mask'\n",
      " |  ) -> None\n",
      " |\n",
      " |  Methods defined here:\n",
      " |\n",
      " |  __init__(\n",
      " |      self,\n",
      " |      model: segment_anything.modeling.sam.Sam,\n",
      " |      points_per_side: Optional[int] = 32,\n",
      " |      points_per_batch: int = 64,\n",
      " |      pred_iou_thresh: float = 0.88,\n",
      " |      stability_score_thresh: float = 0.95,\n",
      " |      stability_score_offset: float = 1.0,\n",
      " |      box_nms_thresh: float = 0.7,\n",
      " |      crop_n_layers: int = 0,\n",
      " |      crop_nms_thresh: float = 0.7,\n",
      " |      crop_overlap_ratio: float = 0.3413333333333333,\n",
      " |      crop_n_points_downscale_factor: int = 1,\n",
      " |      point_grids: Optional[List[numpy.ndarray]] = None,\n",
      " |      min_mask_region_area: int = 0,\n",
      " |      output_mode: str = 'binary_mask'\n",
      " |  ) -> None\n",
      " |      Using a SAM model, generates masks for the entire image.\n",
      " |      Generates a grid of point prompts over the image, then filters\n",
      " |      low quality and duplicate masks. The default settings are chosen\n",
      " |      for SAM with a ViT-H backbone.\n",
      " |\n",
      " |      Arguments:\n",
      " |        model (Sam): The SAM model to use for mask prediction.\n",
      " |        points_per_side (int or None): The number of points to be sampled\n",
      " |          along one side of the image. The total number of points is\n",
      " |          points_per_side**2. If None, 'point_grids' must provide explicit\n",
      " |          point sampling.\n",
      " |        points_per_batch (int): Sets the number of points run simultaneously\n",
      " |          by the model. Higher numbers may be faster but use more GPU memory.\n",
      " |        pred_iou_thresh (float): A filtering threshold in [0,1], using the\n",
      " |          model's predicted mask quality.\n",
      " |        stability_score_thresh (float): A filtering threshold in [0,1], using\n",
      " |          the stability of the mask under changes to the cutoff used to binarize\n",
      " |          the model's mask predictions.\n",
      " |        stability_score_offset (float): The amount to shift the cutoff when\n",
      " |          calculated the stability score.\n",
      " |        box_nms_thresh (float): The box IoU cutoff used by non-maximal\n",
      " |          suppression to filter duplicate masks.\n",
      " |        crop_n_layers (int): If >0, mask prediction will be run again on\n",
      " |          crops of the image. Sets the number of layers to run, where each\n",
      " |          layer has 2**i_layer number of image crops.\n",
      " |        crop_nms_thresh (float): The box IoU cutoff used by non-maximal\n",
      " |          suppression to filter duplicate masks between different crops.\n",
      " |        crop_overlap_ratio (float): Sets the degree to which crops overlap.\n",
      " |          In the first crop layer, crops will overlap by this fraction of\n",
      " |          the image length. Later layers with more crops scale down this overlap.\n",
      " |        crop_n_points_downscale_factor (int): The number of points-per-side\n",
      " |          sampled in layer n is scaled down by crop_n_points_downscale_factor**n.\n",
      " |        point_grids (list(np.ndarray) or None): A list over explicit grids\n",
      " |          of points used for sampling, normalized to [0,1]. The nth grid in the\n",
      " |          list is used in the nth crop layer. Exclusive with points_per_side.\n",
      " |        min_mask_region_area (int): If >0, postprocessing will be applied\n",
      " |          to remove disconnected regions and holes in masks with area smaller\n",
      " |          than min_mask_region_area. Requires opencv.\n",
      " |        output_mode (str): The form masks are returned in. Can be 'binary_mask',\n",
      " |          'uncompressed_rle', or 'coco_rle'. 'coco_rle' requires pycocotools.\n",
      " |          For large resolutions, 'binary_mask' may consume large amounts of\n",
      " |          memory.\n",
      " |\n",
      " |  generate(self, image: numpy.ndarray) -> List[Dict[str, Any]]\n",
      " |      Generates masks for the given image.\n",
      " |\n",
      " |      Arguments:\n",
      " |        image (np.ndarray): The image to generate masks for, in HWC uint8 format.\n",
      " |\n",
      " |      Returns:\n",
      " |         list(dict(str, any)): A list over records for masks. Each record is\n",
      " |           a dict containing the following keys:\n",
      " |             segmentation (dict(str, any) or np.ndarray): The mask. If\n",
      " |               output_mode='binary_mask', is an array of shape HW. Otherwise,\n",
      " |               is a dictionary containing the RLE.\n",
      " |             bbox (list(float)): The box around the mask, in XYWH format.\n",
      " |             area (int): The area in pixels of the mask.\n",
      " |             predicted_iou (float): The model's own prediction of the mask's\n",
      " |               quality. This is filtered by the pred_iou_thresh parameter.\n",
      " |             point_coords (list(list(float))): The point coordinates input\n",
      " |               to the model to generate this mask.\n",
      " |             stability_score (float): A measure of the mask's quality. This\n",
      " |               is filtered on using the stability_score_thresh parameter.\n",
      " |             crop_box (list(float)): The crop of the image used to generate\n",
      " |               the mask, given in XYWH format.\n",
      " |\n",
      " |  ----------------------------------------------------------------------\n",
      " |  Static methods defined here:\n",
      " |\n",
      " |  postprocess_small_regions(\n",
      " |      mask_data: segment_anything.utils.amg.MaskData,\n",
      " |      min_area: int,\n",
      " |      nms_thresh: float\n",
      " |  ) -> segment_anything.utils.amg.MaskData\n",
      " |      Removes small disconnected regions and holes in masks, then reruns\n",
      " |      box NMS to remove any new duplicates.\n",
      " |\n",
      " |      Edits mask_data in place.\n",
      " |\n",
      " |      Requires open-cv as a dependency.\n",
      " |\n",
      " |  ----------------------------------------------------------------------\n",
      " |  Data descriptors defined here:\n",
      " |\n",
      " |  __dict__\n",
      " |      dictionary for instance variables\n",
      " |\n",
      " |  __weakref__\n",
      " |      list of weak references to the object\n",
      "\n",
      "0 /Users/prdubey/Documents/code/AI_proj/Modern-Computer-Vision-with-PyTorch-2E/Chapter16/images_of_videos/20250513_163002_INF_2/frame583.jpg\n",
      "step1\n",
      "step2\n",
      "created directory /Users/prdubey/Documents/code/AI_proj/Modern-Computer-Vision-with-PyTorch-2E/Chapter16/images_of_videos/20250513_163002_INF_2/segmented_images\n",
      "0 masks 82\n"
     ]
    },
    {
     "name": "stderr",
     "output_type": "stream",
     "text": [
      "/var/folders/l6/3248mst11s9g2g013c04ff8w0000gp/T/ipykernel_65850/1634055033.py:74: RuntimeWarning: overflow encountered in scalar add\n",
      "  total_sum1 = int(sum(sum(chk1)) )\n"
     ]
    },
    {
     "name": "stdout",
     "output_type": "stream",
     "text": [
      "15 82 completed\n",
      "1 /Users/prdubey/Documents/code/AI_proj/Modern-Computer-Vision-with-PyTorch-2E/Chapter16/images_of_videos/20250513_163002_INF_2/frame597.jpg\n",
      "step1\n",
      "step2\n",
      "1 masks 78\n"
     ]
    },
    {
     "name": "stderr",
     "output_type": "stream",
     "text": [
      "/var/folders/l6/3248mst11s9g2g013c04ff8w0000gp/T/ipykernel_65850/1634055033.py:74: RuntimeWarning: overflow encountered in scalar add\n",
      "  total_sum1 = int(sum(sum(chk1)) )\n"
     ]
    },
    {
     "name": "stdout",
     "output_type": "stream",
     "text": [
      "6 78 completed\n",
      "2 /Users/prdubey/Documents/code/AI_proj/Modern-Computer-Vision-with-PyTorch-2E/Chapter16/images_of_videos/20250513_163002_INF_2/frame540.jpg\n",
      "step1\n",
      "step2\n",
      "2 masks 83\n"
     ]
    },
    {
     "name": "stderr",
     "output_type": "stream",
     "text": [
      "/var/folders/l6/3248mst11s9g2g013c04ff8w0000gp/T/ipykernel_65850/1634055033.py:74: RuntimeWarning: overflow encountered in scalar add\n",
      "  total_sum1 = int(sum(sum(chk1)) )\n"
     ]
    },
    {
     "name": "stdout",
     "output_type": "stream",
     "text": [
      "17 83 completed\n",
      "3 /Users/prdubey/Documents/code/AI_proj/Modern-Computer-Vision-with-PyTorch-2E/Chapter16/images_of_videos/20250513_163002_INF_2/frame226.jpg\n",
      "step1\n",
      "step2\n",
      "3 masks 84\n"
     ]
    },
    {
     "name": "stderr",
     "output_type": "stream",
     "text": [
      "/var/folders/l6/3248mst11s9g2g013c04ff8w0000gp/T/ipykernel_65850/1634055033.py:74: RuntimeWarning: overflow encountered in scalar add\n",
      "  total_sum1 = int(sum(sum(chk1)) )\n"
     ]
    },
    {
     "name": "stdout",
     "output_type": "stream",
     "text": [
      "18 84 completed\n",
      "4 /Users/prdubey/Documents/code/AI_proj/Modern-Computer-Vision-with-PyTorch-2E/Chapter16/images_of_videos/20250513_163002_INF_2/frame232.jpg\n",
      "step1\n",
      "step2\n",
      "4 masks 87\n"
     ]
    },
    {
     "name": "stderr",
     "output_type": "stream",
     "text": [
      "/var/folders/l6/3248mst11s9g2g013c04ff8w0000gp/T/ipykernel_65850/1634055033.py:74: RuntimeWarning: overflow encountered in scalar add\n",
      "  total_sum1 = int(sum(sum(chk1)) )\n"
     ]
    },
    {
     "name": "stdout",
     "output_type": "stream",
     "text": [
      "18 87 completed\n",
      "5 /Users/prdubey/Documents/code/AI_proj/Modern-Computer-Vision-with-PyTorch-2E/Chapter16/images_of_videos/20250513_163002_INF_2/frame554.jpg\n",
      "step1\n",
      "step2\n",
      "5 masks 81\n"
     ]
    },
    {
     "name": "stderr",
     "output_type": "stream",
     "text": [
      "/var/folders/l6/3248mst11s9g2g013c04ff8w0000gp/T/ipykernel_65850/1634055033.py:74: RuntimeWarning: overflow encountered in scalar add\n",
      "  total_sum1 = int(sum(sum(chk1)) )\n"
     ]
    },
    {
     "name": "stdout",
     "output_type": "stream",
     "text": [
      "21 81 completed\n",
      "6 /Users/prdubey/Documents/code/AI_proj/Modern-Computer-Vision-with-PyTorch-2E/Chapter16/images_of_videos/20250513_163002_INF_2/frame568.jpg\n",
      "step1\n",
      "step2\n",
      "6 masks 71\n"
     ]
    },
    {
     "name": "stderr",
     "output_type": "stream",
     "text": [
      "/var/folders/l6/3248mst11s9g2g013c04ff8w0000gp/T/ipykernel_65850/1634055033.py:74: RuntimeWarning: overflow encountered in scalar add\n",
      "  total_sum1 = int(sum(sum(chk1)) )\n"
     ]
    },
    {
     "name": "stdout",
     "output_type": "stream",
     "text": [
      "19 71 completed\n",
      "7 /Users/prdubey/Documents/code/AI_proj/Modern-Computer-Vision-with-PyTorch-2E/Chapter16/images_of_videos/20250513_163002_INF_2/frame781.jpg\n",
      "step1\n",
      "step2\n",
      "7 masks 76\n"
     ]
    },
    {
     "name": "stderr",
     "output_type": "stream",
     "text": [
      "/var/folders/l6/3248mst11s9g2g013c04ff8w0000gp/T/ipykernel_65850/1634055033.py:74: RuntimeWarning: overflow encountered in scalar add\n",
      "  total_sum1 = int(sum(sum(chk1)) )\n"
     ]
    },
    {
     "name": "stdout",
     "output_type": "stream",
     "text": [
      "22 76 completed\n",
      "8 /Users/prdubey/Documents/code/AI_proj/Modern-Computer-Vision-with-PyTorch-2E/Chapter16/images_of_videos/20250513_163002_INF_2/frame795.jpg\n",
      "step1\n",
      "step2\n",
      "8 masks 82\n"
     ]
    },
    {
     "name": "stderr",
     "output_type": "stream",
     "text": [
      "/var/folders/l6/3248mst11s9g2g013c04ff8w0000gp/T/ipykernel_65850/1634055033.py:74: RuntimeWarning: overflow encountered in scalar add\n",
      "  total_sum1 = int(sum(sum(chk1)) )\n"
     ]
    },
    {
     "name": "stdout",
     "output_type": "stream",
     "text": [
      "10 82 completed\n",
      "9 /Users/prdubey/Documents/code/AI_proj/Modern-Computer-Vision-with-PyTorch-2E/Chapter16/images_of_videos/20250513_163002_INF_2/frame742.jpg\n",
      "step1\n",
      "step2\n",
      "9 masks 78\n"
     ]
    },
    {
     "name": "stderr",
     "output_type": "stream",
     "text": [
      "/var/folders/l6/3248mst11s9g2g013c04ff8w0000gp/T/ipykernel_65850/1634055033.py:74: RuntimeWarning: overflow encountered in scalar add\n",
      "  total_sum1 = int(sum(sum(chk1)) )\n"
     ]
    },
    {
     "name": "stdout",
     "output_type": "stream",
     "text": [
      "13 78 completed\n",
      "10 /Users/prdubey/Documents/code/AI_proj/Modern-Computer-Vision-with-PyTorch-2E/Chapter16/images_of_videos/20250513_163002_INF_2/frame756.jpg\n",
      "step1\n",
      "step2\n",
      "10 masks 82\n"
     ]
    },
    {
     "name": "stderr",
     "output_type": "stream",
     "text": [
      "/var/folders/l6/3248mst11s9g2g013c04ff8w0000gp/T/ipykernel_65850/1634055033.py:74: RuntimeWarning: overflow encountered in scalar add\n",
      "  total_sum1 = int(sum(sum(chk1)) )\n"
     ]
    },
    {
     "name": "stdout",
     "output_type": "stream",
     "text": [
      "21 82 completed\n",
      "11 /Users/prdubey/Documents/code/AI_proj/Modern-Computer-Vision-with-PyTorch-2E/Chapter16/images_of_videos/20250513_163002_INF_2/frame193.jpg\n",
      "step1\n",
      "step2\n",
      "11 masks 83\n"
     ]
    },
    {
     "name": "stderr",
     "output_type": "stream",
     "text": [
      "/var/folders/l6/3248mst11s9g2g013c04ff8w0000gp/T/ipykernel_65850/1634055033.py:74: RuntimeWarning: overflow encountered in scalar add\n",
      "  total_sum1 = int(sum(sum(chk1)) )\n"
     ]
    },
    {
     "name": "stdout",
     "output_type": "stream",
     "text": [
      "17 83 completed\n",
      "12 /Users/prdubey/Documents/code/AI_proj/Modern-Computer-Vision-with-PyTorch-2E/Chapter16/images_of_videos/20250513_163002_INF_2/frame187.jpg\n",
      "step1\n",
      "step2\n",
      "12 masks 79\n"
     ]
    },
    {
     "name": "stderr",
     "output_type": "stream",
     "text": [
      "/var/folders/l6/3248mst11s9g2g013c04ff8w0000gp/T/ipykernel_65850/1634055033.py:74: RuntimeWarning: overflow encountered in scalar add\n",
      "  total_sum1 = int(sum(sum(chk1)) )\n"
     ]
    },
    {
     "name": "stdout",
     "output_type": "stream",
     "text": [
      "13 79 completed\n",
      "13 /Users/prdubey/Documents/code/AI_proj/Modern-Computer-Vision-with-PyTorch-2E/Chapter16/images_of_videos/20250513_163002_INF_2/frame85.jpg\n",
      "step1\n",
      "step2\n",
      "13 masks 79\n"
     ]
    },
    {
     "name": "stderr",
     "output_type": "stream",
     "text": [
      "/var/folders/l6/3248mst11s9g2g013c04ff8w0000gp/T/ipykernel_65850/1634055033.py:74: RuntimeWarning: overflow encountered in scalar add\n",
      "  total_sum1 = int(sum(sum(chk1)) )\n"
     ]
    },
    {
     "name": "stdout",
     "output_type": "stream",
     "text": [
      "19 79 completed\n",
      "14 /Users/prdubey/Documents/code/AI_proj/Modern-Computer-Vision-with-PyTorch-2E/Chapter16/images_of_videos/20250513_163002_INF_2/frame811.jpg\n",
      "step1\n",
      "step2\n",
      "14 masks 85\n"
     ]
    },
    {
     "name": "stderr",
     "output_type": "stream",
     "text": [
      "/var/folders/l6/3248mst11s9g2g013c04ff8w0000gp/T/ipykernel_65850/1634055033.py:74: RuntimeWarning: overflow encountered in scalar add\n",
      "  total_sum1 = int(sum(sum(chk1)) )\n"
     ]
    },
    {
     "name": "stdout",
     "output_type": "stream",
     "text": [
      "17 85 completed\n",
      "15 /Users/prdubey/Documents/code/AI_proj/Modern-Computer-Vision-with-PyTorch-2E/Chapter16/images_of_videos/20250513_163002_INF_2/frame91.jpg\n",
      "step1\n",
      "step2\n",
      "15 masks 90\n"
     ]
    },
    {
     "name": "stderr",
     "output_type": "stream",
     "text": [
      "/var/folders/l6/3248mst11s9g2g013c04ff8w0000gp/T/ipykernel_65850/1634055033.py:74: RuntimeWarning: overflow encountered in scalar add\n",
      "  total_sum1 = int(sum(sum(chk1)) )\n"
     ]
    },
    {
     "name": "stdout",
     "output_type": "stream",
     "text": [
      "21 90 completed\n",
      "16 /Users/prdubey/Documents/code/AI_proj/Modern-Computer-Vision-with-PyTorch-2E/Chapter16/images_of_videos/20250513_163002_INF_2/frame805.jpg\n",
      "step1\n",
      "step2\n",
      "16 masks 77\n"
     ]
    },
    {
     "name": "stderr",
     "output_type": "stream",
     "text": [
      "/var/folders/l6/3248mst11s9g2g013c04ff8w0000gp/T/ipykernel_65850/1634055033.py:74: RuntimeWarning: overflow encountered in scalar add\n",
      "  total_sum1 = int(sum(sum(chk1)) )\n"
     ]
    },
    {
     "name": "stdout",
     "output_type": "stream",
     "text": [
      "10 77 completed\n",
      "17 /Users/prdubey/Documents/code/AI_proj/Modern-Computer-Vision-with-PyTorch-2E/Chapter16/images_of_videos/20250513_163002_INF_2/frame150.jpg\n",
      "step1\n",
      "step2\n",
      "17 masks 88\n"
     ]
    },
    {
     "name": "stderr",
     "output_type": "stream",
     "text": [
      "/var/folders/l6/3248mst11s9g2g013c04ff8w0000gp/T/ipykernel_65850/1634055033.py:74: RuntimeWarning: overflow encountered in scalar add\n",
      "  total_sum1 = int(sum(sum(chk1)) )\n"
     ]
    },
    {
     "name": "stdout",
     "output_type": "stream",
     "text": [
      "14 88 completed\n",
      "18 /Users/prdubey/Documents/code/AI_proj/Modern-Computer-Vision-with-PyTorch-2E/Chapter16/images_of_videos/20250513_163002_INF_2/frame636.jpg\n",
      "step1\n",
      "step2\n",
      "18 masks 84\n"
     ]
    },
    {
     "name": "stderr",
     "output_type": "stream",
     "text": [
      "/var/folders/l6/3248mst11s9g2g013c04ff8w0000gp/T/ipykernel_65850/1634055033.py:74: RuntimeWarning: overflow encountered in scalar add\n",
      "  total_sum1 = int(sum(sum(chk1)) )\n"
     ]
    },
    {
     "name": "stdout",
     "output_type": "stream",
     "text": [
      "16 84 completed\n",
      "19 /Users/prdubey/Documents/code/AI_proj/Modern-Computer-Vision-with-PyTorch-2E/Chapter16/images_of_videos/20250513_163002_INF_2/frame622.jpg\n",
      "step1\n",
      "step2\n",
      "19 masks 75\n"
     ]
    },
    {
     "name": "stderr",
     "output_type": "stream",
     "text": [
      "/var/folders/l6/3248mst11s9g2g013c04ff8w0000gp/T/ipykernel_65850/1634055033.py:74: RuntimeWarning: overflow encountered in scalar add\n",
      "  total_sum1 = int(sum(sum(chk1)) )\n"
     ]
    },
    {
     "name": "stdout",
     "output_type": "stream",
     "text": [
      "16 75 completed\n",
      "20 /Users/prdubey/Documents/code/AI_proj/Modern-Computer-Vision-with-PyTorch-2E/Chapter16/images_of_videos/20250513_163002_INF_2/frame144.jpg\n",
      "step1\n",
      "step2\n"
     ]
    },
    {
     "name": "stderr",
     "output_type": "stream",
     "text": [
      "/var/folders/l6/3248mst11s9g2g013c04ff8w0000gp/T/ipykernel_65850/1634055033.py:61: RuntimeWarning: More than 20 figures have been opened. Figures created through the pyplot interface (`matplotlib.pyplot.figure`) are retained until explicitly closed and may consume too much memory. (To control this warning, see the rcParam `figure.max_open_warning`). Consider using `matplotlib.pyplot.close()`.\n",
      "  plt.figure(figsize=(40,40))\n"
     ]
    },
    {
     "name": "stdout",
     "output_type": "stream",
     "text": [
      "20 masks 89\n"
     ]
    },
    {
     "name": "stderr",
     "output_type": "stream",
     "text": [
      "/var/folders/l6/3248mst11s9g2g013c04ff8w0000gp/T/ipykernel_65850/1634055033.py:74: RuntimeWarning: overflow encountered in scalar add\n",
      "  total_sum1 = int(sum(sum(chk1)) )\n"
     ]
    },
    {
     "name": "stdout",
     "output_type": "stream",
     "text": [
      "19 89 completed\n",
      "21 /Users/prdubey/Documents/code/AI_proj/Modern-Computer-Vision-with-PyTorch-2E/Chapter16/images_of_videos/20250513_163002_INF_2/frame46.jpg\n",
      "step1\n",
      "step2\n",
      "21 masks 79\n"
     ]
    },
    {
     "name": "stderr",
     "output_type": "stream",
     "text": [
      "/var/folders/l6/3248mst11s9g2g013c04ff8w0000gp/T/ipykernel_65850/1634055033.py:74: RuntimeWarning: overflow encountered in scalar add\n",
      "  total_sum1 = int(sum(sum(chk1)) )\n"
     ]
    },
    {
     "name": "stdout",
     "output_type": "stream",
     "text": [
      "15 79 completed\n",
      "22 /Users/prdubey/Documents/code/AI_proj/Modern-Computer-Vision-with-PyTorch-2E/Chapter16/images_of_videos/20250513_163002_INF_2/frame52.jpg\n",
      "step1\n",
      "step2\n",
      "22 masks 82\n"
     ]
    },
    {
     "name": "stderr",
     "output_type": "stream",
     "text": [
      "/var/folders/l6/3248mst11s9g2g013c04ff8w0000gp/T/ipykernel_65850/1634055033.py:74: RuntimeWarning: overflow encountered in scalar add\n",
      "  total_sum1 = int(sum(sum(chk1)) )\n"
     ]
    },
    {
     "name": "stdout",
     "output_type": "stream",
     "text": [
      "13 82 completed\n",
      "23 /Users/prdubey/Documents/code/AI_proj/Modern-Computer-Vision-with-PyTorch-2E/Chapter16/images_of_videos/20250513_163002_INF_2/frame178.jpg\n",
      "step1\n",
      "step2\n",
      "23 masks 85\n"
     ]
    },
    {
     "name": "stderr",
     "output_type": "stream",
     "text": [
      "/var/folders/l6/3248mst11s9g2g013c04ff8w0000gp/T/ipykernel_65850/1634055033.py:74: RuntimeWarning: overflow encountered in scalar add\n",
      "  total_sum1 = int(sum(sum(chk1)) )\n"
     ]
    },
    {
     "name": "stdout",
     "output_type": "stream",
     "text": [
      "24 85 completed\n",
      "24 /Users/prdubey/Documents/code/AI_proj/Modern-Computer-Vision-with-PyTorch-2E/Chapter16/images_of_videos/20250513_163002_INF_2/frame391.jpg\n",
      "step1\n",
      "step2\n",
      "24 masks 85\n"
     ]
    },
    {
     "name": "stderr",
     "output_type": "stream",
     "text": [
      "/var/folders/l6/3248mst11s9g2g013c04ff8w0000gp/T/ipykernel_65850/1634055033.py:74: RuntimeWarning: overflow encountered in scalar add\n",
      "  total_sum1 = int(sum(sum(chk1)) )\n"
     ]
    },
    {
     "name": "stdout",
     "output_type": "stream",
     "text": [
      "20 85 completed\n",
      "25 /Users/prdubey/Documents/code/AI_proj/Modern-Computer-Vision-with-PyTorch-2E/Chapter16/images_of_videos/20250513_163002_INF_2/frame385.jpg\n",
      "step1\n",
      "step2\n",
      "25 masks 86\n"
     ]
    },
    {
     "name": "stderr",
     "output_type": "stream",
     "text": [
      "/var/folders/l6/3248mst11s9g2g013c04ff8w0000gp/T/ipykernel_65850/1634055033.py:74: RuntimeWarning: overflow encountered in scalar add\n",
      "  total_sum1 = int(sum(sum(chk1)) )\n"
     ]
    },
    {
     "name": "stdout",
     "output_type": "stream",
     "text": [
      "20 86 completed\n",
      "26 /Users/prdubey/Documents/code/AI_proj/Modern-Computer-Vision-with-PyTorch-2E/Chapter16/images_of_videos/20250513_163002_INF_2/frame434.jpg\n",
      "step1\n",
      "step2\n",
      "26 masks 84\n"
     ]
    },
    {
     "name": "stderr",
     "output_type": "stream",
     "text": [
      "/var/folders/l6/3248mst11s9g2g013c04ff8w0000gp/T/ipykernel_65850/1634055033.py:74: RuntimeWarning: overflow encountered in scalar add\n",
      "  total_sum1 = int(sum(sum(chk1)) )\n"
     ]
    },
    {
     "name": "stdout",
     "output_type": "stream",
     "text": [
      "16 84 completed\n",
      "27 /Users/prdubey/Documents/code/AI_proj/Modern-Computer-Vision-with-PyTorch-2E/Chapter16/images_of_videos/20250513_163002_INF_2/frame352.jpg\n",
      "step1\n",
      "step2\n",
      "27 masks 64\n"
     ]
    },
    {
     "name": "stderr",
     "output_type": "stream",
     "text": [
      "/var/folders/l6/3248mst11s9g2g013c04ff8w0000gp/T/ipykernel_65850/1634055033.py:74: RuntimeWarning: overflow encountered in scalar add\n",
      "  total_sum1 = int(sum(sum(chk1)) )\n"
     ]
    },
    {
     "name": "stdout",
     "output_type": "stream",
     "text": [
      "11 64 completed\n",
      "28 /Users/prdubey/Documents/code/AI_proj/Modern-Computer-Vision-with-PyTorch-2E/Chapter16/images_of_videos/20250513_163002_INF_2/frame346.jpg\n",
      "step1\n",
      "step2\n",
      "28 masks 86\n"
     ]
    },
    {
     "name": "stderr",
     "output_type": "stream",
     "text": [
      "/var/folders/l6/3248mst11s9g2g013c04ff8w0000gp/T/ipykernel_65850/1634055033.py:74: RuntimeWarning: overflow encountered in scalar add\n",
      "  total_sum1 = int(sum(sum(chk1)) )\n"
     ]
    },
    {
     "name": "stdout",
     "output_type": "stream",
     "text": [
      "24 86 completed\n",
      "29 /Users/prdubey/Documents/code/AI_proj/Modern-Computer-Vision-with-PyTorch-2E/Chapter16/images_of_videos/20250513_163002_INF_2/frame420.jpg\n",
      "step1\n",
      "step2\n",
      "29 masks 82\n"
     ]
    },
    {
     "name": "stderr",
     "output_type": "stream",
     "text": [
      "/var/folders/l6/3248mst11s9g2g013c04ff8w0000gp/T/ipykernel_65850/1634055033.py:74: RuntimeWarning: overflow encountered in scalar add\n",
      "  total_sum1 = int(sum(sum(chk1)) )\n"
     ]
    },
    {
     "name": "stdout",
     "output_type": "stream",
     "text": [
      "16 82 completed\n",
      "30 /Users/prdubey/Documents/code/AI_proj/Modern-Computer-Vision-with-PyTorch-2E/Chapter16/images_of_videos/20250513_163002_INF_2/frame408.jpg\n",
      "step1\n",
      "step2\n",
      "30 masks 90\n"
     ]
    },
    {
     "name": "stderr",
     "output_type": "stream",
     "text": [
      "/var/folders/l6/3248mst11s9g2g013c04ff8w0000gp/T/ipykernel_65850/1634055033.py:74: RuntimeWarning: overflow encountered in scalar add\n",
      "  total_sum1 = int(sum(sum(chk1)) )\n"
     ]
    },
    {
     "name": "stdout",
     "output_type": "stream",
     "text": [
      "17 90 completed\n",
      "31 /Users/prdubey/Documents/code/AI_proj/Modern-Computer-Vision-with-PyTorch-2E/Chapter16/images_of_videos/20250513_163002_INF_2/frame409.jpg\n",
      "step1\n",
      "step2\n",
      "31 masks 84\n"
     ]
    },
    {
     "name": "stderr",
     "output_type": "stream",
     "text": [
      "/var/folders/l6/3248mst11s9g2g013c04ff8w0000gp/T/ipykernel_65850/1634055033.py:74: RuntimeWarning: overflow encountered in scalar add\n",
      "  total_sum1 = int(sum(sum(chk1)) )\n"
     ]
    },
    {
     "name": "stdout",
     "output_type": "stream",
     "text": [
      "15 84 completed\n",
      "32 /Users/prdubey/Documents/code/AI_proj/Modern-Computer-Vision-with-PyTorch-2E/Chapter16/images_of_videos/20250513_163002_INF_2/frame347.jpg\n",
      "step1\n",
      "step2\n",
      "32 masks 86\n"
     ]
    },
    {
     "name": "stderr",
     "output_type": "stream",
     "text": [
      "/var/folders/l6/3248mst11s9g2g013c04ff8w0000gp/T/ipykernel_65850/1634055033.py:74: RuntimeWarning: overflow encountered in scalar add\n",
      "  total_sum1 = int(sum(sum(chk1)) )\n"
     ]
    },
    {
     "name": "stdout",
     "output_type": "stream",
     "text": [
      "13 86 completed\n",
      "33 /Users/prdubey/Documents/code/AI_proj/Modern-Computer-Vision-with-PyTorch-2E/Chapter16/images_of_videos/20250513_163002_INF_2/frame421.jpg\n",
      "step1\n",
      "step2\n",
      "33 masks 87\n"
     ]
    },
    {
     "name": "stderr",
     "output_type": "stream",
     "text": [
      "/var/folders/l6/3248mst11s9g2g013c04ff8w0000gp/T/ipykernel_65850/1634055033.py:74: RuntimeWarning: overflow encountered in scalar add\n",
      "  total_sum1 = int(sum(sum(chk1)) )\n"
     ]
    },
    {
     "name": "stdout",
     "output_type": "stream",
     "text": [
      "13 87 completed\n",
      "34 /Users/prdubey/Documents/code/AI_proj/Modern-Computer-Vision-with-PyTorch-2E/Chapter16/images_of_videos/20250513_163002_INF_2/frame435.jpg\n",
      "step1\n",
      "step2\n",
      "34 masks 83\n"
     ]
    },
    {
     "name": "stderr",
     "output_type": "stream",
     "text": [
      "/var/folders/l6/3248mst11s9g2g013c04ff8w0000gp/T/ipykernel_65850/1634055033.py:74: RuntimeWarning: overflow encountered in scalar add\n",
      "  total_sum1 = int(sum(sum(chk1)) )\n"
     ]
    },
    {
     "name": "stdout",
     "output_type": "stream",
     "text": [
      "16 83 completed\n",
      "35 /Users/prdubey/Documents/code/AI_proj/Modern-Computer-Vision-with-PyTorch-2E/Chapter16/images_of_videos/20250513_163002_INF_2/frame353.jpg\n",
      "step1\n",
      "step2\n",
      "35 masks 79\n"
     ]
    },
    {
     "name": "stderr",
     "output_type": "stream",
     "text": [
      "/var/folders/l6/3248mst11s9g2g013c04ff8w0000gp/T/ipykernel_65850/1634055033.py:74: RuntimeWarning: overflow encountered in scalar add\n",
      "  total_sum1 = int(sum(sum(chk1)) )\n"
     ]
    },
    {
     "name": "stdout",
     "output_type": "stream",
     "text": [
      "14 79 completed\n",
      "36 /Users/prdubey/Documents/code/AI_proj/Modern-Computer-Vision-with-PyTorch-2E/Chapter16/images_of_videos/20250513_163002_INF_2/frame384.jpg\n",
      "step1\n",
      "step2\n",
      "36 masks 79\n"
     ]
    },
    {
     "name": "stderr",
     "output_type": "stream",
     "text": [
      "/var/folders/l6/3248mst11s9g2g013c04ff8w0000gp/T/ipykernel_65850/1634055033.py:74: RuntimeWarning: overflow encountered in scalar add\n",
      "  total_sum1 = int(sum(sum(chk1)) )\n"
     ]
    },
    {
     "name": "stdout",
     "output_type": "stream",
     "text": [
      "24 79 completed\n",
      "37 /Users/prdubey/Documents/code/AI_proj/Modern-Computer-Vision-with-PyTorch-2E/Chapter16/images_of_videos/20250513_163002_INF_2/frame390.jpg\n",
      "step1\n",
      "step2\n",
      "37 masks 89\n"
     ]
    },
    {
     "name": "stderr",
     "output_type": "stream",
     "text": [
      "/var/folders/l6/3248mst11s9g2g013c04ff8w0000gp/T/ipykernel_65850/1634055033.py:74: RuntimeWarning: overflow encountered in scalar add\n",
      "  total_sum1 = int(sum(sum(chk1)) )\n"
     ]
    },
    {
     "name": "stdout",
     "output_type": "stream",
     "text": [
      "19 89 completed\n",
      "38 /Users/prdubey/Documents/code/AI_proj/Modern-Computer-Vision-with-PyTorch-2E/Chapter16/images_of_videos/20250513_163002_INF_2/frame53.jpg\n",
      "step1\n",
      "step2\n",
      "38 masks 57\n"
     ]
    },
    {
     "name": "stderr",
     "output_type": "stream",
     "text": [
      "/var/folders/l6/3248mst11s9g2g013c04ff8w0000gp/T/ipykernel_65850/1634055033.py:74: RuntimeWarning: overflow encountered in scalar add\n",
      "  total_sum1 = int(sum(sum(chk1)) )\n"
     ]
    },
    {
     "name": "stdout",
     "output_type": "stream",
     "text": [
      "11 57 completed\n",
      "39 /Users/prdubey/Documents/code/AI_proj/Modern-Computer-Vision-with-PyTorch-2E/Chapter16/images_of_videos/20250513_163002_INF_2/frame179.jpg\n",
      "step1\n",
      "step2\n",
      "39 masks 82\n"
     ]
    },
    {
     "name": "stderr",
     "output_type": "stream",
     "text": [
      "/var/folders/l6/3248mst11s9g2g013c04ff8w0000gp/T/ipykernel_65850/1634055033.py:74: RuntimeWarning: overflow encountered in scalar add\n",
      "  total_sum1 = int(sum(sum(chk1)) )\n"
     ]
    },
    {
     "name": "stdout",
     "output_type": "stream",
     "text": [
      "14 82 completed\n",
      "40 /Users/prdubey/Documents/code/AI_proj/Modern-Computer-Vision-with-PyTorch-2E/Chapter16/images_of_videos/20250513_163002_INF_2/frame47.jpg\n",
      "step1\n",
      "step2\n",
      "40 masks 86\n"
     ]
    },
    {
     "name": "stderr",
     "output_type": "stream",
     "text": [
      "/var/folders/l6/3248mst11s9g2g013c04ff8w0000gp/T/ipykernel_65850/1634055033.py:74: RuntimeWarning: overflow encountered in scalar add\n",
      "  total_sum1 = int(sum(sum(chk1)) )\n"
     ]
    },
    {
     "name": "stdout",
     "output_type": "stream",
     "text": [
      "21 86 completed\n",
      "41 /Users/prdubey/Documents/code/AI_proj/Modern-Computer-Vision-with-PyTorch-2E/Chapter16/images_of_videos/20250513_163002_INF_2/frame623.jpg\n",
      "step1\n",
      "step2\n",
      "41 masks 80\n"
     ]
    },
    {
     "name": "stderr",
     "output_type": "stream",
     "text": [
      "/var/folders/l6/3248mst11s9g2g013c04ff8w0000gp/T/ipykernel_65850/1634055033.py:74: RuntimeWarning: overflow encountered in scalar add\n",
      "  total_sum1 = int(sum(sum(chk1)) )\n"
     ]
    },
    {
     "name": "stdout",
     "output_type": "stream",
     "text": [
      "15 80 completed\n",
      "42 /Users/prdubey/Documents/code/AI_proj/Modern-Computer-Vision-with-PyTorch-2E/Chapter16/images_of_videos/20250513_163002_INF_2/frame145.jpg\n",
      "step1\n",
      "step2\n",
      "42 masks 85\n"
     ]
    },
    {
     "name": "stderr",
     "output_type": "stream",
     "text": [
      "/var/folders/l6/3248mst11s9g2g013c04ff8w0000gp/T/ipykernel_65850/1634055033.py:74: RuntimeWarning: overflow encountered in scalar add\n",
      "  total_sum1 = int(sum(sum(chk1)) )\n"
     ]
    },
    {
     "name": "stdout",
     "output_type": "stream",
     "text": [
      "25 85 completed\n",
      "43 /Users/prdubey/Documents/code/AI_proj/Modern-Computer-Vision-with-PyTorch-2E/Chapter16/images_of_videos/20250513_163002_INF_2/frame151.jpg\n",
      "step1\n",
      "step2\n",
      "43 masks 86\n"
     ]
    },
    {
     "name": "stderr",
     "output_type": "stream",
     "text": [
      "/var/folders/l6/3248mst11s9g2g013c04ff8w0000gp/T/ipykernel_65850/1634055033.py:74: RuntimeWarning: overflow encountered in scalar add\n",
      "  total_sum1 = int(sum(sum(chk1)) )\n"
     ]
    },
    {
     "name": "stdout",
     "output_type": "stream",
     "text": [
      "18 86 completed\n",
      "44 /Users/prdubey/Documents/code/AI_proj/Modern-Computer-Vision-with-PyTorch-2E/Chapter16/images_of_videos/20250513_163002_INF_2/frame637.jpg\n",
      "step1\n",
      "step2\n",
      "44 masks 79\n"
     ]
    },
    {
     "name": "stderr",
     "output_type": "stream",
     "text": [
      "/var/folders/l6/3248mst11s9g2g013c04ff8w0000gp/T/ipykernel_65850/1634055033.py:74: RuntimeWarning: overflow encountered in scalar add\n",
      "  total_sum1 = int(sum(sum(chk1)) )\n"
     ]
    },
    {
     "name": "stdout",
     "output_type": "stream",
     "text": [
      "16 79 completed\n",
      "45 /Users/prdubey/Documents/code/AI_proj/Modern-Computer-Vision-with-PyTorch-2E/Chapter16/images_of_videos/20250513_163002_INF_2/frame804.jpg\n",
      "step1\n",
      "step2\n",
      "45 masks 80\n"
     ]
    },
    {
     "name": "stderr",
     "output_type": "stream",
     "text": [
      "/var/folders/l6/3248mst11s9g2g013c04ff8w0000gp/T/ipykernel_65850/1634055033.py:74: RuntimeWarning: overflow encountered in scalar add\n",
      "  total_sum1 = int(sum(sum(chk1)) )\n"
     ]
    },
    {
     "name": "stdout",
     "output_type": "stream",
     "text": [
      "18 80 completed\n",
      "46 /Users/prdubey/Documents/code/AI_proj/Modern-Computer-Vision-with-PyTorch-2E/Chapter16/images_of_videos/20250513_163002_INF_2/frame90.jpg\n",
      "step1\n",
      "step2\n",
      "46 masks 81\n"
     ]
    },
    {
     "name": "stderr",
     "output_type": "stream",
     "text": [
      "/var/folders/l6/3248mst11s9g2g013c04ff8w0000gp/T/ipykernel_65850/1634055033.py:74: RuntimeWarning: overflow encountered in scalar add\n",
      "  total_sum1 = int(sum(sum(chk1)) )\n"
     ]
    },
    {
     "name": "stdout",
     "output_type": "stream",
     "text": [
      "16 81 completed\n",
      "47 /Users/prdubey/Documents/code/AI_proj/Modern-Computer-Vision-with-PyTorch-2E/Chapter16/images_of_videos/20250513_163002_INF_2/frame810.jpg\n",
      "step1\n",
      "step2\n",
      "47 masks 80\n"
     ]
    },
    {
     "name": "stderr",
     "output_type": "stream",
     "text": [
      "/var/folders/l6/3248mst11s9g2g013c04ff8w0000gp/T/ipykernel_65850/1634055033.py:74: RuntimeWarning: overflow encountered in scalar add\n",
      "  total_sum1 = int(sum(sum(chk1)) )\n"
     ]
    },
    {
     "name": "stdout",
     "output_type": "stream",
     "text": [
      "15 80 completed\n",
      "48 /Users/prdubey/Documents/code/AI_proj/Modern-Computer-Vision-with-PyTorch-2E/Chapter16/images_of_videos/20250513_163002_INF_2/frame84.jpg\n",
      "step1\n",
      "step2\n",
      "48 masks 85\n"
     ]
    },
    {
     "name": "stderr",
     "output_type": "stream",
     "text": [
      "/var/folders/l6/3248mst11s9g2g013c04ff8w0000gp/T/ipykernel_65850/1634055033.py:74: RuntimeWarning: overflow encountered in scalar add\n",
      "  total_sum1 = int(sum(sum(chk1)) )\n"
     ]
    },
    {
     "name": "stdout",
     "output_type": "stream",
     "text": [
      "22 85 completed\n",
      "49 /Users/prdubey/Documents/code/AI_proj/Modern-Computer-Vision-with-PyTorch-2E/Chapter16/images_of_videos/20250513_163002_INF_2/frame838.jpg\n"
     ]
    },
    {
     "name": "stderr",
     "output_type": "stream",
     "text": [
      "Premature end of JPEG file\n"
     ]
    },
    {
     "name": "stdout",
     "output_type": "stream",
     "text": [
      "step1\n",
      "step2\n",
      "49 masks 60\n"
     ]
    },
    {
     "name": "stderr",
     "output_type": "stream",
     "text": [
      "/var/folders/l6/3248mst11s9g2g013c04ff8w0000gp/T/ipykernel_65850/1634055033.py:74: RuntimeWarning: overflow encountered in scalar add\n",
      "  total_sum1 = int(sum(sum(chk1)) )\n"
     ]
    },
    {
     "name": "stdout",
     "output_type": "stream",
     "text": [
      "19 60 completed\n",
      "50 /Users/prdubey/Documents/code/AI_proj/Modern-Computer-Vision-with-PyTorch-2E/Chapter16/images_of_videos/20250513_163002_INF_2/frame186.jpg\n",
      "step1\n",
      "step2\n",
      "50 masks 84\n"
     ]
    },
    {
     "name": "stderr",
     "output_type": "stream",
     "text": [
      "/var/folders/l6/3248mst11s9g2g013c04ff8w0000gp/T/ipykernel_65850/1634055033.py:74: RuntimeWarning: overflow encountered in scalar add\n",
      "  total_sum1 = int(sum(sum(chk1)) )\n"
     ]
    },
    {
     "name": "stdout",
     "output_type": "stream",
     "text": [
      "18 84 completed\n",
      "51 /Users/prdubey/Documents/code/AI_proj/Modern-Computer-Vision-with-PyTorch-2E/Chapter16/images_of_videos/20250513_163002_INF_2/frame192.jpg\n",
      "step1\n",
      "step2\n",
      "51 masks 85\n"
     ]
    },
    {
     "name": "stderr",
     "output_type": "stream",
     "text": [
      "/var/folders/l6/3248mst11s9g2g013c04ff8w0000gp/T/ipykernel_65850/1634055033.py:74: RuntimeWarning: overflow encountered in scalar add\n",
      "  total_sum1 = int(sum(sum(chk1)) )\n"
     ]
    },
    {
     "name": "stdout",
     "output_type": "stream",
     "text": [
      "15 85 completed\n",
      "52 /Users/prdubey/Documents/code/AI_proj/Modern-Computer-Vision-with-PyTorch-2E/Chapter16/images_of_videos/20250513_163002_INF_2/frame757.jpg\n",
      "step1\n",
      "step2\n",
      "52 masks 84\n"
     ]
    },
    {
     "name": "stderr",
     "output_type": "stream",
     "text": [
      "/var/folders/l6/3248mst11s9g2g013c04ff8w0000gp/T/ipykernel_65850/1634055033.py:74: RuntimeWarning: overflow encountered in scalar add\n",
      "  total_sum1 = int(sum(sum(chk1)) )\n"
     ]
    },
    {
     "name": "stdout",
     "output_type": "stream",
     "text": [
      "14 84 completed\n",
      "53 /Users/prdubey/Documents/code/AI_proj/Modern-Computer-Vision-with-PyTorch-2E/Chapter16/images_of_videos/20250513_163002_INF_2/frame743.jpg\n",
      "step1\n",
      "step2\n",
      "53 masks 80\n"
     ]
    },
    {
     "name": "stderr",
     "output_type": "stream",
     "text": [
      "/var/folders/l6/3248mst11s9g2g013c04ff8w0000gp/T/ipykernel_65850/1634055033.py:74: RuntimeWarning: overflow encountered in scalar add\n",
      "  total_sum1 = int(sum(sum(chk1)) )\n"
     ]
    },
    {
     "name": "stdout",
     "output_type": "stream",
     "text": [
      "13 80 completed\n",
      "54 /Users/prdubey/Documents/code/AI_proj/Modern-Computer-Vision-with-PyTorch-2E/Chapter16/images_of_videos/20250513_163002_INF_2/frame794.jpg\n",
      "step1\n",
      "step2\n",
      "54 masks 82\n"
     ]
    },
    {
     "name": "stderr",
     "output_type": "stream",
     "text": [
      "/var/folders/l6/3248mst11s9g2g013c04ff8w0000gp/T/ipykernel_65850/1634055033.py:74: RuntimeWarning: overflow encountered in scalar add\n",
      "  total_sum1 = int(sum(sum(chk1)) )\n"
     ]
    },
    {
     "name": "stdout",
     "output_type": "stream",
     "text": [
      "14 82 completed\n",
      "55 /Users/prdubey/Documents/code/AI_proj/Modern-Computer-Vision-with-PyTorch-2E/Chapter16/images_of_videos/20250513_163002_INF_2/frame780.jpg\n",
      "step1\n",
      "step2\n",
      "55 masks 79\n"
     ]
    },
    {
     "name": "stderr",
     "output_type": "stream",
     "text": [
      "/var/folders/l6/3248mst11s9g2g013c04ff8w0000gp/T/ipykernel_65850/1634055033.py:74: RuntimeWarning: overflow encountered in scalar add\n",
      "  total_sum1 = int(sum(sum(chk1)) )\n"
     ]
    },
    {
     "name": "stdout",
     "output_type": "stream",
     "text": [
      "13 79 completed\n",
      "56 /Users/prdubey/Documents/code/AI_proj/Modern-Computer-Vision-with-PyTorch-2E/Chapter16/images_of_videos/20250513_163002_INF_2/frame569.jpg\n",
      "step1\n",
      "step2\n",
      "56 masks 81\n"
     ]
    },
    {
     "name": "stderr",
     "output_type": "stream",
     "text": [
      "/var/folders/l6/3248mst11s9g2g013c04ff8w0000gp/T/ipykernel_65850/1634055033.py:74: RuntimeWarning: overflow encountered in scalar add\n",
      "  total_sum1 = int(sum(sum(chk1)) )\n"
     ]
    },
    {
     "name": "stdout",
     "output_type": "stream",
     "text": [
      "21 81 completed\n",
      "57 /Users/prdubey/Documents/code/AI_proj/Modern-Computer-Vision-with-PyTorch-2E/Chapter16/images_of_videos/20250513_163002_INF_2/frame233.jpg\n",
      "step1\n",
      "step2\n",
      "57 masks 88\n"
     ]
    },
    {
     "name": "stderr",
     "output_type": "stream",
     "text": [
      "/var/folders/l6/3248mst11s9g2g013c04ff8w0000gp/T/ipykernel_65850/1634055033.py:74: RuntimeWarning: overflow encountered in scalar add\n",
      "  total_sum1 = int(sum(sum(chk1)) )\n"
     ]
    },
    {
     "name": "stdout",
     "output_type": "stream",
     "text": [
      "19 88 completed\n",
      "58 /Users/prdubey/Documents/code/AI_proj/Modern-Computer-Vision-with-PyTorch-2E/Chapter16/images_of_videos/20250513_163002_INF_2/frame555.jpg\n",
      "step1\n",
      "step2\n",
      "58 masks 75\n"
     ]
    },
    {
     "name": "stderr",
     "output_type": "stream",
     "text": [
      "/var/folders/l6/3248mst11s9g2g013c04ff8w0000gp/T/ipykernel_65850/1634055033.py:74: RuntimeWarning: overflow encountered in scalar add\n",
      "  total_sum1 = int(sum(sum(chk1)) )\n"
     ]
    },
    {
     "name": "stdout",
     "output_type": "stream",
     "text": [
      "24 75 completed\n",
      "59 /Users/prdubey/Documents/code/AI_proj/Modern-Computer-Vision-with-PyTorch-2E/Chapter16/images_of_videos/20250513_163002_INF_2/frame541.jpg\n",
      "step1\n",
      "step2\n",
      "59 masks 90\n"
     ]
    },
    {
     "name": "stderr",
     "output_type": "stream",
     "text": [
      "/var/folders/l6/3248mst11s9g2g013c04ff8w0000gp/T/ipykernel_65850/1634055033.py:74: RuntimeWarning: overflow encountered in scalar add\n",
      "  total_sum1 = int(sum(sum(chk1)) )\n"
     ]
    },
    {
     "name": "stdout",
     "output_type": "stream",
     "text": [
      "14 90 completed\n",
      "60 /Users/prdubey/Documents/code/AI_proj/Modern-Computer-Vision-with-PyTorch-2E/Chapter16/images_of_videos/20250513_163002_INF_2/frame227.jpg\n",
      "step1\n",
      "step2\n",
      "60 masks 77\n"
     ]
    },
    {
     "name": "stderr",
     "output_type": "stream",
     "text": [
      "/var/folders/l6/3248mst11s9g2g013c04ff8w0000gp/T/ipykernel_65850/1634055033.py:74: RuntimeWarning: overflow encountered in scalar add\n",
      "  total_sum1 = int(sum(sum(chk1)) )\n"
     ]
    },
    {
     "name": "stdout",
     "output_type": "stream",
     "text": [
      "15 77 completed\n",
      "61 /Users/prdubey/Documents/code/AI_proj/Modern-Computer-Vision-with-PyTorch-2E/Chapter16/images_of_videos/20250513_163002_INF_2/frame596.jpg\n",
      "step1\n",
      "step2\n",
      "61 masks 70\n"
     ]
    },
    {
     "name": "stderr",
     "output_type": "stream",
     "text": [
      "/var/folders/l6/3248mst11s9g2g013c04ff8w0000gp/T/ipykernel_65850/1634055033.py:74: RuntimeWarning: overflow encountered in scalar add\n",
      "  total_sum1 = int(sum(sum(chk1)) )\n"
     ]
    },
    {
     "name": "stdout",
     "output_type": "stream",
     "text": [
      "9 70 completed\n",
      "62 /Users/prdubey/Documents/code/AI_proj/Modern-Computer-Vision-with-PyTorch-2E/Chapter16/images_of_videos/20250513_163002_INF_2/frame582.jpg\n",
      "step1\n",
      "step2\n",
      "62 masks 77\n"
     ]
    },
    {
     "name": "stderr",
     "output_type": "stream",
     "text": [
      "/var/folders/l6/3248mst11s9g2g013c04ff8w0000gp/T/ipykernel_65850/1634055033.py:74: RuntimeWarning: overflow encountered in scalar add\n",
      "  total_sum1 = int(sum(sum(chk1)) )\n"
     ]
    },
    {
     "name": "stdout",
     "output_type": "stream",
     "text": [
      "21 77 completed\n",
      "63 /Users/prdubey/Documents/code/AI_proj/Modern-Computer-Vision-with-PyTorch-2E/Chapter16/images_of_videos/20250513_163002_INF_2/frame594.jpg\n",
      "step1\n",
      "step2\n",
      "63 masks 78\n"
     ]
    },
    {
     "name": "stderr",
     "output_type": "stream",
     "text": [
      "/var/folders/l6/3248mst11s9g2g013c04ff8w0000gp/T/ipykernel_65850/1634055033.py:74: RuntimeWarning: overflow encountered in scalar add\n",
      "  total_sum1 = int(sum(sum(chk1)) )\n"
     ]
    },
    {
     "name": "stdout",
     "output_type": "stream",
     "text": [
      "14 78 completed\n",
      "64 /Users/prdubey/Documents/code/AI_proj/Modern-Computer-Vision-with-PyTorch-2E/Chapter16/images_of_videos/20250513_163002_INF_2/frame580.jpg\n",
      "step1\n",
      "step2\n",
      "64 masks 77\n"
     ]
    },
    {
     "name": "stderr",
     "output_type": "stream",
     "text": [
      "/var/folders/l6/3248mst11s9g2g013c04ff8w0000gp/T/ipykernel_65850/1634055033.py:74: RuntimeWarning: overflow encountered in scalar add\n",
      "  total_sum1 = int(sum(sum(chk1)) )\n"
     ]
    },
    {
     "name": "stdout",
     "output_type": "stream",
     "text": [
      "16 77 completed\n",
      "65 /Users/prdubey/Documents/code/AI_proj/Modern-Computer-Vision-with-PyTorch-2E/Chapter16/images_of_videos/20250513_163002_INF_2/frame557.jpg\n",
      "step1\n",
      "step2\n",
      "65 masks 79\n"
     ]
    },
    {
     "name": "stderr",
     "output_type": "stream",
     "text": [
      "/var/folders/l6/3248mst11s9g2g013c04ff8w0000gp/T/ipykernel_65850/1634055033.py:74: RuntimeWarning: overflow encountered in scalar add\n",
      "  total_sum1 = int(sum(sum(chk1)) )\n"
     ]
    },
    {
     "name": "stdout",
     "output_type": "stream",
     "text": [
      "17 79 completed\n",
      "66 /Users/prdubey/Documents/code/AI_proj/Modern-Computer-Vision-with-PyTorch-2E/Chapter16/images_of_videos/20250513_163002_INF_2/frame231.jpg\n",
      "step1\n",
      "step2\n",
      "66 masks 80\n"
     ]
    },
    {
     "name": "stderr",
     "output_type": "stream",
     "text": [
      "/var/folders/l6/3248mst11s9g2g013c04ff8w0000gp/T/ipykernel_65850/1634055033.py:74: RuntimeWarning: overflow encountered in scalar add\n",
      "  total_sum1 = int(sum(sum(chk1)) )\n"
     ]
    },
    {
     "name": "stdout",
     "output_type": "stream",
     "text": [
      "20 80 completed\n",
      "67 /Users/prdubey/Documents/code/AI_proj/Modern-Computer-Vision-with-PyTorch-2E/Chapter16/images_of_videos/20250513_163002_INF_2/frame225.jpg\n",
      "step1\n",
      "step2\n",
      "67 masks 76\n"
     ]
    },
    {
     "name": "stderr",
     "output_type": "stream",
     "text": [
      "/var/folders/l6/3248mst11s9g2g013c04ff8w0000gp/T/ipykernel_65850/1634055033.py:74: RuntimeWarning: overflow encountered in scalar add\n",
      "  total_sum1 = int(sum(sum(chk1)) )\n"
     ]
    },
    {
     "name": "stdout",
     "output_type": "stream",
     "text": [
      "19 76 completed\n",
      "68 /Users/prdubey/Documents/code/AI_proj/Modern-Computer-Vision-with-PyTorch-2E/Chapter16/images_of_videos/20250513_163002_INF_2/frame543.jpg\n",
      "step1\n",
      "step2\n",
      "68 masks 87\n"
     ]
    },
    {
     "name": "stderr",
     "output_type": "stream",
     "text": [
      "/var/folders/l6/3248mst11s9g2g013c04ff8w0000gp/T/ipykernel_65850/1634055033.py:74: RuntimeWarning: overflow encountered in scalar add\n",
      "  total_sum1 = int(sum(sum(chk1)) )\n"
     ]
    },
    {
     "name": "stdout",
     "output_type": "stream",
     "text": [
      "15 87 completed\n",
      "69 /Users/prdubey/Documents/code/AI_proj/Modern-Computer-Vision-with-PyTorch-2E/Chapter16/images_of_videos/20250513_163002_INF_2/frame219.jpg\n",
      "step1\n",
      "step2\n",
      "69 masks 82\n"
     ]
    },
    {
     "name": "stderr",
     "output_type": "stream",
     "text": [
      "/var/folders/l6/3248mst11s9g2g013c04ff8w0000gp/T/ipykernel_65850/1634055033.py:74: RuntimeWarning: overflow encountered in scalar add\n",
      "  total_sum1 = int(sum(sum(chk1)) )\n"
     ]
    },
    {
     "name": "stdout",
     "output_type": "stream",
     "text": [
      "14 82 completed\n",
      "70 /Users/prdubey/Documents/code/AI_proj/Modern-Computer-Vision-with-PyTorch-2E/Chapter16/images_of_videos/20250513_163002_INF_2/frame796.jpg\n",
      "step1\n",
      "step2\n",
      "70 masks 85\n"
     ]
    },
    {
     "name": "stderr",
     "output_type": "stream",
     "text": [
      "/var/folders/l6/3248mst11s9g2g013c04ff8w0000gp/T/ipykernel_65850/1634055033.py:74: RuntimeWarning: overflow encountered in scalar add\n",
      "  total_sum1 = int(sum(sum(chk1)) )\n"
     ]
    },
    {
     "name": "stdout",
     "output_type": "stream",
     "text": [
      "18 85 completed\n",
      "71 /Users/prdubey/Documents/code/AI_proj/Modern-Computer-Vision-with-PyTorch-2E/Chapter16/images_of_videos/20250513_163002_INF_2/frame782.jpg\n",
      "step1\n",
      "step2\n",
      "71 masks 83\n"
     ]
    },
    {
     "name": "stderr",
     "output_type": "stream",
     "text": [
      "/var/folders/l6/3248mst11s9g2g013c04ff8w0000gp/T/ipykernel_65850/1634055033.py:74: RuntimeWarning: overflow encountered in scalar add\n",
      "  total_sum1 = int(sum(sum(chk1)) )\n"
     ]
    },
    {
     "name": "stdout",
     "output_type": "stream",
     "text": [
      "20 83 completed\n",
      "72 /Users/prdubey/Documents/code/AI_proj/Modern-Computer-Vision-with-PyTorch-2E/Chapter16/images_of_videos/20250513_163002_INF_2/frame755.jpg\n",
      "step1\n",
      "step2\n",
      "72 masks 83\n"
     ]
    },
    {
     "name": "stderr",
     "output_type": "stream",
     "text": [
      "/var/folders/l6/3248mst11s9g2g013c04ff8w0000gp/T/ipykernel_65850/1634055033.py:74: RuntimeWarning: overflow encountered in scalar add\n",
      "  total_sum1 = int(sum(sum(chk1)) )\n"
     ]
    },
    {
     "name": "stdout",
     "output_type": "stream",
     "text": [
      "24 83 completed\n",
      "73 /Users/prdubey/Documents/code/AI_proj/Modern-Computer-Vision-with-PyTorch-2E/Chapter16/images_of_videos/20250513_163002_INF_2/frame741.jpg\n",
      "step1\n",
      "step2\n",
      "73 masks 74\n"
     ]
    },
    {
     "name": "stderr",
     "output_type": "stream",
     "text": [
      "/var/folders/l6/3248mst11s9g2g013c04ff8w0000gp/T/ipykernel_65850/1634055033.py:74: RuntimeWarning: overflow encountered in scalar add\n",
      "  total_sum1 = int(sum(sum(chk1)) )\n"
     ]
    },
    {
     "name": "stdout",
     "output_type": "stream",
     "text": [
      "13 74 completed\n",
      "74 /Users/prdubey/Documents/code/AI_proj/Modern-Computer-Vision-with-PyTorch-2E/Chapter16/images_of_videos/20250513_163002_INF_2/frame769.jpg\n",
      "step1\n",
      "step2\n",
      "74 masks 82\n"
     ]
    },
    {
     "name": "stderr",
     "output_type": "stream",
     "text": [
      "/var/folders/l6/3248mst11s9g2g013c04ff8w0000gp/T/ipykernel_65850/1634055033.py:74: RuntimeWarning: overflow encountered in scalar add\n",
      "  total_sum1 = int(sum(sum(chk1)) )\n"
     ]
    },
    {
     "name": "stdout",
     "output_type": "stream",
     "text": [
      "20 82 completed\n",
      "75 /Users/prdubey/Documents/code/AI_proj/Modern-Computer-Vision-with-PyTorch-2E/Chapter16/images_of_videos/20250513_163002_INF_2/frame184.jpg\n",
      "step1\n",
      "step2\n",
      "75 masks 85\n"
     ]
    },
    {
     "name": "stderr",
     "output_type": "stream",
     "text": [
      "/var/folders/l6/3248mst11s9g2g013c04ff8w0000gp/T/ipykernel_65850/1634055033.py:74: RuntimeWarning: overflow encountered in scalar add\n",
      "  total_sum1 = int(sum(sum(chk1)) )\n"
     ]
    },
    {
     "name": "stdout",
     "output_type": "stream",
     "text": [
      "22 85 completed\n",
      "76 /Users/prdubey/Documents/code/AI_proj/Modern-Computer-Vision-with-PyTorch-2E/Chapter16/images_of_videos/20250513_163002_INF_2/frame190.jpg\n",
      "step1\n",
      "step2\n",
      "76 masks 79\n"
     ]
    },
    {
     "name": "stderr",
     "output_type": "stream",
     "text": [
      "/var/folders/l6/3248mst11s9g2g013c04ff8w0000gp/T/ipykernel_65850/1634055033.py:74: RuntimeWarning: overflow encountered in scalar add\n",
      "  total_sum1 = int(sum(sum(chk1)) )\n"
     ]
    },
    {
     "name": "stdout",
     "output_type": "stream",
     "text": [
      "11 79 completed\n",
      "77 /Users/prdubey/Documents/code/AI_proj/Modern-Computer-Vision-with-PyTorch-2E/Chapter16/images_of_videos/20250513_163002_INF_2/frame92.jpg\n",
      "step1\n",
      "step2\n",
      "77 masks 87\n"
     ]
    },
    {
     "name": "stderr",
     "output_type": "stream",
     "text": [
      "/var/folders/l6/3248mst11s9g2g013c04ff8w0000gp/T/ipykernel_65850/1634055033.py:74: RuntimeWarning: overflow encountered in scalar add\n",
      "  total_sum1 = int(sum(sum(chk1)) )\n"
     ]
    },
    {
     "name": "stdout",
     "output_type": "stream",
     "text": [
      "18 87 completed\n",
      "78 /Users/prdubey/Documents/code/AI_proj/Modern-Computer-Vision-with-PyTorch-2E/Chapter16/images_of_videos/20250513_163002_INF_2/frame806.jpg\n",
      "step1\n",
      "step2\n",
      "78 masks 79\n"
     ]
    },
    {
     "name": "stderr",
     "output_type": "stream",
     "text": [
      "/var/folders/l6/3248mst11s9g2g013c04ff8w0000gp/T/ipykernel_65850/1634055033.py:74: RuntimeWarning: overflow encountered in scalar add\n",
      "  total_sum1 = int(sum(sum(chk1)) )\n"
     ]
    },
    {
     "name": "stdout",
     "output_type": "stream",
     "text": [
      "22 79 completed\n",
      "79 /Users/prdubey/Documents/code/AI_proj/Modern-Computer-Vision-with-PyTorch-2E/Chapter16/images_of_videos/20250513_163002_INF_2/frame86.jpg\n",
      "step1\n",
      "step2\n",
      "79 masks 81\n"
     ]
    },
    {
     "name": "stderr",
     "output_type": "stream",
     "text": [
      "/var/folders/l6/3248mst11s9g2g013c04ff8w0000gp/T/ipykernel_65850/1634055033.py:74: RuntimeWarning: overflow encountered in scalar add\n",
      "  total_sum1 = int(sum(sum(chk1)) )\n"
     ]
    },
    {
     "name": "stdout",
     "output_type": "stream",
     "text": [
      "18 81 completed\n",
      "80 /Users/prdubey/Documents/code/AI_proj/Modern-Computer-Vision-with-PyTorch-2E/Chapter16/images_of_videos/20250513_163002_INF_2/frame812.jpg\n",
      "step1\n",
      "step2\n",
      "80 masks 82\n"
     ]
    },
    {
     "name": "stderr",
     "output_type": "stream",
     "text": [
      "/var/folders/l6/3248mst11s9g2g013c04ff8w0000gp/T/ipykernel_65850/1634055033.py:74: RuntimeWarning: overflow encountered in scalar add\n",
      "  total_sum1 = int(sum(sum(chk1)) )\n"
     ]
    },
    {
     "name": "stdout",
     "output_type": "stream",
     "text": [
      "17 82 completed\n",
      "81 /Users/prdubey/Documents/code/AI_proj/Modern-Computer-Vision-with-PyTorch-2E/Chapter16/images_of_videos/20250513_163002_INF_2/frame147.jpg\n",
      "step1\n",
      "step2\n",
      "81 masks 83\n"
     ]
    },
    {
     "name": "stderr",
     "output_type": "stream",
     "text": [
      "/var/folders/l6/3248mst11s9g2g013c04ff8w0000gp/T/ipykernel_65850/1634055033.py:74: RuntimeWarning: overflow encountered in scalar add\n",
      "  total_sum1 = int(sum(sum(chk1)) )\n"
     ]
    },
    {
     "name": "stdout",
     "output_type": "stream",
     "text": [
      "14 83 completed\n",
      "82 /Users/prdubey/Documents/code/AI_proj/Modern-Computer-Vision-with-PyTorch-2E/Chapter16/images_of_videos/20250513_163002_INF_2/frame621.jpg\n",
      "step1\n",
      "step2\n",
      "82 masks 79\n"
     ]
    },
    {
     "name": "stderr",
     "output_type": "stream",
     "text": [
      "/var/folders/l6/3248mst11s9g2g013c04ff8w0000gp/T/ipykernel_65850/1634055033.py:74: RuntimeWarning: overflow encountered in scalar add\n",
      "  total_sum1 = int(sum(sum(chk1)) )\n"
     ]
    },
    {
     "name": "stdout",
     "output_type": "stream",
     "text": [
      "12 79 completed\n",
      "83 /Users/prdubey/Documents/code/AI_proj/Modern-Computer-Vision-with-PyTorch-2E/Chapter16/images_of_videos/20250513_163002_INF_2/frame635.jpg\n",
      "step1\n",
      "step2\n",
      "83 masks 53\n"
     ]
    },
    {
     "name": "stderr",
     "output_type": "stream",
     "text": [
      "/var/folders/l6/3248mst11s9g2g013c04ff8w0000gp/T/ipykernel_65850/1634055033.py:74: RuntimeWarning: overflow encountered in scalar add\n",
      "  total_sum1 = int(sum(sum(chk1)) )\n"
     ]
    },
    {
     "name": "stdout",
     "output_type": "stream",
     "text": [
      "9 53 completed\n",
      "84 /Users/prdubey/Documents/code/AI_proj/Modern-Computer-Vision-with-PyTorch-2E/Chapter16/images_of_videos/20250513_163002_INF_2/frame79.jpg\n",
      "step1\n",
      "step2\n",
      "84 masks 86\n"
     ]
    },
    {
     "name": "stderr",
     "output_type": "stream",
     "text": [
      "/var/folders/l6/3248mst11s9g2g013c04ff8w0000gp/T/ipykernel_65850/1634055033.py:74: RuntimeWarning: overflow encountered in scalar add\n",
      "  total_sum1 = int(sum(sum(chk1)) )\n"
     ]
    },
    {
     "name": "stdout",
     "output_type": "stream",
     "text": [
      "20 86 completed\n",
      "85 /Users/prdubey/Documents/code/AI_proj/Modern-Computer-Vision-with-PyTorch-2E/Chapter16/images_of_videos/20250513_163002_INF_2/frame153.jpg\n",
      "step1\n",
      "step2\n",
      "85 masks 87\n"
     ]
    },
    {
     "name": "stderr",
     "output_type": "stream",
     "text": [
      "/var/folders/l6/3248mst11s9g2g013c04ff8w0000gp/T/ipykernel_65850/1634055033.py:74: RuntimeWarning: overflow encountered in scalar add\n",
      "  total_sum1 = int(sum(sum(chk1)) )\n"
     ]
    },
    {
     "name": "stdout",
     "output_type": "stream",
     "text": [
      "16 87 completed\n",
      "86 /Users/prdubey/Documents/code/AI_proj/Modern-Computer-Vision-with-PyTorch-2E/Chapter16/images_of_videos/20250513_163002_INF_2/frame51.jpg\n",
      "step1\n",
      "step2\n",
      "86 masks 83\n"
     ]
    },
    {
     "name": "stderr",
     "output_type": "stream",
     "text": [
      "/var/folders/l6/3248mst11s9g2g013c04ff8w0000gp/T/ipykernel_65850/1634055033.py:74: RuntimeWarning: overflow encountered in scalar add\n",
      "  total_sum1 = int(sum(sum(chk1)) )\n"
     ]
    },
    {
     "name": "stdout",
     "output_type": "stream",
     "text": [
      "19 83 completed\n",
      "87 /Users/prdubey/Documents/code/AI_proj/Modern-Computer-Vision-with-PyTorch-2E/Chapter16/images_of_videos/20250513_163002_INF_2/frame45.jpg\n",
      "step1\n",
      "step2\n",
      "87 masks 88\n"
     ]
    },
    {
     "name": "stderr",
     "output_type": "stream",
     "text": [
      "/var/folders/l6/3248mst11s9g2g013c04ff8w0000gp/T/ipykernel_65850/1634055033.py:74: RuntimeWarning: overflow encountered in scalar add\n",
      "  total_sum1 = int(sum(sum(chk1)) )\n"
     ]
    },
    {
     "name": "stdout",
     "output_type": "stream",
     "text": [
      "17 88 completed\n",
      "88 /Users/prdubey/Documents/code/AI_proj/Modern-Computer-Vision-with-PyTorch-2E/Chapter16/images_of_videos/20250513_163002_INF_2/frame609.jpg\n",
      "step1\n",
      "step2\n",
      "88 masks 79\n"
     ]
    },
    {
     "name": "stderr",
     "output_type": "stream",
     "text": [
      "/var/folders/l6/3248mst11s9g2g013c04ff8w0000gp/T/ipykernel_65850/1634055033.py:74: RuntimeWarning: overflow encountered in scalar add\n",
      "  total_sum1 = int(sum(sum(chk1)) )\n"
     ]
    },
    {
     "name": "stdout",
     "output_type": "stream",
     "text": [
      "14 79 completed\n",
      "89 /Users/prdubey/Documents/code/AI_proj/Modern-Computer-Vision-with-PyTorch-2E/Chapter16/images_of_videos/20250513_163002_INF_2/frame386.jpg\n",
      "step1\n",
      "step2\n",
      "89 masks 90\n"
     ]
    },
    {
     "name": "stderr",
     "output_type": "stream",
     "text": [
      "/var/folders/l6/3248mst11s9g2g013c04ff8w0000gp/T/ipykernel_65850/1634055033.py:74: RuntimeWarning: overflow encountered in scalar add\n",
      "  total_sum1 = int(sum(sum(chk1)) )\n"
     ]
    },
    {
     "name": "stdout",
     "output_type": "stream",
     "text": [
      "21 90 completed\n",
      "90 /Users/prdubey/Documents/code/AI_proj/Modern-Computer-Vision-with-PyTorch-2E/Chapter16/images_of_videos/20250513_163002_INF_2/frame392.jpg\n",
      "step1\n",
      "step2\n",
      "90 masks 91\n"
     ]
    },
    {
     "name": "stderr",
     "output_type": "stream",
     "text": [
      "/var/folders/l6/3248mst11s9g2g013c04ff8w0000gp/T/ipykernel_65850/1634055033.py:74: RuntimeWarning: overflow encountered in scalar add\n",
      "  total_sum1 = int(sum(sum(chk1)) )\n"
     ]
    },
    {
     "name": "stdout",
     "output_type": "stream",
     "text": [
      "21 91 completed\n",
      "91 /Users/prdubey/Documents/code/AI_proj/Modern-Computer-Vision-with-PyTorch-2E/Chapter16/images_of_videos/20250513_163002_INF_2/frame423.jpg\n",
      "step1\n",
      "step2\n",
      "91 masks 91\n"
     ]
    },
    {
     "name": "stderr",
     "output_type": "stream",
     "text": [
      "/var/folders/l6/3248mst11s9g2g013c04ff8w0000gp/T/ipykernel_65850/1634055033.py:74: RuntimeWarning: overflow encountered in scalar add\n",
      "  total_sum1 = int(sum(sum(chk1)) )\n"
     ]
    },
    {
     "name": "stdout",
     "output_type": "stream",
     "text": [
      "23 91 completed\n",
      "92 /Users/prdubey/Documents/code/AI_proj/Modern-Computer-Vision-with-PyTorch-2E/Chapter16/images_of_videos/20250513_163002_INF_2/frame345.jpg\n",
      "step1\n",
      "step2\n",
      "92 masks 85\n"
     ]
    },
    {
     "name": "stderr",
     "output_type": "stream",
     "text": [
      "/var/folders/l6/3248mst11s9g2g013c04ff8w0000gp/T/ipykernel_65850/1634055033.py:74: RuntimeWarning: overflow encountered in scalar add\n",
      "  total_sum1 = int(sum(sum(chk1)) )\n"
     ]
    },
    {
     "name": "stdout",
     "output_type": "stream",
     "text": [
      "19 85 completed\n",
      "93 /Users/prdubey/Documents/code/AI_proj/Modern-Computer-Vision-with-PyTorch-2E/Chapter16/images_of_videos/20250513_163002_INF_2/frame351.jpg\n",
      "step1\n",
      "step2\n",
      "93 masks 80\n"
     ]
    },
    {
     "name": "stderr",
     "output_type": "stream",
     "text": [
      "/var/folders/l6/3248mst11s9g2g013c04ff8w0000gp/T/ipykernel_65850/1634055033.py:74: RuntimeWarning: overflow encountered in scalar add\n",
      "  total_sum1 = int(sum(sum(chk1)) )\n"
     ]
    },
    {
     "name": "stdout",
     "output_type": "stream",
     "text": [
      "14 80 completed\n",
      "94 /Users/prdubey/Documents/code/AI_proj/Modern-Computer-Vision-with-PyTorch-2E/Chapter16/images_of_videos/20250513_163002_INF_2/frame437.jpg\n",
      "step1\n",
      "step2\n",
      "94 masks 69\n"
     ]
    },
    {
     "name": "stderr",
     "output_type": "stream",
     "text": [
      "/var/folders/l6/3248mst11s9g2g013c04ff8w0000gp/T/ipykernel_65850/1634055033.py:74: RuntimeWarning: overflow encountered in scalar add\n",
      "  total_sum1 = int(sum(sum(chk1)) )\n"
     ]
    },
    {
     "name": "stdout",
     "output_type": "stream",
     "text": [
      "14 69 completed\n",
      "95 /Users/prdubey/Documents/code/AI_proj/Modern-Computer-Vision-with-PyTorch-2E/Chapter16/images_of_videos/20250513_163002_INF_2/frame379.jpg\n",
      "step1\n",
      "step2\n",
      "95 masks 83\n"
     ]
    },
    {
     "name": "stderr",
     "output_type": "stream",
     "text": [
      "/var/folders/l6/3248mst11s9g2g013c04ff8w0000gp/T/ipykernel_65850/1634055033.py:74: RuntimeWarning: overflow encountered in scalar add\n",
      "  total_sum1 = int(sum(sum(chk1)) )\n"
     ]
    },
    {
     "name": "stdout",
     "output_type": "stream",
     "text": [
      "17 83 completed\n",
      "96 /Users/prdubey/Documents/code/AI_proj/Modern-Computer-Vision-with-PyTorch-2E/Chapter16/images_of_videos/20250513_163002_INF_2/frame378.jpg\n",
      "step1\n",
      "step2\n",
      "96 masks 85\n"
     ]
    },
    {
     "name": "stderr",
     "output_type": "stream",
     "text": [
      "/var/folders/l6/3248mst11s9g2g013c04ff8w0000gp/T/ipykernel_65850/1634055033.py:74: RuntimeWarning: overflow encountered in scalar add\n",
      "  total_sum1 = int(sum(sum(chk1)) )\n"
     ]
    },
    {
     "name": "stdout",
     "output_type": "stream",
     "text": [
      "17 85 completed\n",
      "97 /Users/prdubey/Documents/code/AI_proj/Modern-Computer-Vision-with-PyTorch-2E/Chapter16/images_of_videos/20250513_163002_INF_2/frame350.jpg\n",
      "step1\n",
      "step2\n",
      "97 masks 82\n"
     ]
    },
    {
     "name": "stderr",
     "output_type": "stream",
     "text": [
      "/var/folders/l6/3248mst11s9g2g013c04ff8w0000gp/T/ipykernel_65850/1634055033.py:74: RuntimeWarning: overflow encountered in scalar add\n",
      "  total_sum1 = int(sum(sum(chk1)) )\n"
     ]
    },
    {
     "name": "stdout",
     "output_type": "stream",
     "text": [
      "19 82 completed\n",
      "98 /Users/prdubey/Documents/code/AI_proj/Modern-Computer-Vision-with-PyTorch-2E/Chapter16/images_of_videos/20250513_163002_INF_2/frame436.jpg\n",
      "step1\n",
      "step2\n",
      "98 masks 79\n"
     ]
    },
    {
     "name": "stderr",
     "output_type": "stream",
     "text": [
      "/var/folders/l6/3248mst11s9g2g013c04ff8w0000gp/T/ipykernel_65850/1634055033.py:74: RuntimeWarning: overflow encountered in scalar add\n",
      "  total_sum1 = int(sum(sum(chk1)) )\n"
     ]
    },
    {
     "name": "stdout",
     "output_type": "stream",
     "text": [
      "19 79 completed\n",
      "99 /Users/prdubey/Documents/code/AI_proj/Modern-Computer-Vision-with-PyTorch-2E/Chapter16/images_of_videos/20250513_163002_INF_2/frame422.jpg\n",
      "step1\n",
      "step2\n",
      "99 masks 90\n"
     ]
    },
    {
     "name": "stderr",
     "output_type": "stream",
     "text": [
      "/var/folders/l6/3248mst11s9g2g013c04ff8w0000gp/T/ipykernel_65850/1634055033.py:74: RuntimeWarning: overflow encountered in scalar add\n",
      "  total_sum1 = int(sum(sum(chk1)) )\n"
     ]
    },
    {
     "name": "stdout",
     "output_type": "stream",
     "text": [
      "14 90 completed\n",
      "100 /Users/prdubey/Documents/code/AI_proj/Modern-Computer-Vision-with-PyTorch-2E/Chapter16/images_of_videos/20250513_163002_INF_2/frame344.jpg\n",
      "step1\n",
      "step2\n",
      "100 masks 84\n"
     ]
    },
    {
     "name": "stderr",
     "output_type": "stream",
     "text": [
      "/var/folders/l6/3248mst11s9g2g013c04ff8w0000gp/T/ipykernel_65850/1634055033.py:74: RuntimeWarning: overflow encountered in scalar add\n",
      "  total_sum1 = int(sum(sum(chk1)) )\n"
     ]
    },
    {
     "name": "stdout",
     "output_type": "stream",
     "text": [
      "16 84 completed\n",
      "101 /Users/prdubey/Documents/code/AI_proj/Modern-Computer-Vision-with-PyTorch-2E/Chapter16/images_of_videos/20250513_163002_INF_2/frame393.jpg\n",
      "step1\n",
      "step2\n",
      "101 masks 88\n"
     ]
    },
    {
     "name": "stderr",
     "output_type": "stream",
     "text": [
      "/var/folders/l6/3248mst11s9g2g013c04ff8w0000gp/T/ipykernel_65850/1634055033.py:74: RuntimeWarning: overflow encountered in scalar add\n",
      "  total_sum1 = int(sum(sum(chk1)) )\n"
     ]
    },
    {
     "name": "stdout",
     "output_type": "stream",
     "text": [
      "21 88 completed\n",
      "102 /Users/prdubey/Documents/code/AI_proj/Modern-Computer-Vision-with-PyTorch-2E/Chapter16/images_of_videos/20250513_163002_INF_2/frame387.jpg\n",
      "step1\n",
      "step2\n",
      "102 masks 90\n"
     ]
    },
    {
     "name": "stderr",
     "output_type": "stream",
     "text": [
      "/var/folders/l6/3248mst11s9g2g013c04ff8w0000gp/T/ipykernel_65850/1634055033.py:74: RuntimeWarning: overflow encountered in scalar add\n",
      "  total_sum1 = int(sum(sum(chk1)) )\n"
     ]
    },
    {
     "name": "stdout",
     "output_type": "stream",
     "text": [
      "21 90 completed\n",
      "103 /Users/prdubey/Documents/code/AI_proj/Modern-Computer-Vision-with-PyTorch-2E/Chapter16/images_of_videos/20250513_163002_INF_2/frame608.jpg\n",
      "step1\n",
      "step2\n",
      "103 masks 78\n"
     ]
    },
    {
     "name": "stderr",
     "output_type": "stream",
     "text": [
      "/var/folders/l6/3248mst11s9g2g013c04ff8w0000gp/T/ipykernel_65850/1634055033.py:74: RuntimeWarning: overflow encountered in scalar add\n",
      "  total_sum1 = int(sum(sum(chk1)) )\n"
     ]
    },
    {
     "name": "stdout",
     "output_type": "stream",
     "text": [
      "13 78 completed\n",
      "104 /Users/prdubey/Documents/code/AI_proj/Modern-Computer-Vision-with-PyTorch-2E/Chapter16/images_of_videos/20250513_163002_INF_2/frame44.jpg\n",
      "step1\n",
      "step2\n",
      "104 masks 87\n"
     ]
    },
    {
     "name": "stderr",
     "output_type": "stream",
     "text": [
      "/var/folders/l6/3248mst11s9g2g013c04ff8w0000gp/T/ipykernel_65850/1634055033.py:74: RuntimeWarning: overflow encountered in scalar add\n",
      "  total_sum1 = int(sum(sum(chk1)) )\n"
     ]
    },
    {
     "name": "stdout",
     "output_type": "stream",
     "text": [
      "15 87 completed\n",
      "105 /Users/prdubey/Documents/code/AI_proj/Modern-Computer-Vision-with-PyTorch-2E/Chapter16/images_of_videos/20250513_163002_INF_2/frame50.jpg\n",
      "step1\n",
      "step2\n",
      "105 masks 84\n"
     ]
    },
    {
     "name": "stderr",
     "output_type": "stream",
     "text": [
      "/var/folders/l6/3248mst11s9g2g013c04ff8w0000gp/T/ipykernel_65850/1634055033.py:74: RuntimeWarning: overflow encountered in scalar add\n",
      "  total_sum1 = int(sum(sum(chk1)) )\n"
     ]
    },
    {
     "name": "stdout",
     "output_type": "stream",
     "text": [
      "16 84 completed\n",
      "106 /Users/prdubey/Documents/code/AI_proj/Modern-Computer-Vision-with-PyTorch-2E/Chapter16/images_of_videos/20250513_163002_INF_2/frame78.jpg\n",
      "step1\n",
      "step2\n",
      "106 masks 99\n"
     ]
    },
    {
     "name": "stderr",
     "output_type": "stream",
     "text": [
      "/var/folders/l6/3248mst11s9g2g013c04ff8w0000gp/T/ipykernel_65850/1634055033.py:74: RuntimeWarning: overflow encountered in scalar add\n",
      "  total_sum1 = int(sum(sum(chk1)) )\n"
     ]
    },
    {
     "name": "stdout",
     "output_type": "stream",
     "text": [
      "28 99 completed\n",
      "107 /Users/prdubey/Documents/code/AI_proj/Modern-Computer-Vision-with-PyTorch-2E/Chapter16/images_of_videos/20250513_163002_INF_2/frame634.jpg\n",
      "step1\n",
      "step2\n",
      "107 masks 83\n"
     ]
    },
    {
     "name": "stderr",
     "output_type": "stream",
     "text": [
      "/var/folders/l6/3248mst11s9g2g013c04ff8w0000gp/T/ipykernel_65850/1634055033.py:74: RuntimeWarning: overflow encountered in scalar add\n",
      "  total_sum1 = int(sum(sum(chk1)) )\n"
     ]
    },
    {
     "name": "stdout",
     "output_type": "stream",
     "text": [
      "23 83 completed\n",
      "108 /Users/prdubey/Documents/code/AI_proj/Modern-Computer-Vision-with-PyTorch-2E/Chapter16/images_of_videos/20250513_163002_INF_2/frame152.jpg\n",
      "step1\n",
      "step2\n",
      "108 masks 82\n"
     ]
    },
    {
     "name": "stderr",
     "output_type": "stream",
     "text": [
      "/var/folders/l6/3248mst11s9g2g013c04ff8w0000gp/T/ipykernel_65850/1634055033.py:74: RuntimeWarning: overflow encountered in scalar add\n",
      "  total_sum1 = int(sum(sum(chk1)) )\n"
     ]
    },
    {
     "name": "stdout",
     "output_type": "stream",
     "text": [
      "11 82 completed\n",
      "109 /Users/prdubey/Documents/code/AI_proj/Modern-Computer-Vision-with-PyTorch-2E/Chapter16/images_of_videos/20250513_163002_INF_2/frame146.jpg\n",
      "step1\n",
      "step2\n",
      "109 masks 84\n"
     ]
    },
    {
     "name": "stderr",
     "output_type": "stream",
     "text": [
      "/var/folders/l6/3248mst11s9g2g013c04ff8w0000gp/T/ipykernel_65850/1634055033.py:74: RuntimeWarning: overflow encountered in scalar add\n",
      "  total_sum1 = int(sum(sum(chk1)) )\n"
     ]
    },
    {
     "name": "stdout",
     "output_type": "stream",
     "text": [
      "23 84 completed\n",
      "110 /Users/prdubey/Documents/code/AI_proj/Modern-Computer-Vision-with-PyTorch-2E/Chapter16/images_of_videos/20250513_163002_INF_2/frame620.jpg\n",
      "step1\n",
      "step2\n",
      "110 masks 77\n"
     ]
    },
    {
     "name": "stderr",
     "output_type": "stream",
     "text": [
      "/var/folders/l6/3248mst11s9g2g013c04ff8w0000gp/T/ipykernel_65850/1634055033.py:74: RuntimeWarning: overflow encountered in scalar add\n",
      "  total_sum1 = int(sum(sum(chk1)) )\n"
     ]
    },
    {
     "name": "stdout",
     "output_type": "stream",
     "text": [
      "13 77 completed\n",
      "111 /Users/prdubey/Documents/code/AI_proj/Modern-Computer-Vision-with-PyTorch-2E/Chapter16/images_of_videos/20250513_163002_INF_2/frame813.jpg\n",
      "step1\n",
      "step2\n",
      "111 masks 87\n"
     ]
    },
    {
     "name": "stderr",
     "output_type": "stream",
     "text": [
      "/var/folders/l6/3248mst11s9g2g013c04ff8w0000gp/T/ipykernel_65850/1634055033.py:74: RuntimeWarning: overflow encountered in scalar add\n",
      "  total_sum1 = int(sum(sum(chk1)) )\n"
     ]
    },
    {
     "name": "stdout",
     "output_type": "stream",
     "text": [
      "22 87 completed\n",
      "112 /Users/prdubey/Documents/code/AI_proj/Modern-Computer-Vision-with-PyTorch-2E/Chapter16/images_of_videos/20250513_163002_INF_2/frame87.jpg\n",
      "step1\n",
      "step2\n",
      "112 masks 83\n"
     ]
    },
    {
     "name": "stderr",
     "output_type": "stream",
     "text": [
      "/var/folders/l6/3248mst11s9g2g013c04ff8w0000gp/T/ipykernel_65850/1634055033.py:74: RuntimeWarning: overflow encountered in scalar add\n",
      "  total_sum1 = int(sum(sum(chk1)) )\n"
     ]
    },
    {
     "name": "stdout",
     "output_type": "stream",
     "text": [
      "20 83 completed\n",
      "113 /Users/prdubey/Documents/code/AI_proj/Modern-Computer-Vision-with-PyTorch-2E/Chapter16/images_of_videos/20250513_163002_INF_2/frame807.jpg\n",
      "step1\n",
      "step2\n",
      "113 masks 66\n"
     ]
    },
    {
     "name": "stderr",
     "output_type": "stream",
     "text": [
      "/var/folders/l6/3248mst11s9g2g013c04ff8w0000gp/T/ipykernel_65850/1634055033.py:74: RuntimeWarning: overflow encountered in scalar add\n",
      "  total_sum1 = int(sum(sum(chk1)) )\n"
     ]
    },
    {
     "name": "stdout",
     "output_type": "stream",
     "text": [
      "16 66 completed\n",
      "114 /Users/prdubey/Documents/code/AI_proj/Modern-Computer-Vision-with-PyTorch-2E/Chapter16/images_of_videos/20250513_163002_INF_2/frame93.jpg\n",
      "step1\n",
      "step2\n",
      "114 masks 87\n"
     ]
    },
    {
     "name": "stderr",
     "output_type": "stream",
     "text": [
      "/var/folders/l6/3248mst11s9g2g013c04ff8w0000gp/T/ipykernel_65850/1634055033.py:74: RuntimeWarning: overflow encountered in scalar add\n",
      "  total_sum1 = int(sum(sum(chk1)) )\n"
     ]
    },
    {
     "name": "stdout",
     "output_type": "stream",
     "text": [
      "20 87 completed\n",
      "115 /Users/prdubey/Documents/code/AI_proj/Modern-Computer-Vision-with-PyTorch-2E/Chapter16/images_of_videos/20250513_163002_INF_2/frame191.jpg\n",
      "step1\n",
      "step2\n",
      "115 masks 83\n"
     ]
    },
    {
     "name": "stderr",
     "output_type": "stream",
     "text": [
      "/var/folders/l6/3248mst11s9g2g013c04ff8w0000gp/T/ipykernel_65850/1634055033.py:74: RuntimeWarning: overflow encountered in scalar add\n",
      "  total_sum1 = int(sum(sum(chk1)) )\n"
     ]
    },
    {
     "name": "stdout",
     "output_type": "stream",
     "text": [
      "17 83 completed\n",
      "116 /Users/prdubey/Documents/code/AI_proj/Modern-Computer-Vision-with-PyTorch-2E/Chapter16/images_of_videos/20250513_163002_INF_2/frame185.jpg\n",
      "step1\n",
      "step2\n",
      "116 masks 91\n"
     ]
    },
    {
     "name": "stderr",
     "output_type": "stream",
     "text": [
      "/var/folders/l6/3248mst11s9g2g013c04ff8w0000gp/T/ipykernel_65850/1634055033.py:74: RuntimeWarning: overflow encountered in scalar add\n",
      "  total_sum1 = int(sum(sum(chk1)) )\n"
     ]
    },
    {
     "name": "stdout",
     "output_type": "stream",
     "text": [
      "15 91 completed\n",
      "117 /Users/prdubey/Documents/code/AI_proj/Modern-Computer-Vision-with-PyTorch-2E/Chapter16/images_of_videos/20250513_163002_INF_2/frame768.jpg\n",
      "step1\n",
      "step2\n",
      "117 masks 81\n"
     ]
    },
    {
     "name": "stderr",
     "output_type": "stream",
     "text": [
      "/var/folders/l6/3248mst11s9g2g013c04ff8w0000gp/T/ipykernel_65850/1634055033.py:74: RuntimeWarning: overflow encountered in scalar add\n",
      "  total_sum1 = int(sum(sum(chk1)) )\n"
     ]
    },
    {
     "name": "stdout",
     "output_type": "stream",
     "text": [
      "17 81 completed\n",
      "118 /Users/prdubey/Documents/code/AI_proj/Modern-Computer-Vision-with-PyTorch-2E/Chapter16/images_of_videos/20250513_163002_INF_2/frame740.jpg\n",
      "step1\n",
      "step2\n",
      "118 masks 60\n"
     ]
    },
    {
     "name": "stderr",
     "output_type": "stream",
     "text": [
      "/var/folders/l6/3248mst11s9g2g013c04ff8w0000gp/T/ipykernel_65850/1634055033.py:74: RuntimeWarning: overflow encountered in scalar add\n",
      "  total_sum1 = int(sum(sum(chk1)) )\n"
     ]
    },
    {
     "name": "stdout",
     "output_type": "stream",
     "text": [
      "16 60 completed\n",
      "119 /Users/prdubey/Documents/code/AI_proj/Modern-Computer-Vision-with-PyTorch-2E/Chapter16/images_of_videos/20250513_163002_INF_2/frame754.jpg\n",
      "step1\n",
      "step2\n",
      "119 masks 82\n"
     ]
    },
    {
     "name": "stderr",
     "output_type": "stream",
     "text": [
      "/var/folders/l6/3248mst11s9g2g013c04ff8w0000gp/T/ipykernel_65850/1634055033.py:74: RuntimeWarning: overflow encountered in scalar add\n",
      "  total_sum1 = int(sum(sum(chk1)) )\n"
     ]
    },
    {
     "name": "stdout",
     "output_type": "stream",
     "text": [
      "21 82 completed\n",
      "120 /Users/prdubey/Documents/code/AI_proj/Modern-Computer-Vision-with-PyTorch-2E/Chapter16/images_of_videos/20250513_163002_INF_2/frame783.jpg\n",
      "step1\n",
      "step2\n",
      "120 masks 74\n"
     ]
    },
    {
     "name": "stderr",
     "output_type": "stream",
     "text": [
      "/var/folders/l6/3248mst11s9g2g013c04ff8w0000gp/T/ipykernel_65850/1634055033.py:74: RuntimeWarning: overflow encountered in scalar add\n",
      "  total_sum1 = int(sum(sum(chk1)) )\n"
     ]
    },
    {
     "name": "stdout",
     "output_type": "stream",
     "text": [
      "20 74 completed\n",
      "121 /Users/prdubey/Documents/code/AI_proj/Modern-Computer-Vision-with-PyTorch-2E/Chapter16/images_of_videos/20250513_163002_INF_2/frame797.jpg\n",
      "step1\n",
      "step2\n",
      "121 masks 82\n"
     ]
    },
    {
     "name": "stderr",
     "output_type": "stream",
     "text": [
      "/var/folders/l6/3248mst11s9g2g013c04ff8w0000gp/T/ipykernel_65850/1634055033.py:74: RuntimeWarning: overflow encountered in scalar add\n",
      "  total_sum1 = int(sum(sum(chk1)) )\n"
     ]
    },
    {
     "name": "stdout",
     "output_type": "stream",
     "text": [
      "20 82 completed\n",
      "122 /Users/prdubey/Documents/code/AI_proj/Modern-Computer-Vision-with-PyTorch-2E/Chapter16/images_of_videos/20250513_163002_INF_2/frame218.jpg\n",
      "step1\n",
      "step2\n",
      "122 masks 82\n"
     ]
    },
    {
     "name": "stderr",
     "output_type": "stream",
     "text": [
      "/var/folders/l6/3248mst11s9g2g013c04ff8w0000gp/T/ipykernel_65850/1634055033.py:74: RuntimeWarning: overflow encountered in scalar add\n",
      "  total_sum1 = int(sum(sum(chk1)) )\n"
     ]
    },
    {
     "name": "stdout",
     "output_type": "stream",
     "text": [
      "18 82 completed\n",
      "123 /Users/prdubey/Documents/code/AI_proj/Modern-Computer-Vision-with-PyTorch-2E/Chapter16/images_of_videos/20250513_163002_INF_2/frame224.jpg\n",
      "step1\n",
      "step2\n",
      "123 masks 56\n"
     ]
    },
    {
     "name": "stderr",
     "output_type": "stream",
     "text": [
      "/var/folders/l6/3248mst11s9g2g013c04ff8w0000gp/T/ipykernel_65850/1634055033.py:74: RuntimeWarning: overflow encountered in scalar add\n",
      "  total_sum1 = int(sum(sum(chk1)) )\n"
     ]
    },
    {
     "name": "stdout",
     "output_type": "stream",
     "text": [
      "17 56 completed\n",
      "124 /Users/prdubey/Documents/code/AI_proj/Modern-Computer-Vision-with-PyTorch-2E/Chapter16/images_of_videos/20250513_163002_INF_2/frame542.jpg\n",
      "step1\n",
      "step2\n",
      "124 masks 83\n"
     ]
    },
    {
     "name": "stderr",
     "output_type": "stream",
     "text": [
      "/var/folders/l6/3248mst11s9g2g013c04ff8w0000gp/T/ipykernel_65850/1634055033.py:74: RuntimeWarning: overflow encountered in scalar add\n",
      "  total_sum1 = int(sum(sum(chk1)) )\n"
     ]
    },
    {
     "name": "stdout",
     "output_type": "stream",
     "text": [
      "18 83 completed\n",
      "125 /Users/prdubey/Documents/code/AI_proj/Modern-Computer-Vision-with-PyTorch-2E/Chapter16/images_of_videos/20250513_163002_INF_2/frame556.jpg\n",
      "step1\n",
      "step2\n",
      "125 masks 80\n"
     ]
    },
    {
     "name": "stderr",
     "output_type": "stream",
     "text": [
      "/var/folders/l6/3248mst11s9g2g013c04ff8w0000gp/T/ipykernel_65850/1634055033.py:74: RuntimeWarning: overflow encountered in scalar add\n",
      "  total_sum1 = int(sum(sum(chk1)) )\n"
     ]
    },
    {
     "name": "stdout",
     "output_type": "stream",
     "text": [
      "13 80 completed\n",
      "126 /Users/prdubey/Documents/code/AI_proj/Modern-Computer-Vision-with-PyTorch-2E/Chapter16/images_of_videos/20250513_163002_INF_2/frame230.jpg\n",
      "step1\n",
      "step2\n",
      "126 masks 76\n"
     ]
    },
    {
     "name": "stderr",
     "output_type": "stream",
     "text": [
      "/var/folders/l6/3248mst11s9g2g013c04ff8w0000gp/T/ipykernel_65850/1634055033.py:74: RuntimeWarning: overflow encountered in scalar add\n",
      "  total_sum1 = int(sum(sum(chk1)) )\n"
     ]
    },
    {
     "name": "stdout",
     "output_type": "stream",
     "text": [
      "18 76 completed\n",
      "127 /Users/prdubey/Documents/code/AI_proj/Modern-Computer-Vision-with-PyTorch-2E/Chapter16/images_of_videos/20250513_163002_INF_2/frame581.jpg\n",
      "step1\n",
      "step2\n",
      "127 masks 78\n"
     ]
    },
    {
     "name": "stderr",
     "output_type": "stream",
     "text": [
      "/var/folders/l6/3248mst11s9g2g013c04ff8w0000gp/T/ipykernel_65850/1634055033.py:74: RuntimeWarning: overflow encountered in scalar add\n",
      "  total_sum1 = int(sum(sum(chk1)) )\n"
     ]
    },
    {
     "name": "stdout",
     "output_type": "stream",
     "text": [
      "17 78 completed\n",
      "128 /Users/prdubey/Documents/code/AI_proj/Modern-Computer-Vision-with-PyTorch-2E/Chapter16/images_of_videos/20250513_163002_INF_2/frame595.jpg\n",
      "step1\n",
      "step2\n",
      "128 masks 74\n"
     ]
    },
    {
     "name": "stderr",
     "output_type": "stream",
     "text": [
      "/var/folders/l6/3248mst11s9g2g013c04ff8w0000gp/T/ipykernel_65850/1634055033.py:74: RuntimeWarning: overflow encountered in scalar add\n",
      "  total_sum1 = int(sum(sum(chk1)) )\n"
     ]
    },
    {
     "name": "stdout",
     "output_type": "stream",
     "text": [
      "15 74 completed\n",
      "129 /Users/prdubey/Documents/code/AI_proj/Modern-Computer-Vision-with-PyTorch-2E/Chapter16/images_of_videos/20250513_163002_INF_2/frame591.jpg\n",
      "step1\n",
      "step2\n",
      "129 masks 72\n"
     ]
    },
    {
     "name": "stderr",
     "output_type": "stream",
     "text": [
      "/var/folders/l6/3248mst11s9g2g013c04ff8w0000gp/T/ipykernel_65850/1634055033.py:74: RuntimeWarning: overflow encountered in scalar add\n",
      "  total_sum1 = int(sum(sum(chk1)) )\n"
     ]
    },
    {
     "name": "stdout",
     "output_type": "stream",
     "text": [
      "17 72 completed\n",
      "130 /Users/prdubey/Documents/code/AI_proj/Modern-Computer-Vision-with-PyTorch-2E/Chapter16/images_of_videos/20250513_163002_INF_2/frame585.jpg\n",
      "step1\n",
      "step2\n",
      "130 masks 82\n"
     ]
    },
    {
     "name": "stderr",
     "output_type": "stream",
     "text": [
      "/var/folders/l6/3248mst11s9g2g013c04ff8w0000gp/T/ipykernel_65850/1634055033.py:74: RuntimeWarning: overflow encountered in scalar add\n",
      "  total_sum1 = int(sum(sum(chk1)) )\n"
     ]
    },
    {
     "name": "stdout",
     "output_type": "stream",
     "text": [
      "17 82 completed\n",
      "131 /Users/prdubey/Documents/code/AI_proj/Modern-Computer-Vision-with-PyTorch-2E/Chapter16/images_of_videos/20250513_163002_INF_2/frame208.jpg\n",
      "step1\n",
      "step2\n",
      "131 masks 90\n"
     ]
    },
    {
     "name": "stderr",
     "output_type": "stream",
     "text": [
      "/var/folders/l6/3248mst11s9g2g013c04ff8w0000gp/T/ipykernel_65850/1634055033.py:74: RuntimeWarning: overflow encountered in scalar add\n",
      "  total_sum1 = int(sum(sum(chk1)) )\n"
     ]
    },
    {
     "name": "stdout",
     "output_type": "stream",
     "text": [
      "25 90 completed\n",
      "132 /Users/prdubey/Documents/code/AI_proj/Modern-Computer-Vision-with-PyTorch-2E/Chapter16/images_of_videos/20250513_163002_INF_2/frame234.jpg\n",
      "step1\n",
      "step2\n",
      "132 masks 85\n"
     ]
    },
    {
     "name": "stderr",
     "output_type": "stream",
     "text": [
      "/var/folders/l6/3248mst11s9g2g013c04ff8w0000gp/T/ipykernel_65850/1634055033.py:74: RuntimeWarning: overflow encountered in scalar add\n",
      "  total_sum1 = int(sum(sum(chk1)) )\n"
     ]
    },
    {
     "name": "stdout",
     "output_type": "stream",
     "text": [
      "22 85 completed\n",
      "133 /Users/prdubey/Documents/code/AI_proj/Modern-Computer-Vision-with-PyTorch-2E/Chapter16/images_of_videos/20250513_163002_INF_2/frame552.jpg\n",
      "step1\n",
      "step2\n",
      "133 masks 81\n"
     ]
    },
    {
     "name": "stderr",
     "output_type": "stream",
     "text": [
      "/var/folders/l6/3248mst11s9g2g013c04ff8w0000gp/T/ipykernel_65850/1634055033.py:74: RuntimeWarning: overflow encountered in scalar add\n",
      "  total_sum1 = int(sum(sum(chk1)) )\n"
     ]
    },
    {
     "name": "stdout",
     "output_type": "stream",
     "text": [
      "15 81 completed\n",
      "134 /Users/prdubey/Documents/code/AI_proj/Modern-Computer-Vision-with-PyTorch-2E/Chapter16/images_of_videos/20250513_163002_INF_2/frame546.jpg\n",
      "step1\n",
      "step2\n",
      "134 masks 81\n"
     ]
    },
    {
     "name": "stderr",
     "output_type": "stream",
     "text": [
      "/var/folders/l6/3248mst11s9g2g013c04ff8w0000gp/T/ipykernel_65850/1634055033.py:74: RuntimeWarning: overflow encountered in scalar add\n",
      "  total_sum1 = int(sum(sum(chk1)) )\n"
     ]
    },
    {
     "name": "stdout",
     "output_type": "stream",
     "text": [
      "14 81 completed\n",
      "135 /Users/prdubey/Documents/code/AI_proj/Modern-Computer-Vision-with-PyTorch-2E/Chapter16/images_of_videos/20250513_163002_INF_2/frame220.jpg\n",
      "step1\n",
      "step2\n",
      "135 masks 79\n"
     ]
    },
    {
     "name": "stderr",
     "output_type": "stream",
     "text": [
      "/var/folders/l6/3248mst11s9g2g013c04ff8w0000gp/T/ipykernel_65850/1634055033.py:74: RuntimeWarning: overflow encountered in scalar add\n",
      "  total_sum1 = int(sum(sum(chk1)) )\n"
     ]
    },
    {
     "name": "stdout",
     "output_type": "stream",
     "text": [
      "18 79 completed\n",
      "136 /Users/prdubey/Documents/code/AI_proj/Modern-Computer-Vision-with-PyTorch-2E/Chapter16/images_of_videos/20250513_163002_INF_2/frame793.jpg\n",
      "step1\n",
      "step2\n",
      "136 masks 87\n"
     ]
    },
    {
     "name": "stderr",
     "output_type": "stream",
     "text": [
      "/var/folders/l6/3248mst11s9g2g013c04ff8w0000gp/T/ipykernel_65850/1634055033.py:74: RuntimeWarning: overflow encountered in scalar add\n",
      "  total_sum1 = int(sum(sum(chk1)) )\n"
     ]
    },
    {
     "name": "stdout",
     "output_type": "stream",
     "text": [
      "12 87 completed\n",
      "137 /Users/prdubey/Documents/code/AI_proj/Modern-Computer-Vision-with-PyTorch-2E/Chapter16/images_of_videos/20250513_163002_INF_2/frame787.jpg\n",
      "step1\n",
      "step2\n",
      "137 masks 84\n"
     ]
    },
    {
     "name": "stderr",
     "output_type": "stream",
     "text": [
      "/var/folders/l6/3248mst11s9g2g013c04ff8w0000gp/T/ipykernel_65850/1634055033.py:74: RuntimeWarning: overflow encountered in scalar add\n",
      "  total_sum1 = int(sum(sum(chk1)) )\n"
     ]
    },
    {
     "name": "stdout",
     "output_type": "stream",
     "text": [
      "16 84 completed\n",
      "138 /Users/prdubey/Documents/code/AI_proj/Modern-Computer-Vision-with-PyTorch-2E/Chapter16/images_of_videos/20250513_163002_INF_2/frame778.jpg\n",
      "step1\n",
      "step2\n",
      "138 masks 86\n"
     ]
    },
    {
     "name": "stderr",
     "output_type": "stream",
     "text": [
      "/var/folders/l6/3248mst11s9g2g013c04ff8w0000gp/T/ipykernel_65850/1634055033.py:74: RuntimeWarning: overflow encountered in scalar add\n",
      "  total_sum1 = int(sum(sum(chk1)) )\n"
     ]
    },
    {
     "name": "stdout",
     "output_type": "stream",
     "text": [
      "16 86 completed\n",
      "139 /Users/prdubey/Documents/code/AI_proj/Modern-Computer-Vision-with-PyTorch-2E/Chapter16/images_of_videos/20250513_163002_INF_2/frame750.jpg\n",
      "step1\n",
      "step2\n",
      "139 masks 81\n"
     ]
    },
    {
     "name": "stderr",
     "output_type": "stream",
     "text": [
      "/var/folders/l6/3248mst11s9g2g013c04ff8w0000gp/T/ipykernel_65850/1634055033.py:74: RuntimeWarning: overflow encountered in scalar add\n",
      "  total_sum1 = int(sum(sum(chk1)) )\n"
     ]
    },
    {
     "name": "stdout",
     "output_type": "stream",
     "text": [
      "14 81 completed\n",
      "140 /Users/prdubey/Documents/code/AI_proj/Modern-Computer-Vision-with-PyTorch-2E/Chapter16/images_of_videos/20250513_163002_INF_2/frame744.jpg\n",
      "step1\n",
      "step2\n",
      "140 masks 77\n"
     ]
    },
    {
     "name": "stderr",
     "output_type": "stream",
     "text": [
      "/var/folders/l6/3248mst11s9g2g013c04ff8w0000gp/T/ipykernel_65850/1634055033.py:74: RuntimeWarning: overflow encountered in scalar add\n",
      "  total_sum1 = int(sum(sum(chk1)) )\n"
     ]
    },
    {
     "name": "stdout",
     "output_type": "stream",
     "text": [
      "13 77 completed\n",
      "141 /Users/prdubey/Documents/code/AI_proj/Modern-Computer-Vision-with-PyTorch-2E/Chapter16/images_of_videos/20250513_163002_INF_2/frame97.jpg\n",
      "step1\n",
      "step2\n",
      "141 masks 81\n"
     ]
    },
    {
     "name": "stderr",
     "output_type": "stream",
     "text": [
      "/var/folders/l6/3248mst11s9g2g013c04ff8w0000gp/T/ipykernel_65850/1634055033.py:74: RuntimeWarning: overflow encountered in scalar add\n",
      "  total_sum1 = int(sum(sum(chk1)) )\n"
     ]
    },
    {
     "name": "stdout",
     "output_type": "stream",
     "text": [
      "22 81 completed\n",
      "142 /Users/prdubey/Documents/code/AI_proj/Modern-Computer-Vision-with-PyTorch-2E/Chapter16/images_of_videos/20250513_163002_INF_2/frame803.jpg\n",
      "step1\n",
      "step2\n",
      "142 masks 82\n"
     ]
    },
    {
     "name": "stderr",
     "output_type": "stream",
     "text": [
      "/var/folders/l6/3248mst11s9g2g013c04ff8w0000gp/T/ipykernel_65850/1634055033.py:74: RuntimeWarning: overflow encountered in scalar add\n",
      "  total_sum1 = int(sum(sum(chk1)) )\n"
     ]
    },
    {
     "name": "stdout",
     "output_type": "stream",
     "text": [
      "13 82 completed\n",
      "143 /Users/prdubey/Documents/code/AI_proj/Modern-Computer-Vision-with-PyTorch-2E/Chapter16/images_of_videos/20250513_163002_INF_2/frame83.jpg\n",
      "step1\n",
      "step2\n",
      "143 masks 89\n"
     ]
    },
    {
     "name": "stderr",
     "output_type": "stream",
     "text": [
      "/var/folders/l6/3248mst11s9g2g013c04ff8w0000gp/T/ipykernel_65850/1634055033.py:74: RuntimeWarning: overflow encountered in scalar add\n",
      "  total_sum1 = int(sum(sum(chk1)) )\n"
     ]
    },
    {
     "name": "stdout",
     "output_type": "stream",
     "text": [
      "20 89 completed\n",
      "144 /Users/prdubey/Documents/code/AI_proj/Modern-Computer-Vision-with-PyTorch-2E/Chapter16/images_of_videos/20250513_163002_INF_2/frame817.jpg\n",
      "step1\n",
      "step2\n",
      "144 masks 81\n"
     ]
    },
    {
     "name": "stderr",
     "output_type": "stream",
     "text": [
      "/var/folders/l6/3248mst11s9g2g013c04ff8w0000gp/T/ipykernel_65850/1634055033.py:74: RuntimeWarning: overflow encountered in scalar add\n",
      "  total_sum1 = int(sum(sum(chk1)) )\n"
     ]
    },
    {
     "name": "stdout",
     "output_type": "stream",
     "text": [
      "10 81 completed\n",
      "145 /Users/prdubey/Documents/code/AI_proj/Modern-Computer-Vision-with-PyTorch-2E/Chapter16/images_of_videos/20250513_163002_INF_2/frame181.jpg\n",
      "step1\n",
      "step2\n",
      "145 masks 69\n"
     ]
    },
    {
     "name": "stderr",
     "output_type": "stream",
     "text": [
      "/var/folders/l6/3248mst11s9g2g013c04ff8w0000gp/T/ipykernel_65850/1634055033.py:74: RuntimeWarning: overflow encountered in scalar add\n",
      "  total_sum1 = int(sum(sum(chk1)) )\n"
     ]
    },
    {
     "name": "stdout",
     "output_type": "stream",
     "text": [
      "14 69 completed\n",
      "146 /Users/prdubey/Documents/code/AI_proj/Modern-Computer-Vision-with-PyTorch-2E/Chapter16/images_of_videos/20250513_163002_INF_2/frame195.jpg\n",
      "step1\n",
      "step2\n",
      "146 masks 79\n"
     ]
    },
    {
     "name": "stderr",
     "output_type": "stream",
     "text": [
      "/var/folders/l6/3248mst11s9g2g013c04ff8w0000gp/T/ipykernel_65850/1634055033.py:74: RuntimeWarning: overflow encountered in scalar add\n",
      "  total_sum1 = int(sum(sum(chk1)) )\n"
     ]
    },
    {
     "name": "stdout",
     "output_type": "stream",
     "text": [
      "12 79 completed\n",
      "147 /Users/prdubey/Documents/code/AI_proj/Modern-Computer-Vision-with-PyTorch-2E/Chapter16/images_of_videos/20250513_163002_INF_2/frame54.jpg\n",
      "step1\n",
      "step2\n",
      "147 masks 80\n"
     ]
    },
    {
     "name": "stderr",
     "output_type": "stream",
     "text": [
      "/var/folders/l6/3248mst11s9g2g013c04ff8w0000gp/T/ipykernel_65850/1634055033.py:74: RuntimeWarning: overflow encountered in scalar add\n",
      "  total_sum1 = int(sum(sum(chk1)) )\n"
     ]
    },
    {
     "name": "stdout",
     "output_type": "stream",
     "text": [
      "16 80 completed\n",
      "148 /Users/prdubey/Documents/code/AI_proj/Modern-Computer-Vision-with-PyTorch-2E/Chapter16/images_of_videos/20250513_163002_INF_2/frame618.jpg\n",
      "step1\n",
      "step2\n",
      "148 masks 75\n"
     ]
    },
    {
     "name": "stderr",
     "output_type": "stream",
     "text": [
      "/var/folders/l6/3248mst11s9g2g013c04ff8w0000gp/T/ipykernel_65850/1634055033.py:74: RuntimeWarning: overflow encountered in scalar add\n",
      "  total_sum1 = int(sum(sum(chk1)) )\n"
     ]
    },
    {
     "name": "stdout",
     "output_type": "stream",
     "text": [
      "18 75 completed\n",
      "149 /Users/prdubey/Documents/code/AI_proj/Modern-Computer-Vision-with-PyTorch-2E/Chapter16/images_of_videos/20250513_163002_INF_2/frame40.jpg\n",
      "step1\n",
      "step2\n",
      "149 masks 85\n"
     ]
    },
    {
     "name": "stderr",
     "output_type": "stream",
     "text": [
      "/var/folders/l6/3248mst11s9g2g013c04ff8w0000gp/T/ipykernel_65850/1634055033.py:74: RuntimeWarning: overflow encountered in scalar add\n",
      "  total_sum1 = int(sum(sum(chk1)) )\n"
     ]
    },
    {
     "name": "stdout",
     "output_type": "stream",
     "text": [
      "21 85 completed\n",
      "150 /Users/prdubey/Documents/code/AI_proj/Modern-Computer-Vision-with-PyTorch-2E/Chapter16/images_of_videos/20250513_163002_INF_2/frame624.jpg\n",
      "step1\n",
      "step2\n",
      "150 masks 78\n"
     ]
    },
    {
     "name": "stderr",
     "output_type": "stream",
     "text": [
      "/var/folders/l6/3248mst11s9g2g013c04ff8w0000gp/T/ipykernel_65850/1634055033.py:74: RuntimeWarning: overflow encountered in scalar add\n",
      "  total_sum1 = int(sum(sum(chk1)) )\n"
     ]
    },
    {
     "name": "stdout",
     "output_type": "stream",
     "text": [
      "12 78 completed\n",
      "151 /Users/prdubey/Documents/code/AI_proj/Modern-Computer-Vision-with-PyTorch-2E/Chapter16/images_of_videos/20250513_163002_INF_2/frame68.jpg\n",
      "step1\n",
      "step2\n",
      "151 masks 93\n"
     ]
    },
    {
     "name": "stderr",
     "output_type": "stream",
     "text": [
      "/var/folders/l6/3248mst11s9g2g013c04ff8w0000gp/T/ipykernel_65850/1634055033.py:74: RuntimeWarning: overflow encountered in scalar add\n",
      "  total_sum1 = int(sum(sum(chk1)) )\n"
     ]
    },
    {
     "name": "stdout",
     "output_type": "stream",
     "text": [
      "13 93 completed\n",
      "152 /Users/prdubey/Documents/code/AI_proj/Modern-Computer-Vision-with-PyTorch-2E/Chapter16/images_of_videos/20250513_163002_INF_2/frame142.jpg\n",
      "step1\n",
      "step2\n",
      "152 masks 85\n"
     ]
    },
    {
     "name": "stderr",
     "output_type": "stream",
     "text": [
      "/var/folders/l6/3248mst11s9g2g013c04ff8w0000gp/T/ipykernel_65850/1634055033.py:74: RuntimeWarning: overflow encountered in scalar add\n",
      "  total_sum1 = int(sum(sum(chk1)) )\n"
     ]
    },
    {
     "name": "stdout",
     "output_type": "stream",
     "text": [
      "18 85 completed\n",
      "153 /Users/prdubey/Documents/code/AI_proj/Modern-Computer-Vision-with-PyTorch-2E/Chapter16/images_of_videos/20250513_163002_INF_2/frame156.jpg\n",
      "step1\n",
      "step2\n",
      "153 masks 84\n"
     ]
    },
    {
     "name": "stderr",
     "output_type": "stream",
     "text": [
      "/var/folders/l6/3248mst11s9g2g013c04ff8w0000gp/T/ipykernel_65850/1634055033.py:74: RuntimeWarning: overflow encountered in scalar add\n",
      "  total_sum1 = int(sum(sum(chk1)) )\n"
     ]
    },
    {
     "name": "stdout",
     "output_type": "stream",
     "text": [
      "18 84 completed\n",
      "154 /Users/prdubey/Documents/code/AI_proj/Modern-Computer-Vision-with-PyTorch-2E/Chapter16/images_of_videos/20250513_163002_INF_2/frame630.jpg\n",
      "step1\n",
      "step2\n",
      "154 masks 73\n"
     ]
    },
    {
     "name": "stderr",
     "output_type": "stream",
     "text": [
      "/var/folders/l6/3248mst11s9g2g013c04ff8w0000gp/T/ipykernel_65850/1634055033.py:74: RuntimeWarning: overflow encountered in scalar add\n",
      "  total_sum1 = int(sum(sum(chk1)) )\n"
     ]
    },
    {
     "name": "stdout",
     "output_type": "stream",
     "text": [
      "13 73 completed\n",
      "155 /Users/prdubey/Documents/code/AI_proj/Modern-Computer-Vision-with-PyTorch-2E/Chapter16/images_of_videos/20250513_163002_INF_2/frame383.jpg\n",
      "step1\n",
      "step2\n",
      "155 masks 88\n"
     ]
    },
    {
     "name": "stderr",
     "output_type": "stream",
     "text": [
      "/var/folders/l6/3248mst11s9g2g013c04ff8w0000gp/T/ipykernel_65850/1634055033.py:74: RuntimeWarning: overflow encountered in scalar add\n",
      "  total_sum1 = int(sum(sum(chk1)) )\n"
     ]
    },
    {
     "name": "stdout",
     "output_type": "stream",
     "text": [
      "16 88 completed\n",
      "156 /Users/prdubey/Documents/code/AI_proj/Modern-Computer-Vision-with-PyTorch-2E/Chapter16/images_of_videos/20250513_163002_INF_2/frame397.jpg\n",
      "step1\n",
      "step2\n",
      "156 masks 90\n"
     ]
    },
    {
     "name": "stderr",
     "output_type": "stream",
     "text": [
      "/var/folders/l6/3248mst11s9g2g013c04ff8w0000gp/T/ipykernel_65850/1634055033.py:74: RuntimeWarning: overflow encountered in scalar add\n",
      "  total_sum1 = int(sum(sum(chk1)) )\n"
     ]
    },
    {
     "name": "stdout",
     "output_type": "stream",
     "text": [
      "15 90 completed\n",
      "157 /Users/prdubey/Documents/code/AI_proj/Modern-Computer-Vision-with-PyTorch-2E/Chapter16/images_of_videos/20250513_163002_INF_2/frame368.jpg\n",
      "step1\n",
      "step2\n",
      "157 masks 85\n"
     ]
    },
    {
     "name": "stderr",
     "output_type": "stream",
     "text": [
      "/var/folders/l6/3248mst11s9g2g013c04ff8w0000gp/T/ipykernel_65850/1634055033.py:74: RuntimeWarning: overflow encountered in scalar add\n",
      "  total_sum1 = int(sum(sum(chk1)) )\n"
     ]
    },
    {
     "name": "stdout",
     "output_type": "stream",
     "text": [
      "13 85 completed\n",
      "158 /Users/prdubey/Documents/code/AI_proj/Modern-Computer-Vision-with-PyTorch-2E/Chapter16/images_of_videos/20250513_163002_INF_2/frame340.jpg\n",
      "step1\n",
      "step2\n",
      "158 masks 83\n"
     ]
    },
    {
     "name": "stderr",
     "output_type": "stream",
     "text": [
      "/var/folders/l6/3248mst11s9g2g013c04ff8w0000gp/T/ipykernel_65850/1634055033.py:74: RuntimeWarning: overflow encountered in scalar add\n",
      "  total_sum1 = int(sum(sum(chk1)) )\n"
     ]
    },
    {
     "name": "stdout",
     "output_type": "stream",
     "text": [
      "21 83 completed\n",
      "159 /Users/prdubey/Documents/code/AI_proj/Modern-Computer-Vision-with-PyTorch-2E/Chapter16/images_of_videos/20250513_163002_INF_2/frame426.jpg\n",
      "step1\n",
      "step2\n",
      "159 masks 83\n"
     ]
    },
    {
     "name": "stderr",
     "output_type": "stream",
     "text": [
      "/var/folders/l6/3248mst11s9g2g013c04ff8w0000gp/T/ipykernel_65850/1634055033.py:74: RuntimeWarning: overflow encountered in scalar add\n",
      "  total_sum1 = int(sum(sum(chk1)) )\n"
     ]
    },
    {
     "name": "stdout",
     "output_type": "stream",
     "text": [
      "16 83 completed\n",
      "160 /Users/prdubey/Documents/code/AI_proj/Modern-Computer-Vision-with-PyTorch-2E/Chapter16/images_of_videos/20250513_163002_INF_2/frame432.jpg\n",
      "step1\n",
      "step2\n",
      "160 masks 85\n"
     ]
    },
    {
     "name": "stderr",
     "output_type": "stream",
     "text": [
      "/var/folders/l6/3248mst11s9g2g013c04ff8w0000gp/T/ipykernel_65850/1634055033.py:74: RuntimeWarning: overflow encountered in scalar add\n",
      "  total_sum1 = int(sum(sum(chk1)) )\n"
     ]
    },
    {
     "name": "stdout",
     "output_type": "stream",
     "text": [
      "15 85 completed\n",
      "161 /Users/prdubey/Documents/code/AI_proj/Modern-Computer-Vision-with-PyTorch-2E/Chapter16/images_of_videos/20250513_163002_INF_2/frame354.jpg\n",
      "step1\n",
      "step2\n",
      "161 masks 87\n"
     ]
    },
    {
     "name": "stderr",
     "output_type": "stream",
     "text": [
      "/var/folders/l6/3248mst11s9g2g013c04ff8w0000gp/T/ipykernel_65850/1634055033.py:74: RuntimeWarning: overflow encountered in scalar add\n",
      "  total_sum1 = int(sum(sum(chk1)) )\n"
     ]
    },
    {
     "name": "stdout",
     "output_type": "stream",
     "text": [
      "17 87 completed\n",
      "162 /Users/prdubey/Documents/code/AI_proj/Modern-Computer-Vision-with-PyTorch-2E/Chapter16/images_of_videos/20250513_163002_INF_2/frame433.jpg\n",
      "step1\n",
      "step2\n",
      "162 masks 90\n"
     ]
    },
    {
     "name": "stderr",
     "output_type": "stream",
     "text": [
      "/var/folders/l6/3248mst11s9g2g013c04ff8w0000gp/T/ipykernel_65850/1634055033.py:74: RuntimeWarning: overflow encountered in scalar add\n",
      "  total_sum1 = int(sum(sum(chk1)) )\n"
     ]
    },
    {
     "name": "stdout",
     "output_type": "stream",
     "text": [
      "22 90 completed\n",
      "163 /Users/prdubey/Documents/code/AI_proj/Modern-Computer-Vision-with-PyTorch-2E/Chapter16/images_of_videos/20250513_163002_INF_2/frame355.jpg\n",
      "step1\n",
      "step2\n",
      "163 masks 84\n"
     ]
    },
    {
     "name": "stderr",
     "output_type": "stream",
     "text": [
      "/var/folders/l6/3248mst11s9g2g013c04ff8w0000gp/T/ipykernel_65850/1634055033.py:74: RuntimeWarning: overflow encountered in scalar add\n",
      "  total_sum1 = int(sum(sum(chk1)) )\n"
     ]
    },
    {
     "name": "stdout",
     "output_type": "stream",
     "text": [
      "17 84 completed\n",
      "164 /Users/prdubey/Documents/code/AI_proj/Modern-Computer-Vision-with-PyTorch-2E/Chapter16/images_of_videos/20250513_163002_INF_2/frame341.jpg\n",
      "step1\n",
      "step2\n",
      "164 masks 86\n"
     ]
    },
    {
     "name": "stderr",
     "output_type": "stream",
     "text": [
      "/var/folders/l6/3248mst11s9g2g013c04ff8w0000gp/T/ipykernel_65850/1634055033.py:74: RuntimeWarning: overflow encountered in scalar add\n",
      "  total_sum1 = int(sum(sum(chk1)) )\n"
     ]
    },
    {
     "name": "stdout",
     "output_type": "stream",
     "text": [
      "17 86 completed\n",
      "165 /Users/prdubey/Documents/code/AI_proj/Modern-Computer-Vision-with-PyTorch-2E/Chapter16/images_of_videos/20250513_163002_INF_2/frame427.jpg\n",
      "step1\n",
      "step2\n",
      "165 masks 84\n"
     ]
    },
    {
     "name": "stderr",
     "output_type": "stream",
     "text": [
      "/var/folders/l6/3248mst11s9g2g013c04ff8w0000gp/T/ipykernel_65850/1634055033.py:74: RuntimeWarning: overflow encountered in scalar add\n",
      "  total_sum1 = int(sum(sum(chk1)) )\n"
     ]
    },
    {
     "name": "stdout",
     "output_type": "stream",
     "text": [
      "21 84 completed\n",
      "166 /Users/prdubey/Documents/code/AI_proj/Modern-Computer-Vision-with-PyTorch-2E/Chapter16/images_of_videos/20250513_163002_INF_2/frame369.jpg\n",
      "step1\n",
      "step2\n",
      "166 masks 83\n"
     ]
    },
    {
     "name": "stderr",
     "output_type": "stream",
     "text": [
      "/var/folders/l6/3248mst11s9g2g013c04ff8w0000gp/T/ipykernel_65850/1634055033.py:74: RuntimeWarning: overflow encountered in scalar add\n",
      "  total_sum1 = int(sum(sum(chk1)) )\n"
     ]
    },
    {
     "name": "stdout",
     "output_type": "stream",
     "text": [
      "20 83 completed\n",
      "167 /Users/prdubey/Documents/code/AI_proj/Modern-Computer-Vision-with-PyTorch-2E/Chapter16/images_of_videos/20250513_163002_INF_2/frame396.jpg\n",
      "step1\n",
      "step2\n",
      "167 masks 84\n"
     ]
    },
    {
     "name": "stderr",
     "output_type": "stream",
     "text": [
      "/var/folders/l6/3248mst11s9g2g013c04ff8w0000gp/T/ipykernel_65850/1634055033.py:74: RuntimeWarning: overflow encountered in scalar add\n",
      "  total_sum1 = int(sum(sum(chk1)) )\n"
     ]
    },
    {
     "name": "stdout",
     "output_type": "stream",
     "text": [
      "19 84 completed\n",
      "168 /Users/prdubey/Documents/code/AI_proj/Modern-Computer-Vision-with-PyTorch-2E/Chapter16/images_of_videos/20250513_163002_INF_2/frame382.jpg\n",
      "step1\n",
      "step2\n",
      "168 masks 84\n"
     ]
    },
    {
     "name": "stderr",
     "output_type": "stream",
     "text": [
      "/var/folders/l6/3248mst11s9g2g013c04ff8w0000gp/T/ipykernel_65850/1634055033.py:74: RuntimeWarning: overflow encountered in scalar add\n",
      "  total_sum1 = int(sum(sum(chk1)) )\n"
     ]
    },
    {
     "name": "stdout",
     "output_type": "stream",
     "text": [
      "20 84 completed\n",
      "169 /Users/prdubey/Documents/code/AI_proj/Modern-Computer-Vision-with-PyTorch-2E/Chapter16/images_of_videos/20250513_163002_INF_2/frame157.jpg\n",
      "step1\n",
      "step2\n",
      "169 masks 90\n"
     ]
    },
    {
     "name": "stderr",
     "output_type": "stream",
     "text": [
      "/var/folders/l6/3248mst11s9g2g013c04ff8w0000gp/T/ipykernel_65850/1634055033.py:74: RuntimeWarning: overflow encountered in scalar add\n",
      "  total_sum1 = int(sum(sum(chk1)) )\n"
     ]
    },
    {
     "name": "stdout",
     "output_type": "stream",
     "text": [
      "16 90 completed\n",
      "170 /Users/prdubey/Documents/code/AI_proj/Modern-Computer-Vision-with-PyTorch-2E/Chapter16/images_of_videos/20250513_163002_INF_2/frame631.jpg\n",
      "step1\n",
      "step2\n",
      "170 masks 78\n"
     ]
    },
    {
     "name": "stderr",
     "output_type": "stream",
     "text": [
      "/var/folders/l6/3248mst11s9g2g013c04ff8w0000gp/T/ipykernel_65850/1634055033.py:74: RuntimeWarning: overflow encountered in scalar add\n",
      "  total_sum1 = int(sum(sum(chk1)) )\n"
     ]
    },
    {
     "name": "stdout",
     "output_type": "stream",
     "text": [
      "13 78 completed\n",
      "171 /Users/prdubey/Documents/code/AI_proj/Modern-Computer-Vision-with-PyTorch-2E/Chapter16/images_of_videos/20250513_163002_INF_2/frame69.jpg\n",
      "step1\n",
      "step2\n",
      "171 masks 86\n"
     ]
    },
    {
     "name": "stderr",
     "output_type": "stream",
     "text": [
      "/var/folders/l6/3248mst11s9g2g013c04ff8w0000gp/T/ipykernel_65850/1634055033.py:74: RuntimeWarning: overflow encountered in scalar add\n",
      "  total_sum1 = int(sum(sum(chk1)) )\n"
     ]
    },
    {
     "name": "stdout",
     "output_type": "stream",
     "text": [
      "17 86 completed\n",
      "172 /Users/prdubey/Documents/code/AI_proj/Modern-Computer-Vision-with-PyTorch-2E/Chapter16/images_of_videos/20250513_163002_INF_2/frame625.jpg\n",
      "step1\n",
      "step2\n",
      "172 masks 87\n"
     ]
    },
    {
     "name": "stderr",
     "output_type": "stream",
     "text": [
      "/var/folders/l6/3248mst11s9g2g013c04ff8w0000gp/T/ipykernel_65850/1634055033.py:74: RuntimeWarning: overflow encountered in scalar add\n",
      "  total_sum1 = int(sum(sum(chk1)) )\n"
     ]
    },
    {
     "name": "stdout",
     "output_type": "stream",
     "text": [
      "15 87 completed\n",
      "173 /Users/prdubey/Documents/code/AI_proj/Modern-Computer-Vision-with-PyTorch-2E/Chapter16/images_of_videos/20250513_163002_INF_2/frame143.jpg\n",
      "step1\n",
      "step2\n",
      "173 masks 84\n"
     ]
    },
    {
     "name": "stderr",
     "output_type": "stream",
     "text": [
      "/var/folders/l6/3248mst11s9g2g013c04ff8w0000gp/T/ipykernel_65850/1634055033.py:74: RuntimeWarning: overflow encountered in scalar add\n",
      "  total_sum1 = int(sum(sum(chk1)) )\n"
     ]
    },
    {
     "name": "stdout",
     "output_type": "stream",
     "text": [
      "13 84 completed\n",
      "174 /Users/prdubey/Documents/code/AI_proj/Modern-Computer-Vision-with-PyTorch-2E/Chapter16/images_of_videos/20250513_163002_INF_2/frame41.jpg\n",
      "step1\n",
      "step2\n",
      "174 masks 88\n"
     ]
    },
    {
     "name": "stderr",
     "output_type": "stream",
     "text": [
      "/var/folders/l6/3248mst11s9g2g013c04ff8w0000gp/T/ipykernel_65850/1634055033.py:74: RuntimeWarning: overflow encountered in scalar add\n",
      "  total_sum1 = int(sum(sum(chk1)) )\n"
     ]
    },
    {
     "name": "stdout",
     "output_type": "stream",
     "text": [
      "21 88 completed\n",
      "175 /Users/prdubey/Documents/code/AI_proj/Modern-Computer-Vision-with-PyTorch-2E/Chapter16/images_of_videos/20250513_163002_INF_2/frame619.jpg\n",
      "step1\n",
      "step2\n",
      "175 masks 74\n"
     ]
    },
    {
     "name": "stderr",
     "output_type": "stream",
     "text": [
      "/var/folders/l6/3248mst11s9g2g013c04ff8w0000gp/T/ipykernel_65850/1634055033.py:74: RuntimeWarning: overflow encountered in scalar add\n",
      "  total_sum1 = int(sum(sum(chk1)) )\n"
     ]
    },
    {
     "name": "stdout",
     "output_type": "stream",
     "text": [
      "15 74 completed\n",
      "176 /Users/prdubey/Documents/code/AI_proj/Modern-Computer-Vision-with-PyTorch-2E/Chapter16/images_of_videos/20250513_163002_INF_2/frame55.jpg\n",
      "step1\n",
      "step2\n",
      "176 masks 86\n"
     ]
    },
    {
     "name": "stderr",
     "output_type": "stream",
     "text": [
      "/var/folders/l6/3248mst11s9g2g013c04ff8w0000gp/T/ipykernel_65850/1634055033.py:74: RuntimeWarning: overflow encountered in scalar add\n",
      "  total_sum1 = int(sum(sum(chk1)) )\n"
     ]
    },
    {
     "name": "stdout",
     "output_type": "stream",
     "text": [
      "22 86 completed\n",
      "177 /Users/prdubey/Documents/code/AI_proj/Modern-Computer-Vision-with-PyTorch-2E/Chapter16/images_of_videos/20250513_163002_INF_2/frame194.jpg\n",
      "step1\n",
      "step2\n",
      "177 masks 87\n"
     ]
    },
    {
     "name": "stderr",
     "output_type": "stream",
     "text": [
      "/var/folders/l6/3248mst11s9g2g013c04ff8w0000gp/T/ipykernel_65850/1634055033.py:74: RuntimeWarning: overflow encountered in scalar add\n",
      "  total_sum1 = int(sum(sum(chk1)) )\n"
     ]
    },
    {
     "name": "stdout",
     "output_type": "stream",
     "text": [
      "24 87 completed\n",
      "178 /Users/prdubey/Documents/code/AI_proj/Modern-Computer-Vision-with-PyTorch-2E/Chapter16/images_of_videos/20250513_163002_INF_2/frame180.jpg\n",
      "step1\n",
      "step2\n",
      "178 masks 78\n"
     ]
    },
    {
     "name": "stderr",
     "output_type": "stream",
     "text": [
      "/var/folders/l6/3248mst11s9g2g013c04ff8w0000gp/T/ipykernel_65850/1634055033.py:74: RuntimeWarning: overflow encountered in scalar add\n",
      "  total_sum1 = int(sum(sum(chk1)) )\n"
     ]
    },
    {
     "name": "stdout",
     "output_type": "stream",
     "text": [
      "16 78 completed\n",
      "179 /Users/prdubey/Documents/code/AI_proj/Modern-Computer-Vision-with-PyTorch-2E/Chapter16/images_of_videos/20250513_163002_INF_2/frame816.jpg\n",
      "step1\n",
      "step2\n",
      "179 masks 88\n"
     ]
    },
    {
     "name": "stderr",
     "output_type": "stream",
     "text": [
      "/var/folders/l6/3248mst11s9g2g013c04ff8w0000gp/T/ipykernel_65850/1634055033.py:74: RuntimeWarning: overflow encountered in scalar add\n",
      "  total_sum1 = int(sum(sum(chk1)) )\n"
     ]
    },
    {
     "name": "stdout",
     "output_type": "stream",
     "text": [
      "25 88 completed\n",
      "180 /Users/prdubey/Documents/code/AI_proj/Modern-Computer-Vision-with-PyTorch-2E/Chapter16/images_of_videos/20250513_163002_INF_2/frame82.jpg\n",
      "step1\n",
      "step2\n",
      "180 masks 90\n"
     ]
    },
    {
     "name": "stderr",
     "output_type": "stream",
     "text": [
      "/var/folders/l6/3248mst11s9g2g013c04ff8w0000gp/T/ipykernel_65850/1634055033.py:74: RuntimeWarning: overflow encountered in scalar add\n",
      "  total_sum1 = int(sum(sum(chk1)) )\n"
     ]
    },
    {
     "name": "stdout",
     "output_type": "stream",
     "text": [
      "16 90 completed\n",
      "181 /Users/prdubey/Documents/code/AI_proj/Modern-Computer-Vision-with-PyTorch-2E/Chapter16/images_of_videos/20250513_163002_INF_2/frame802.jpg\n",
      "step1\n",
      "step2\n",
      "181 masks 79\n"
     ]
    },
    {
     "name": "stderr",
     "output_type": "stream",
     "text": [
      "/var/folders/l6/3248mst11s9g2g013c04ff8w0000gp/T/ipykernel_65850/1634055033.py:74: RuntimeWarning: overflow encountered in scalar add\n",
      "  total_sum1 = int(sum(sum(chk1)) )\n"
     ]
    },
    {
     "name": "stdout",
     "output_type": "stream",
     "text": [
      "14 79 completed\n",
      "182 /Users/prdubey/Documents/code/AI_proj/Modern-Computer-Vision-with-PyTorch-2E/Chapter16/images_of_videos/20250513_163002_INF_2/frame96.jpg\n",
      "step1\n",
      "step2\n",
      "182 masks 67\n"
     ]
    },
    {
     "name": "stderr",
     "output_type": "stream",
     "text": [
      "/var/folders/l6/3248mst11s9g2g013c04ff8w0000gp/T/ipykernel_65850/1634055033.py:74: RuntimeWarning: overflow encountered in scalar add\n",
      "  total_sum1 = int(sum(sum(chk1)) )\n"
     ]
    },
    {
     "name": "stdout",
     "output_type": "stream",
     "text": [
      "18 67 completed\n",
      "183 /Users/prdubey/Documents/code/AI_proj/Modern-Computer-Vision-with-PyTorch-2E/Chapter16/images_of_videos/20250513_163002_INF_2/frame745.jpg\n",
      "step1\n",
      "step2\n",
      "183 masks 79\n"
     ]
    },
    {
     "name": "stderr",
     "output_type": "stream",
     "text": [
      "/var/folders/l6/3248mst11s9g2g013c04ff8w0000gp/T/ipykernel_65850/1634055033.py:74: RuntimeWarning: overflow encountered in scalar add\n",
      "  total_sum1 = int(sum(sum(chk1)) )\n"
     ]
    },
    {
     "name": "stdout",
     "output_type": "stream",
     "text": [
      "24 79 completed\n",
      "184 /Users/prdubey/Documents/code/AI_proj/Modern-Computer-Vision-with-PyTorch-2E/Chapter16/images_of_videos/20250513_163002_INF_2/frame751.jpg\n",
      "step1\n",
      "step2\n",
      "184 masks 82\n"
     ]
    },
    {
     "name": "stderr",
     "output_type": "stream",
     "text": [
      "/var/folders/l6/3248mst11s9g2g013c04ff8w0000gp/T/ipykernel_65850/1634055033.py:74: RuntimeWarning: overflow encountered in scalar add\n",
      "  total_sum1 = int(sum(sum(chk1)) )\n"
     ]
    },
    {
     "name": "stdout",
     "output_type": "stream",
     "text": [
      "12 82 completed\n",
      "185 /Users/prdubey/Documents/code/AI_proj/Modern-Computer-Vision-with-PyTorch-2E/Chapter16/images_of_videos/20250513_163002_INF_2/frame779.jpg\n",
      "step1\n",
      "step2\n",
      "185 masks 83\n"
     ]
    },
    {
     "name": "stderr",
     "output_type": "stream",
     "text": [
      "/var/folders/l6/3248mst11s9g2g013c04ff8w0000gp/T/ipykernel_65850/1634055033.py:74: RuntimeWarning: overflow encountered in scalar add\n",
      "  total_sum1 = int(sum(sum(chk1)) )\n"
     ]
    },
    {
     "name": "stdout",
     "output_type": "stream",
     "text": [
      "13 83 completed\n",
      "186 /Users/prdubey/Documents/code/AI_proj/Modern-Computer-Vision-with-PyTorch-2E/Chapter16/images_of_videos/20250513_163002_INF_2/frame786.jpg\n",
      "step1\n",
      "step2\n",
      "186 masks 85\n"
     ]
    },
    {
     "name": "stderr",
     "output_type": "stream",
     "text": [
      "/var/folders/l6/3248mst11s9g2g013c04ff8w0000gp/T/ipykernel_65850/1634055033.py:74: RuntimeWarning: overflow encountered in scalar add\n",
      "  total_sum1 = int(sum(sum(chk1)) )\n"
     ]
    },
    {
     "name": "stdout",
     "output_type": "stream",
     "text": [
      "17 85 completed\n",
      "187 /Users/prdubey/Documents/code/AI_proj/Modern-Computer-Vision-with-PyTorch-2E/Chapter16/images_of_videos/20250513_163002_INF_2/frame792.jpg\n",
      "step1\n",
      "step2\n",
      "187 masks 84\n"
     ]
    },
    {
     "name": "stderr",
     "output_type": "stream",
     "text": [
      "/var/folders/l6/3248mst11s9g2g013c04ff8w0000gp/T/ipykernel_65850/1634055033.py:74: RuntimeWarning: overflow encountered in scalar add\n",
      "  total_sum1 = int(sum(sum(chk1)) )\n"
     ]
    },
    {
     "name": "stdout",
     "output_type": "stream",
     "text": [
      "10 84 completed\n",
      "188 /Users/prdubey/Documents/code/AI_proj/Modern-Computer-Vision-with-PyTorch-2E/Chapter16/images_of_videos/20250513_163002_INF_2/frame547.jpg\n",
      "step1\n",
      "step2\n",
      "188 masks 71\n"
     ]
    },
    {
     "name": "stderr",
     "output_type": "stream",
     "text": [
      "/var/folders/l6/3248mst11s9g2g013c04ff8w0000gp/T/ipykernel_65850/1634055033.py:74: RuntimeWarning: overflow encountered in scalar add\n",
      "  total_sum1 = int(sum(sum(chk1)) )\n"
     ]
    },
    {
     "name": "stdout",
     "output_type": "stream",
     "text": [
      "17 71 completed\n",
      "189 /Users/prdubey/Documents/code/AI_proj/Modern-Computer-Vision-with-PyTorch-2E/Chapter16/images_of_videos/20250513_163002_INF_2/frame221.jpg\n",
      "step1\n",
      "step2\n",
      "189 masks 81\n"
     ]
    },
    {
     "name": "stderr",
     "output_type": "stream",
     "text": [
      "/var/folders/l6/3248mst11s9g2g013c04ff8w0000gp/T/ipykernel_65850/1634055033.py:74: RuntimeWarning: overflow encountered in scalar add\n",
      "  total_sum1 = int(sum(sum(chk1)) )\n"
     ]
    },
    {
     "name": "stdout",
     "output_type": "stream",
     "text": [
      "11 81 completed\n",
      "190 /Users/prdubey/Documents/code/AI_proj/Modern-Computer-Vision-with-PyTorch-2E/Chapter16/images_of_videos/20250513_163002_INF_2/frame235.jpg\n",
      "step1\n",
      "step2\n",
      "190 masks 84\n"
     ]
    },
    {
     "name": "stderr",
     "output_type": "stream",
     "text": [
      "/var/folders/l6/3248mst11s9g2g013c04ff8w0000gp/T/ipykernel_65850/1634055033.py:74: RuntimeWarning: overflow encountered in scalar add\n",
      "  total_sum1 = int(sum(sum(chk1)) )\n"
     ]
    },
    {
     "name": "stdout",
     "output_type": "stream",
     "text": [
      "17 84 completed\n",
      "191 /Users/prdubey/Documents/code/AI_proj/Modern-Computer-Vision-with-PyTorch-2E/Chapter16/images_of_videos/20250513_163002_INF_2/frame553.jpg\n",
      "step1\n",
      "step2\n",
      "191 masks 84\n"
     ]
    },
    {
     "name": "stderr",
     "output_type": "stream",
     "text": [
      "/var/folders/l6/3248mst11s9g2g013c04ff8w0000gp/T/ipykernel_65850/1634055033.py:74: RuntimeWarning: overflow encountered in scalar add\n",
      "  total_sum1 = int(sum(sum(chk1)) )\n"
     ]
    },
    {
     "name": "stdout",
     "output_type": "stream",
     "text": [
      "18 84 completed\n",
      "192 /Users/prdubey/Documents/code/AI_proj/Modern-Computer-Vision-with-PyTorch-2E/Chapter16/images_of_videos/20250513_163002_INF_2/frame209.jpg\n",
      "step1\n",
      "step2\n",
      "192 masks 86\n"
     ]
    },
    {
     "name": "stderr",
     "output_type": "stream",
     "text": [
      "/var/folders/l6/3248mst11s9g2g013c04ff8w0000gp/T/ipykernel_65850/1634055033.py:74: RuntimeWarning: overflow encountered in scalar add\n",
      "  total_sum1 = int(sum(sum(chk1)) )\n"
     ]
    },
    {
     "name": "stdout",
     "output_type": "stream",
     "text": [
      "21 86 completed\n",
      "193 /Users/prdubey/Documents/code/AI_proj/Modern-Computer-Vision-with-PyTorch-2E/Chapter16/images_of_videos/20250513_163002_INF_2/frame584.jpg\n",
      "step1\n",
      "step2\n",
      "193 masks 79\n"
     ]
    },
    {
     "name": "stderr",
     "output_type": "stream",
     "text": [
      "/var/folders/l6/3248mst11s9g2g013c04ff8w0000gp/T/ipykernel_65850/1634055033.py:74: RuntimeWarning: overflow encountered in scalar add\n",
      "  total_sum1 = int(sum(sum(chk1)) )\n"
     ]
    },
    {
     "name": "stdout",
     "output_type": "stream",
     "text": [
      "12 79 completed\n",
      "194 /Users/prdubey/Documents/code/AI_proj/Modern-Computer-Vision-with-PyTorch-2E/Chapter16/images_of_videos/20250513_163002_INF_2/frame590.jpg\n",
      "step1\n",
      "step2\n",
      "194 masks 80\n"
     ]
    },
    {
     "name": "stderr",
     "output_type": "stream",
     "text": [
      "/var/folders/l6/3248mst11s9g2g013c04ff8w0000gp/T/ipykernel_65850/1634055033.py:74: RuntimeWarning: overflow encountered in scalar add\n",
      "  total_sum1 = int(sum(sum(chk1)) )\n"
     ]
    },
    {
     "name": "stdout",
     "output_type": "stream",
     "text": [
      "15 80 completed\n",
      "195 /Users/prdubey/Documents/code/AI_proj/Modern-Computer-Vision-with-PyTorch-2E/Chapter16/images_of_videos/20250513_163002_INF_2/frame586.jpg\n",
      "step1\n",
      "step2\n",
      "195 masks 78\n"
     ]
    },
    {
     "name": "stderr",
     "output_type": "stream",
     "text": [
      "/var/folders/l6/3248mst11s9g2g013c04ff8w0000gp/T/ipykernel_65850/1634055033.py:74: RuntimeWarning: overflow encountered in scalar add\n",
      "  total_sum1 = int(sum(sum(chk1)) )\n"
     ]
    },
    {
     "name": "stdout",
     "output_type": "stream",
     "text": [
      "12 78 completed\n",
      "196 /Users/prdubey/Documents/code/AI_proj/Modern-Computer-Vision-with-PyTorch-2E/Chapter16/images_of_videos/20250513_163002_INF_2/frame592.jpg\n",
      "step1\n",
      "step2\n",
      "196 masks 65\n"
     ]
    },
    {
     "name": "stderr",
     "output_type": "stream",
     "text": [
      "/var/folders/l6/3248mst11s9g2g013c04ff8w0000gp/T/ipykernel_65850/1634055033.py:74: RuntimeWarning: overflow encountered in scalar add\n",
      "  total_sum1 = int(sum(sum(chk1)) )\n"
     ]
    },
    {
     "name": "stdout",
     "output_type": "stream",
     "text": [
      "19 65 completed\n",
      "197 /Users/prdubey/Documents/code/AI_proj/Modern-Computer-Vision-with-PyTorch-2E/Chapter16/images_of_videos/20250513_163002_INF_2/frame579.jpg\n",
      "step1\n",
      "step2\n",
      "197 masks 83\n"
     ]
    },
    {
     "name": "stderr",
     "output_type": "stream",
     "text": [
      "/var/folders/l6/3248mst11s9g2g013c04ff8w0000gp/T/ipykernel_65850/1634055033.py:74: RuntimeWarning: overflow encountered in scalar add\n",
      "  total_sum1 = int(sum(sum(chk1)) )\n"
     ]
    },
    {
     "name": "stdout",
     "output_type": "stream",
     "text": [
      "13 83 completed\n",
      "198 /Users/prdubey/Documents/code/AI_proj/Modern-Computer-Vision-with-PyTorch-2E/Chapter16/images_of_videos/20250513_163002_INF_2/frame223.jpg\n",
      "step1\n",
      "step2\n",
      "198 masks 82\n"
     ]
    },
    {
     "name": "stderr",
     "output_type": "stream",
     "text": [
      "/var/folders/l6/3248mst11s9g2g013c04ff8w0000gp/T/ipykernel_65850/1634055033.py:74: RuntimeWarning: overflow encountered in scalar add\n",
      "  total_sum1 = int(sum(sum(chk1)) )\n"
     ]
    },
    {
     "name": "stdout",
     "output_type": "stream",
     "text": [
      "21 82 completed\n",
      "199 /Users/prdubey/Documents/code/AI_proj/Modern-Computer-Vision-with-PyTorch-2E/Chapter16/images_of_videos/20250513_163002_INF_2/frame545.jpg\n",
      "step1\n",
      "step2\n",
      "199 masks 82\n"
     ]
    },
    {
     "name": "stderr",
     "output_type": "stream",
     "text": [
      "/var/folders/l6/3248mst11s9g2g013c04ff8w0000gp/T/ipykernel_65850/1634055033.py:74: RuntimeWarning: overflow encountered in scalar add\n",
      "  total_sum1 = int(sum(sum(chk1)) )\n"
     ]
    },
    {
     "name": "stdout",
     "output_type": "stream",
     "text": [
      "14 82 completed\n",
      "200 /Users/prdubey/Documents/code/AI_proj/Modern-Computer-Vision-with-PyTorch-2E/Chapter16/images_of_videos/20250513_163002_INF_2/frame551.jpg\n",
      "step1\n",
      "step2\n",
      "200 masks 80\n"
     ]
    },
    {
     "name": "stderr",
     "output_type": "stream",
     "text": [
      "/var/folders/l6/3248mst11s9g2g013c04ff8w0000gp/T/ipykernel_65850/1634055033.py:74: RuntimeWarning: overflow encountered in scalar add\n",
      "  total_sum1 = int(sum(sum(chk1)) )\n"
     ]
    },
    {
     "name": "stdout",
     "output_type": "stream",
     "text": [
      "18 80 completed\n",
      "201 /Users/prdubey/Documents/code/AI_proj/Modern-Computer-Vision-with-PyTorch-2E/Chapter16/images_of_videos/20250513_163002_INF_2/frame237.jpg\n",
      "step1\n",
      "step2\n",
      "201 masks 82\n"
     ]
    },
    {
     "name": "stderr",
     "output_type": "stream",
     "text": [
      "/var/folders/l6/3248mst11s9g2g013c04ff8w0000gp/T/ipykernel_65850/1634055033.py:74: RuntimeWarning: overflow encountered in scalar add\n",
      "  total_sum1 = int(sum(sum(chk1)) )\n"
     ]
    },
    {
     "name": "stdout",
     "output_type": "stream",
     "text": [
      "14 82 completed\n",
      "202 /Users/prdubey/Documents/code/AI_proj/Modern-Computer-Vision-with-PyTorch-2E/Chapter16/images_of_videos/20250513_163002_INF_2/frame784.jpg\n",
      "step1\n",
      "step2\n",
      "202 masks 79\n"
     ]
    },
    {
     "name": "stderr",
     "output_type": "stream",
     "text": [
      "/var/folders/l6/3248mst11s9g2g013c04ff8w0000gp/T/ipykernel_65850/1634055033.py:74: RuntimeWarning: overflow encountered in scalar add\n",
      "  total_sum1 = int(sum(sum(chk1)) )\n"
     ]
    },
    {
     "name": "stdout",
     "output_type": "stream",
     "text": [
      "13 79 completed\n",
      "203 /Users/prdubey/Documents/code/AI_proj/Modern-Computer-Vision-with-PyTorch-2E/Chapter16/images_of_videos/20250513_163002_INF_2/frame790.jpg\n",
      "step1\n",
      "step2\n",
      "203 masks 77\n"
     ]
    },
    {
     "name": "stderr",
     "output_type": "stream",
     "text": [
      "/var/folders/l6/3248mst11s9g2g013c04ff8w0000gp/T/ipykernel_65850/1634055033.py:74: RuntimeWarning: overflow encountered in scalar add\n",
      "  total_sum1 = int(sum(sum(chk1)) )\n"
     ]
    },
    {
     "name": "stdout",
     "output_type": "stream",
     "text": [
      "16 77 completed\n",
      "204 /Users/prdubey/Documents/code/AI_proj/Modern-Computer-Vision-with-PyTorch-2E/Chapter16/images_of_videos/20250513_163002_INF_2/frame747.jpg\n",
      "step1\n",
      "step2\n",
      "204 masks 78\n"
     ]
    },
    {
     "name": "stderr",
     "output_type": "stream",
     "text": [
      "/var/folders/l6/3248mst11s9g2g013c04ff8w0000gp/T/ipykernel_65850/1634055033.py:74: RuntimeWarning: overflow encountered in scalar add\n",
      "  total_sum1 = int(sum(sum(chk1)) )\n"
     ]
    },
    {
     "name": "stdout",
     "output_type": "stream",
     "text": [
      "23 78 completed\n",
      "205 /Users/prdubey/Documents/code/AI_proj/Modern-Computer-Vision-with-PyTorch-2E/Chapter16/images_of_videos/20250513_163002_INF_2/frame753.jpg\n",
      "step1\n",
      "step2\n",
      "205 masks 82\n"
     ]
    },
    {
     "name": "stderr",
     "output_type": "stream",
     "text": [
      "/var/folders/l6/3248mst11s9g2g013c04ff8w0000gp/T/ipykernel_65850/1634055033.py:74: RuntimeWarning: overflow encountered in scalar add\n",
      "  total_sum1 = int(sum(sum(chk1)) )\n"
     ]
    },
    {
     "name": "stdout",
     "output_type": "stream",
     "text": [
      "17 82 completed\n",
      "206 /Users/prdubey/Documents/code/AI_proj/Modern-Computer-Vision-with-PyTorch-2E/Chapter16/images_of_videos/20250513_163002_INF_2/frame80.jpg\n",
      "step1\n",
      "step2\n",
      "206 masks 89\n"
     ]
    },
    {
     "name": "stderr",
     "output_type": "stream",
     "text": [
      "/var/folders/l6/3248mst11s9g2g013c04ff8w0000gp/T/ipykernel_65850/1634055033.py:74: RuntimeWarning: overflow encountered in scalar add\n",
      "  total_sum1 = int(sum(sum(chk1)) )\n"
     ]
    },
    {
     "name": "stdout",
     "output_type": "stream",
     "text": [
      "22 89 completed\n",
      "207 /Users/prdubey/Documents/code/AI_proj/Modern-Computer-Vision-with-PyTorch-2E/Chapter16/images_of_videos/20250513_163002_INF_2/frame814.jpg\n",
      "step1\n",
      "step2\n",
      "207 masks 86\n"
     ]
    },
    {
     "name": "stderr",
     "output_type": "stream",
     "text": [
      "/var/folders/l6/3248mst11s9g2g013c04ff8w0000gp/T/ipykernel_65850/1634055033.py:74: RuntimeWarning: overflow encountered in scalar add\n",
      "  total_sum1 = int(sum(sum(chk1)) )\n"
     ]
    },
    {
     "name": "stdout",
     "output_type": "stream",
     "text": [
      "22 86 completed\n",
      "208 /Users/prdubey/Documents/code/AI_proj/Modern-Computer-Vision-with-PyTorch-2E/Chapter16/images_of_videos/20250513_163002_INF_2/frame94.jpg\n",
      "step1\n",
      "step2\n",
      "208 masks 90\n"
     ]
    },
    {
     "name": "stderr",
     "output_type": "stream",
     "text": [
      "/var/folders/l6/3248mst11s9g2g013c04ff8w0000gp/T/ipykernel_65850/1634055033.py:74: RuntimeWarning: overflow encountered in scalar add\n",
      "  total_sum1 = int(sum(sum(chk1)) )\n"
     ]
    },
    {
     "name": "stdout",
     "output_type": "stream",
     "text": [
      "26 90 completed\n",
      "209 /Users/prdubey/Documents/code/AI_proj/Modern-Computer-Vision-with-PyTorch-2E/Chapter16/images_of_videos/20250513_163002_INF_2/frame800.jpg\n",
      "step1\n",
      "step2\n",
      "209 masks 83\n"
     ]
    },
    {
     "name": "stderr",
     "output_type": "stream",
     "text": [
      "/var/folders/l6/3248mst11s9g2g013c04ff8w0000gp/T/ipykernel_65850/1634055033.py:74: RuntimeWarning: overflow encountered in scalar add\n",
      "  total_sum1 = int(sum(sum(chk1)) )\n"
     ]
    },
    {
     "name": "stdout",
     "output_type": "stream",
     "text": [
      "22 83 completed\n",
      "210 /Users/prdubey/Documents/code/AI_proj/Modern-Computer-Vision-with-PyTorch-2E/Chapter16/images_of_videos/20250513_163002_INF_2/frame828.jpg\n",
      "step1\n",
      "step2\n",
      "210 masks 78\n"
     ]
    },
    {
     "name": "stderr",
     "output_type": "stream",
     "text": [
      "/var/folders/l6/3248mst11s9g2g013c04ff8w0000gp/T/ipykernel_65850/1634055033.py:74: RuntimeWarning: overflow encountered in scalar add\n",
      "  total_sum1 = int(sum(sum(chk1)) )\n"
     ]
    },
    {
     "name": "stdout",
     "output_type": "stream",
     "text": [
      "12 78 completed\n",
      "211 /Users/prdubey/Documents/code/AI_proj/Modern-Computer-Vision-with-PyTorch-2E/Chapter16/images_of_videos/20250513_163002_INF_2/frame196.jpg\n",
      "step1\n",
      "step2\n",
      "211 masks 83\n"
     ]
    },
    {
     "name": "stderr",
     "output_type": "stream",
     "text": [
      "/var/folders/l6/3248mst11s9g2g013c04ff8w0000gp/T/ipykernel_65850/1634055033.py:74: RuntimeWarning: overflow encountered in scalar add\n",
      "  total_sum1 = int(sum(sum(chk1)) )\n"
     ]
    },
    {
     "name": "stdout",
     "output_type": "stream",
     "text": [
      "14 83 completed\n",
      "212 /Users/prdubey/Documents/code/AI_proj/Modern-Computer-Vision-with-PyTorch-2E/Chapter16/images_of_videos/20250513_163002_INF_2/frame182.jpg\n",
      "step1\n",
      "step2\n",
      "212 masks 73\n"
     ]
    },
    {
     "name": "stderr",
     "output_type": "stream",
     "text": [
      "/var/folders/l6/3248mst11s9g2g013c04ff8w0000gp/T/ipykernel_65850/1634055033.py:74: RuntimeWarning: overflow encountered in scalar add\n",
      "  total_sum1 = int(sum(sum(chk1)) )\n"
     ]
    },
    {
     "name": "stdout",
     "output_type": "stream",
     "text": [
      "18 73 completed\n",
      "213 /Users/prdubey/Documents/code/AI_proj/Modern-Computer-Vision-with-PyTorch-2E/Chapter16/images_of_videos/20250513_163002_INF_2/frame43.jpg\n",
      "step1\n",
      "step2\n",
      "213 masks 78\n"
     ]
    },
    {
     "name": "stderr",
     "output_type": "stream",
     "text": [
      "/var/folders/l6/3248mst11s9g2g013c04ff8w0000gp/T/ipykernel_65850/1634055033.py:74: RuntimeWarning: overflow encountered in scalar add\n",
      "  total_sum1 = int(sum(sum(chk1)) )\n"
     ]
    },
    {
     "name": "stdout",
     "output_type": "stream",
     "text": [
      "21 78 completed\n",
      "214 /Users/prdubey/Documents/code/AI_proj/Modern-Computer-Vision-with-PyTorch-2E/Chapter16/images_of_videos/20250513_163002_INF_2/frame169.jpg\n",
      "step1\n",
      "step2\n",
      "214 masks 84\n"
     ]
    },
    {
     "name": "stderr",
     "output_type": "stream",
     "text": [
      "/var/folders/l6/3248mst11s9g2g013c04ff8w0000gp/T/ipykernel_65850/1634055033.py:74: RuntimeWarning: overflow encountered in scalar add\n",
      "  total_sum1 = int(sum(sum(chk1)) )\n"
     ]
    },
    {
     "name": "stdout",
     "output_type": "stream",
     "text": [
      "14 84 completed\n",
      "215 /Users/prdubey/Documents/code/AI_proj/Modern-Computer-Vision-with-PyTorch-2E/Chapter16/images_of_videos/20250513_163002_INF_2/frame57.jpg\n",
      "step1\n",
      "step2\n",
      "215 masks 90\n"
     ]
    },
    {
     "name": "stderr",
     "output_type": "stream",
     "text": [
      "/var/folders/l6/3248mst11s9g2g013c04ff8w0000gp/T/ipykernel_65850/1634055033.py:74: RuntimeWarning: overflow encountered in scalar add\n",
      "  total_sum1 = int(sum(sum(chk1)) )\n"
     ]
    },
    {
     "name": "stdout",
     "output_type": "stream",
     "text": [
      "28 90 completed\n",
      "216 /Users/prdubey/Documents/code/AI_proj/Modern-Computer-Vision-with-PyTorch-2E/Chapter16/images_of_videos/20250513_163002_INF_2/frame633.jpg\n",
      "step1\n",
      "step2\n",
      "216 masks 82\n"
     ]
    },
    {
     "name": "stderr",
     "output_type": "stream",
     "text": [
      "/var/folders/l6/3248mst11s9g2g013c04ff8w0000gp/T/ipykernel_65850/1634055033.py:74: RuntimeWarning: overflow encountered in scalar add\n",
      "  total_sum1 = int(sum(sum(chk1)) )\n"
     ]
    },
    {
     "name": "stdout",
     "output_type": "stream",
     "text": [
      "25 82 completed\n",
      "217 /Users/prdubey/Documents/code/AI_proj/Modern-Computer-Vision-with-PyTorch-2E/Chapter16/images_of_videos/20250513_163002_INF_2/frame155.jpg\n",
      "step1\n",
      "step2\n",
      "217 masks 87\n"
     ]
    },
    {
     "name": "stderr",
     "output_type": "stream",
     "text": [
      "/var/folders/l6/3248mst11s9g2g013c04ff8w0000gp/T/ipykernel_65850/1634055033.py:74: RuntimeWarning: overflow encountered in scalar add\n",
      "  total_sum1 = int(sum(sum(chk1)) )\n"
     ]
    },
    {
     "name": "stdout",
     "output_type": "stream",
     "text": [
      "26 87 completed\n",
      "218 /Users/prdubey/Documents/code/AI_proj/Modern-Computer-Vision-with-PyTorch-2E/Chapter16/images_of_videos/20250513_163002_INF_2/frame141.jpg\n",
      "step1\n",
      "step2\n",
      "218 masks 84\n"
     ]
    },
    {
     "name": "stderr",
     "output_type": "stream",
     "text": [
      "/var/folders/l6/3248mst11s9g2g013c04ff8w0000gp/T/ipykernel_65850/1634055033.py:74: RuntimeWarning: overflow encountered in scalar add\n",
      "  total_sum1 = int(sum(sum(chk1)) )\n"
     ]
    },
    {
     "name": "stdout",
     "output_type": "stream",
     "text": [
      "12 84 completed\n",
      "219 /Users/prdubey/Documents/code/AI_proj/Modern-Computer-Vision-with-PyTorch-2E/Chapter16/images_of_videos/20250513_163002_INF_2/frame627.jpg\n",
      "step1\n",
      "step2\n",
      "219 masks 82\n"
     ]
    },
    {
     "name": "stderr",
     "output_type": "stream",
     "text": [
      "/var/folders/l6/3248mst11s9g2g013c04ff8w0000gp/T/ipykernel_65850/1634055033.py:74: RuntimeWarning: overflow encountered in scalar add\n",
      "  total_sum1 = int(sum(sum(chk1)) )\n"
     ]
    },
    {
     "name": "stdout",
     "output_type": "stream",
     "text": [
      "21 82 completed\n",
      "220 /Users/prdubey/Documents/code/AI_proj/Modern-Computer-Vision-with-PyTorch-2E/Chapter16/images_of_videos/20250513_163002_INF_2/frame394.jpg\n",
      "step1\n",
      "step2\n",
      "220 masks 82\n"
     ]
    },
    {
     "name": "stderr",
     "output_type": "stream",
     "text": [
      "/var/folders/l6/3248mst11s9g2g013c04ff8w0000gp/T/ipykernel_65850/1634055033.py:74: RuntimeWarning: overflow encountered in scalar add\n",
      "  total_sum1 = int(sum(sum(chk1)) )\n"
     ]
    },
    {
     "name": "stdout",
     "output_type": "stream",
     "text": [
      "19 82 completed\n",
      "221 /Users/prdubey/Documents/code/AI_proj/Modern-Computer-Vision-with-PyTorch-2E/Chapter16/images_of_videos/20250513_163002_INF_2/frame380.jpg\n",
      "step1\n",
      "step2\n",
      "221 masks 81\n"
     ]
    },
    {
     "name": "stderr",
     "output_type": "stream",
     "text": [
      "/var/folders/l6/3248mst11s9g2g013c04ff8w0000gp/T/ipykernel_65850/1634055033.py:74: RuntimeWarning: overflow encountered in scalar add\n",
      "  total_sum1 = int(sum(sum(chk1)) )\n"
     ]
    },
    {
     "name": "stdout",
     "output_type": "stream",
     "text": [
      "20 81 completed\n",
      "222 /Users/prdubey/Documents/code/AI_proj/Modern-Computer-Vision-with-PyTorch-2E/Chapter16/images_of_videos/20250513_163002_INF_2/frame419.jpg\n",
      "step1\n",
      "step2\n",
      "222 masks 71\n"
     ]
    },
    {
     "name": "stderr",
     "output_type": "stream",
     "text": [
      "/var/folders/l6/3248mst11s9g2g013c04ff8w0000gp/T/ipykernel_65850/1634055033.py:74: RuntimeWarning: overflow encountered in scalar add\n",
      "  total_sum1 = int(sum(sum(chk1)) )\n"
     ]
    },
    {
     "name": "stdout",
     "output_type": "stream",
     "text": [
      "16 71 completed\n",
      "223 /Users/prdubey/Documents/code/AI_proj/Modern-Computer-Vision-with-PyTorch-2E/Chapter16/images_of_videos/20250513_163002_INF_2/frame357.jpg\n",
      "step1\n",
      "step2\n",
      "223 masks 90\n"
     ]
    },
    {
     "name": "stderr",
     "output_type": "stream",
     "text": [
      "/var/folders/l6/3248mst11s9g2g013c04ff8w0000gp/T/ipykernel_65850/1634055033.py:74: RuntimeWarning: overflow encountered in scalar add\n",
      "  total_sum1 = int(sum(sum(chk1)) )\n"
     ]
    },
    {
     "name": "stdout",
     "output_type": "stream",
     "text": [
      "18 90 completed\n",
      "224 /Users/prdubey/Documents/code/AI_proj/Modern-Computer-Vision-with-PyTorch-2E/Chapter16/images_of_videos/20250513_163002_INF_2/frame431.jpg\n",
      "step1\n",
      "step2\n",
      "224 masks 83\n"
     ]
    },
    {
     "name": "stderr",
     "output_type": "stream",
     "text": [
      "/var/folders/l6/3248mst11s9g2g013c04ff8w0000gp/T/ipykernel_65850/1634055033.py:74: RuntimeWarning: overflow encountered in scalar add\n",
      "  total_sum1 = int(sum(sum(chk1)) )\n"
     ]
    },
    {
     "name": "stdout",
     "output_type": "stream",
     "text": [
      "16 83 completed\n",
      "225 /Users/prdubey/Documents/code/AI_proj/Modern-Computer-Vision-with-PyTorch-2E/Chapter16/images_of_videos/20250513_163002_INF_2/frame425.jpg\n",
      "step1\n",
      "step2\n",
      "225 masks 89\n"
     ]
    },
    {
     "name": "stderr",
     "output_type": "stream",
     "text": [
      "/var/folders/l6/3248mst11s9g2g013c04ff8w0000gp/T/ipykernel_65850/1634055033.py:74: RuntimeWarning: overflow encountered in scalar add\n",
      "  total_sum1 = int(sum(sum(chk1)) )\n"
     ]
    },
    {
     "name": "stdout",
     "output_type": "stream",
     "text": [
      "16 89 completed\n",
      "226 /Users/prdubey/Documents/code/AI_proj/Modern-Computer-Vision-with-PyTorch-2E/Chapter16/images_of_videos/20250513_163002_INF_2/frame343.jpg\n",
      "step1\n",
      "step2\n",
      "226 masks 85\n"
     ]
    },
    {
     "name": "stderr",
     "output_type": "stream",
     "text": [
      "/var/folders/l6/3248mst11s9g2g013c04ff8w0000gp/T/ipykernel_65850/1634055033.py:74: RuntimeWarning: overflow encountered in scalar add\n",
      "  total_sum1 = int(sum(sum(chk1)) )\n"
     ]
    },
    {
     "name": "stdout",
     "output_type": "stream",
     "text": [
      "17 85 completed\n",
      "227 /Users/prdubey/Documents/code/AI_proj/Modern-Computer-Vision-with-PyTorch-2E/Chapter16/images_of_videos/20250513_163002_INF_2/frame424.jpg\n",
      "step1\n",
      "step2\n",
      "227 masks 93\n"
     ]
    },
    {
     "name": "stderr",
     "output_type": "stream",
     "text": [
      "/var/folders/l6/3248mst11s9g2g013c04ff8w0000gp/T/ipykernel_65850/1634055033.py:74: RuntimeWarning: overflow encountered in scalar add\n",
      "  total_sum1 = int(sum(sum(chk1)) )\n"
     ]
    },
    {
     "name": "stdout",
     "output_type": "stream",
     "text": [
      "21 93 completed\n",
      "228 /Users/prdubey/Documents/code/AI_proj/Modern-Computer-Vision-with-PyTorch-2E/Chapter16/images_of_videos/20250513_163002_INF_2/frame342.jpg\n",
      "step1\n",
      "step2\n",
      "228 masks 86\n"
     ]
    },
    {
     "name": "stderr",
     "output_type": "stream",
     "text": [
      "/var/folders/l6/3248mst11s9g2g013c04ff8w0000gp/T/ipykernel_65850/1634055033.py:74: RuntimeWarning: overflow encountered in scalar add\n",
      "  total_sum1 = int(sum(sum(chk1)) )\n"
     ]
    },
    {
     "name": "stdout",
     "output_type": "stream",
     "text": [
      "18 86 completed\n",
      "229 /Users/prdubey/Documents/code/AI_proj/Modern-Computer-Vision-with-PyTorch-2E/Chapter16/images_of_videos/20250513_163002_INF_2/frame356.jpg\n",
      "step1\n",
      "step2\n",
      "229 masks 86\n"
     ]
    },
    {
     "name": "stderr",
     "output_type": "stream",
     "text": [
      "/var/folders/l6/3248mst11s9g2g013c04ff8w0000gp/T/ipykernel_65850/1634055033.py:74: RuntimeWarning: overflow encountered in scalar add\n",
      "  total_sum1 = int(sum(sum(chk1)) )\n"
     ]
    },
    {
     "name": "stdout",
     "output_type": "stream",
     "text": [
      "15 86 completed\n",
      "230 /Users/prdubey/Documents/code/AI_proj/Modern-Computer-Vision-with-PyTorch-2E/Chapter16/images_of_videos/20250513_163002_INF_2/frame430.jpg\n",
      "step1\n",
      "step2\n",
      "230 masks 94\n"
     ]
    },
    {
     "name": "stderr",
     "output_type": "stream",
     "text": [
      "/var/folders/l6/3248mst11s9g2g013c04ff8w0000gp/T/ipykernel_65850/1634055033.py:74: RuntimeWarning: overflow encountered in scalar add\n",
      "  total_sum1 = int(sum(sum(chk1)) )\n"
     ]
    },
    {
     "name": "stdout",
     "output_type": "stream",
     "text": [
      "20 94 completed\n",
      "231 /Users/prdubey/Documents/code/AI_proj/Modern-Computer-Vision-with-PyTorch-2E/Chapter16/images_of_videos/20250513_163002_INF_2/frame418.jpg\n",
      "step1\n",
      "step2\n",
      "231 masks 90\n"
     ]
    },
    {
     "name": "stderr",
     "output_type": "stream",
     "text": [
      "/var/folders/l6/3248mst11s9g2g013c04ff8w0000gp/T/ipykernel_65850/1634055033.py:74: RuntimeWarning: overflow encountered in scalar add\n",
      "  total_sum1 = int(sum(sum(chk1)) )\n"
     ]
    },
    {
     "name": "stdout",
     "output_type": "stream",
     "text": [
      "15 90 completed\n",
      "232 /Users/prdubey/Documents/code/AI_proj/Modern-Computer-Vision-with-PyTorch-2E/Chapter16/images_of_videos/20250513_163002_INF_2/frame381.jpg\n",
      "step1\n",
      "step2\n",
      "232 masks 83\n"
     ]
    },
    {
     "name": "stderr",
     "output_type": "stream",
     "text": [
      "/var/folders/l6/3248mst11s9g2g013c04ff8w0000gp/T/ipykernel_65850/1634055033.py:74: RuntimeWarning: overflow encountered in scalar add\n",
      "  total_sum1 = int(sum(sum(chk1)) )\n"
     ]
    },
    {
     "name": "stdout",
     "output_type": "stream",
     "text": [
      "22 83 completed\n",
      "233 /Users/prdubey/Documents/code/AI_proj/Modern-Computer-Vision-with-PyTorch-2E/Chapter16/images_of_videos/20250513_163002_INF_2/frame395.jpg\n",
      "step1\n",
      "step2\n",
      "233 masks 61\n"
     ]
    },
    {
     "name": "stderr",
     "output_type": "stream",
     "text": [
      "/var/folders/l6/3248mst11s9g2g013c04ff8w0000gp/T/ipykernel_65850/1634055033.py:74: RuntimeWarning: overflow encountered in scalar add\n",
      "  total_sum1 = int(sum(sum(chk1)) )\n"
     ]
    },
    {
     "name": "stdout",
     "output_type": "stream",
     "text": [
      "9 61 completed\n",
      "234 /Users/prdubey/Documents/code/AI_proj/Modern-Computer-Vision-with-PyTorch-2E/Chapter16/images_of_videos/20250513_163002_INF_2/frame140.jpg\n",
      "step1\n",
      "step2\n",
      "234 masks 87\n"
     ]
    },
    {
     "name": "stderr",
     "output_type": "stream",
     "text": [
      "/var/folders/l6/3248mst11s9g2g013c04ff8w0000gp/T/ipykernel_65850/1634055033.py:74: RuntimeWarning: overflow encountered in scalar add\n",
      "  total_sum1 = int(sum(sum(chk1)) )\n"
     ]
    },
    {
     "name": "stdout",
     "output_type": "stream",
     "text": [
      "16 87 completed\n",
      "235 /Users/prdubey/Documents/code/AI_proj/Modern-Computer-Vision-with-PyTorch-2E/Chapter16/images_of_videos/20250513_163002_INF_2/frame626.jpg\n",
      "step1\n",
      "step2\n",
      "235 masks 84\n"
     ]
    },
    {
     "name": "stderr",
     "output_type": "stream",
     "text": [
      "/var/folders/l6/3248mst11s9g2g013c04ff8w0000gp/T/ipykernel_65850/1634055033.py:74: RuntimeWarning: overflow encountered in scalar add\n",
      "  total_sum1 = int(sum(sum(chk1)) )\n"
     ]
    },
    {
     "name": "stdout",
     "output_type": "stream",
     "text": [
      "28 84 completed\n",
      "236 /Users/prdubey/Documents/code/AI_proj/Modern-Computer-Vision-with-PyTorch-2E/Chapter16/images_of_videos/20250513_163002_INF_2/frame632.jpg\n",
      "step1\n",
      "step2\n",
      "236 masks 83\n"
     ]
    },
    {
     "name": "stderr",
     "output_type": "stream",
     "text": [
      "/var/folders/l6/3248mst11s9g2g013c04ff8w0000gp/T/ipykernel_65850/1634055033.py:74: RuntimeWarning: overflow encountered in scalar add\n",
      "  total_sum1 = int(sum(sum(chk1)) )\n"
     ]
    },
    {
     "name": "stdout",
     "output_type": "stream",
     "text": [
      "14 83 completed\n",
      "237 /Users/prdubey/Documents/code/AI_proj/Modern-Computer-Vision-with-PyTorch-2E/Chapter16/images_of_videos/20250513_163002_INF_2/frame154.jpg\n",
      "step1\n",
      "step2\n",
      "237 masks 83\n"
     ]
    },
    {
     "name": "stderr",
     "output_type": "stream",
     "text": [
      "/var/folders/l6/3248mst11s9g2g013c04ff8w0000gp/T/ipykernel_65850/1634055033.py:74: RuntimeWarning: overflow encountered in scalar add\n",
      "  total_sum1 = int(sum(sum(chk1)) )\n"
     ]
    },
    {
     "name": "stdout",
     "output_type": "stream",
     "text": [
      "13 83 completed\n",
      "238 /Users/prdubey/Documents/code/AI_proj/Modern-Computer-Vision-with-PyTorch-2E/Chapter16/images_of_videos/20250513_163002_INF_2/frame56.jpg\n",
      "step1\n",
      "step2\n",
      "238 masks 90\n"
     ]
    },
    {
     "name": "stderr",
     "output_type": "stream",
     "text": [
      "/var/folders/l6/3248mst11s9g2g013c04ff8w0000gp/T/ipykernel_65850/1634055033.py:74: RuntimeWarning: overflow encountered in scalar add\n",
      "  total_sum1 = int(sum(sum(chk1)) )\n"
     ]
    },
    {
     "name": "stdout",
     "output_type": "stream",
     "text": [
      "20 90 completed\n",
      "239 /Users/prdubey/Documents/code/AI_proj/Modern-Computer-Vision-with-PyTorch-2E/Chapter16/images_of_videos/20250513_163002_INF_2/frame42.jpg\n",
      "step1\n",
      "step2\n",
      "239 masks 82\n"
     ]
    },
    {
     "name": "stderr",
     "output_type": "stream",
     "text": [
      "/var/folders/l6/3248mst11s9g2g013c04ff8w0000gp/T/ipykernel_65850/1634055033.py:74: RuntimeWarning: overflow encountered in scalar add\n",
      "  total_sum1 = int(sum(sum(chk1)) )\n"
     ]
    },
    {
     "name": "stdout",
     "output_type": "stream",
     "text": [
      "18 82 completed\n",
      "240 /Users/prdubey/Documents/code/AI_proj/Modern-Computer-Vision-with-PyTorch-2E/Chapter16/images_of_videos/20250513_163002_INF_2/frame168.jpg\n",
      "step1\n",
      "step2\n",
      "240 masks 83\n"
     ]
    },
    {
     "name": "stderr",
     "output_type": "stream",
     "text": [
      "/var/folders/l6/3248mst11s9g2g013c04ff8w0000gp/T/ipykernel_65850/1634055033.py:74: RuntimeWarning: overflow encountered in scalar add\n",
      "  total_sum1 = int(sum(sum(chk1)) )\n"
     ]
    },
    {
     "name": "stdout",
     "output_type": "stream",
     "text": [
      "17 83 completed\n",
      "241 /Users/prdubey/Documents/code/AI_proj/Modern-Computer-Vision-with-PyTorch-2E/Chapter16/images_of_videos/20250513_163002_INF_2/frame183.jpg\n",
      "step1\n",
      "step2\n",
      "241 masks 81\n"
     ]
    },
    {
     "name": "stderr",
     "output_type": "stream",
     "text": [
      "/var/folders/l6/3248mst11s9g2g013c04ff8w0000gp/T/ipykernel_65850/1634055033.py:74: RuntimeWarning: overflow encountered in scalar add\n",
      "  total_sum1 = int(sum(sum(chk1)) )\n"
     ]
    },
    {
     "name": "stdout",
     "output_type": "stream",
     "text": [
      "13 81 completed\n",
      "242 /Users/prdubey/Documents/code/AI_proj/Modern-Computer-Vision-with-PyTorch-2E/Chapter16/images_of_videos/20250513_163002_INF_2/frame829.jpg\n",
      "step1\n",
      "step2\n",
      "242 masks 79\n"
     ]
    },
    {
     "name": "stderr",
     "output_type": "stream",
     "text": [
      "/var/folders/l6/3248mst11s9g2g013c04ff8w0000gp/T/ipykernel_65850/1634055033.py:74: RuntimeWarning: overflow encountered in scalar add\n",
      "  total_sum1 = int(sum(sum(chk1)) )\n"
     ]
    },
    {
     "name": "stdout",
     "output_type": "stream",
     "text": [
      "18 79 completed\n",
      "243 /Users/prdubey/Documents/code/AI_proj/Modern-Computer-Vision-with-PyTorch-2E/Chapter16/images_of_videos/20250513_163002_INF_2/frame197.jpg\n",
      "step1\n",
      "step2\n",
      "243 masks 86\n"
     ]
    },
    {
     "name": "stderr",
     "output_type": "stream",
     "text": [
      "/var/folders/l6/3248mst11s9g2g013c04ff8w0000gp/T/ipykernel_65850/1634055033.py:74: RuntimeWarning: overflow encountered in scalar add\n",
      "  total_sum1 = int(sum(sum(chk1)) )\n"
     ]
    },
    {
     "name": "stdout",
     "output_type": "stream",
     "text": [
      "15 86 completed\n",
      "244 /Users/prdubey/Documents/code/AI_proj/Modern-Computer-Vision-with-PyTorch-2E/Chapter16/images_of_videos/20250513_163002_INF_2/frame801.jpg\n",
      "step1\n",
      "step2\n",
      "244 masks 81\n"
     ]
    },
    {
     "name": "stderr",
     "output_type": "stream",
     "text": [
      "/var/folders/l6/3248mst11s9g2g013c04ff8w0000gp/T/ipykernel_65850/1634055033.py:74: RuntimeWarning: overflow encountered in scalar add\n",
      "  total_sum1 = int(sum(sum(chk1)) )\n"
     ]
    },
    {
     "name": "stdout",
     "output_type": "stream",
     "text": [
      "15 81 completed\n",
      "245 /Users/prdubey/Documents/code/AI_proj/Modern-Computer-Vision-with-PyTorch-2E/Chapter16/images_of_videos/20250513_163002_INF_2/frame95.jpg\n",
      "step1\n",
      "step2\n",
      "245 masks 85\n"
     ]
    },
    {
     "name": "stderr",
     "output_type": "stream",
     "text": [
      "/var/folders/l6/3248mst11s9g2g013c04ff8w0000gp/T/ipykernel_65850/1634055033.py:74: RuntimeWarning: overflow encountered in scalar add\n",
      "  total_sum1 = int(sum(sum(chk1)) )\n"
     ]
    },
    {
     "name": "stdout",
     "output_type": "stream",
     "text": [
      "23 85 completed\n",
      "246 /Users/prdubey/Documents/code/AI_proj/Modern-Computer-Vision-with-PyTorch-2E/Chapter16/images_of_videos/20250513_163002_INF_2/frame815.jpg\n",
      "step1\n",
      "step2\n",
      "246 masks 89\n"
     ]
    },
    {
     "name": "stderr",
     "output_type": "stream",
     "text": [
      "/var/folders/l6/3248mst11s9g2g013c04ff8w0000gp/T/ipykernel_65850/1634055033.py:74: RuntimeWarning: overflow encountered in scalar add\n",
      "  total_sum1 = int(sum(sum(chk1)) )\n"
     ]
    },
    {
     "name": "stdout",
     "output_type": "stream",
     "text": [
      "25 89 completed\n",
      "247 /Users/prdubey/Documents/code/AI_proj/Modern-Computer-Vision-with-PyTorch-2E/Chapter16/images_of_videos/20250513_163002_INF_2/frame81.jpg\n",
      "step1\n",
      "step2\n",
      "247 masks 88\n"
     ]
    },
    {
     "name": "stderr",
     "output_type": "stream",
     "text": [
      "/var/folders/l6/3248mst11s9g2g013c04ff8w0000gp/T/ipykernel_65850/1634055033.py:74: RuntimeWarning: overflow encountered in scalar add\n",
      "  total_sum1 = int(sum(sum(chk1)) )\n"
     ]
    },
    {
     "name": "stdout",
     "output_type": "stream",
     "text": [
      "17 88 completed\n",
      "248 /Users/prdubey/Documents/code/AI_proj/Modern-Computer-Vision-with-PyTorch-2E/Chapter16/images_of_videos/20250513_163002_INF_2/frame752.jpg\n",
      "step1\n",
      "step2\n",
      "248 masks 78\n"
     ]
    },
    {
     "name": "stderr",
     "output_type": "stream",
     "text": [
      "/var/folders/l6/3248mst11s9g2g013c04ff8w0000gp/T/ipykernel_65850/1634055033.py:74: RuntimeWarning: overflow encountered in scalar add\n",
      "  total_sum1 = int(sum(sum(chk1)) )\n"
     ]
    },
    {
     "name": "stdout",
     "output_type": "stream",
     "text": [
      "18 78 completed\n",
      "249 /Users/prdubey/Documents/code/AI_proj/Modern-Computer-Vision-with-PyTorch-2E/Chapter16/images_of_videos/20250513_163002_INF_2/frame746.jpg\n",
      "step1\n",
      "step2\n",
      "249 masks 75\n"
     ]
    },
    {
     "name": "stderr",
     "output_type": "stream",
     "text": [
      "/var/folders/l6/3248mst11s9g2g013c04ff8w0000gp/T/ipykernel_65850/1634055033.py:74: RuntimeWarning: overflow encountered in scalar add\n",
      "  total_sum1 = int(sum(sum(chk1)) )\n"
     ]
    },
    {
     "name": "stdout",
     "output_type": "stream",
     "text": [
      "23 75 completed\n",
      "250 /Users/prdubey/Documents/code/AI_proj/Modern-Computer-Vision-with-PyTorch-2E/Chapter16/images_of_videos/20250513_163002_INF_2/frame791.jpg\n",
      "step1\n",
      "step2\n",
      "250 masks 78\n"
     ]
    },
    {
     "name": "stderr",
     "output_type": "stream",
     "text": [
      "/var/folders/l6/3248mst11s9g2g013c04ff8w0000gp/T/ipykernel_65850/1634055033.py:74: RuntimeWarning: overflow encountered in scalar add\n",
      "  total_sum1 = int(sum(sum(chk1)) )\n"
     ]
    },
    {
     "name": "stdout",
     "output_type": "stream",
     "text": [
      "14 78 completed\n",
      "251 /Users/prdubey/Documents/code/AI_proj/Modern-Computer-Vision-with-PyTorch-2E/Chapter16/images_of_videos/20250513_163002_INF_2/frame785.jpg\n",
      "step1\n",
      "step2\n",
      "251 masks 79\n"
     ]
    },
    {
     "name": "stderr",
     "output_type": "stream",
     "text": [
      "/var/folders/l6/3248mst11s9g2g013c04ff8w0000gp/T/ipykernel_65850/1634055033.py:74: RuntimeWarning: overflow encountered in scalar add\n",
      "  total_sum1 = int(sum(sum(chk1)) )\n"
     ]
    },
    {
     "name": "stdout",
     "output_type": "stream",
     "text": [
      "16 79 completed\n",
      "252 /Users/prdubey/Documents/code/AI_proj/Modern-Computer-Vision-with-PyTorch-2E/Chapter16/images_of_videos/20250513_163002_INF_2/frame550.jpg\n",
      "step1\n",
      "step2\n",
      "252 masks 88\n"
     ]
    },
    {
     "name": "stderr",
     "output_type": "stream",
     "text": [
      "/var/folders/l6/3248mst11s9g2g013c04ff8w0000gp/T/ipykernel_65850/1634055033.py:74: RuntimeWarning: overflow encountered in scalar add\n",
      "  total_sum1 = int(sum(sum(chk1)) )\n"
     ]
    },
    {
     "name": "stdout",
     "output_type": "stream",
     "text": [
      "18 88 completed\n",
      "253 /Users/prdubey/Documents/code/AI_proj/Modern-Computer-Vision-with-PyTorch-2E/Chapter16/images_of_videos/20250513_163002_INF_2/frame236.jpg\n",
      "step1\n",
      "step2\n",
      "253 masks 88\n"
     ]
    },
    {
     "name": "stderr",
     "output_type": "stream",
     "text": [
      "/var/folders/l6/3248mst11s9g2g013c04ff8w0000gp/T/ipykernel_65850/1634055033.py:74: RuntimeWarning: overflow encountered in scalar add\n",
      "  total_sum1 = int(sum(sum(chk1)) )\n"
     ]
    },
    {
     "name": "stdout",
     "output_type": "stream",
     "text": [
      "25 88 completed\n",
      "254 /Users/prdubey/Documents/code/AI_proj/Modern-Computer-Vision-with-PyTorch-2E/Chapter16/images_of_videos/20250513_163002_INF_2/frame222.jpg\n",
      "step1\n",
      "step2\n",
      "254 masks 82\n"
     ]
    },
    {
     "name": "stderr",
     "output_type": "stream",
     "text": [
      "/var/folders/l6/3248mst11s9g2g013c04ff8w0000gp/T/ipykernel_65850/1634055033.py:74: RuntimeWarning: overflow encountered in scalar add\n",
      "  total_sum1 = int(sum(sum(chk1)) )\n"
     ]
    },
    {
     "name": "stdout",
     "output_type": "stream",
     "text": [
      "16 82 completed\n",
      "255 /Users/prdubey/Documents/code/AI_proj/Modern-Computer-Vision-with-PyTorch-2E/Chapter16/images_of_videos/20250513_163002_INF_2/frame544.jpg\n",
      "step1\n",
      "step2\n",
      "255 masks 86\n"
     ]
    },
    {
     "name": "stderr",
     "output_type": "stream",
     "text": [
      "/var/folders/l6/3248mst11s9g2g013c04ff8w0000gp/T/ipykernel_65850/1634055033.py:74: RuntimeWarning: overflow encountered in scalar add\n",
      "  total_sum1 = int(sum(sum(chk1)) )\n"
     ]
    },
    {
     "name": "stdout",
     "output_type": "stream",
     "text": [
      "18 86 completed\n",
      "256 /Users/prdubey/Documents/code/AI_proj/Modern-Computer-Vision-with-PyTorch-2E/Chapter16/images_of_videos/20250513_163002_INF_2/frame578.jpg\n",
      "step1\n",
      "step2\n",
      "256 masks 79\n"
     ]
    },
    {
     "name": "stderr",
     "output_type": "stream",
     "text": [
      "/var/folders/l6/3248mst11s9g2g013c04ff8w0000gp/T/ipykernel_65850/1634055033.py:74: RuntimeWarning: overflow encountered in scalar add\n",
      "  total_sum1 = int(sum(sum(chk1)) )\n"
     ]
    },
    {
     "name": "stdout",
     "output_type": "stream",
     "text": [
      "19 79 completed\n",
      "257 /Users/prdubey/Documents/code/AI_proj/Modern-Computer-Vision-with-PyTorch-2E/Chapter16/images_of_videos/20250513_163002_INF_2/frame593.jpg\n",
      "step1\n",
      "step2\n",
      "257 masks 81\n"
     ]
    },
    {
     "name": "stderr",
     "output_type": "stream",
     "text": [
      "/var/folders/l6/3248mst11s9g2g013c04ff8w0000gp/T/ipykernel_65850/1634055033.py:74: RuntimeWarning: overflow encountered in scalar add\n",
      "  total_sum1 = int(sum(sum(chk1)) )\n"
     ]
    },
    {
     "name": "stdout",
     "output_type": "stream",
     "text": [
      "22 81 completed\n",
      "258 /Users/prdubey/Documents/code/AI_proj/Modern-Computer-Vision-with-PyTorch-2E/Chapter16/images_of_videos/20250513_163002_INF_2/frame587.jpg\n",
      "step1\n",
      "step2\n",
      "258 masks 80\n"
     ]
    },
    {
     "name": "stderr",
     "output_type": "stream",
     "text": [
      "/var/folders/l6/3248mst11s9g2g013c04ff8w0000gp/T/ipykernel_65850/1634055033.py:74: RuntimeWarning: overflow encountered in scalar add\n",
      "  total_sum1 = int(sum(sum(chk1)) )\n"
     ]
    },
    {
     "name": "stdout",
     "output_type": "stream",
     "text": [
      "13 80 completed\n",
      "259 /Users/prdubey/Documents/code/AI_proj/Modern-Computer-Vision-with-PyTorch-2E/Chapter16/images_of_videos/20250513_163002_INF_2/frame286.jpg\n",
      "step1\n",
      "step2\n",
      "259 masks 84\n"
     ]
    },
    {
     "name": "stderr",
     "output_type": "stream",
     "text": [
      "/var/folders/l6/3248mst11s9g2g013c04ff8w0000gp/T/ipykernel_65850/1634055033.py:74: RuntimeWarning: overflow encountered in scalar add\n",
      "  total_sum1 = int(sum(sum(chk1)) )\n"
     ]
    },
    {
     "name": "stdout",
     "output_type": "stream",
     "text": [
      "14 84 completed\n",
      "260 /Users/prdubey/Documents/code/AI_proj/Modern-Computer-Vision-with-PyTorch-2E/Chapter16/images_of_videos/20250513_163002_INF_2/frame292.jpg\n",
      "step1\n",
      "step2\n",
      "260 masks 92\n"
     ]
    },
    {
     "name": "stderr",
     "output_type": "stream",
     "text": [
      "/var/folders/l6/3248mst11s9g2g013c04ff8w0000gp/T/ipykernel_65850/1634055033.py:74: RuntimeWarning: overflow encountered in scalar add\n",
      "  total_sum1 = int(sum(sum(chk1)) )\n"
     ]
    },
    {
     "name": "stdout",
     "output_type": "stream",
     "text": [
      "19 92 completed\n",
      "261 /Users/prdubey/Documents/code/AI_proj/Modern-Computer-Vision-with-PyTorch-2E/Chapter16/images_of_videos/20250513_163002_INF_2/frame245.jpg\n",
      "step1\n",
      "step2\n",
      "261 masks 85\n"
     ]
    },
    {
     "name": "stderr",
     "output_type": "stream",
     "text": [
      "/var/folders/l6/3248mst11s9g2g013c04ff8w0000gp/T/ipykernel_65850/1634055033.py:74: RuntimeWarning: overflow encountered in scalar add\n",
      "  total_sum1 = int(sum(sum(chk1)) )\n"
     ]
    },
    {
     "name": "stdout",
     "output_type": "stream",
     "text": [
      "15 85 completed\n",
      "262 /Users/prdubey/Documents/code/AI_proj/Modern-Computer-Vision-with-PyTorch-2E/Chapter16/images_of_videos/20250513_163002_INF_2/frame523.jpg\n",
      "step1\n",
      "step2\n",
      "262 masks 84\n"
     ]
    },
    {
     "name": "stderr",
     "output_type": "stream",
     "text": [
      "/var/folders/l6/3248mst11s9g2g013c04ff8w0000gp/T/ipykernel_65850/1634055033.py:74: RuntimeWarning: overflow encountered in scalar add\n",
      "  total_sum1 = int(sum(sum(chk1)) )\n"
     ]
    },
    {
     "name": "stdout",
     "output_type": "stream",
     "text": [
      "20 84 completed\n",
      "263 /Users/prdubey/Documents/code/AI_proj/Modern-Computer-Vision-with-PyTorch-2E/Chapter16/images_of_videos/20250513_163002_INF_2/frame537.jpg\n",
      "step1\n",
      "step2\n",
      "263 masks 84\n"
     ]
    },
    {
     "name": "stderr",
     "output_type": "stream",
     "text": [
      "/var/folders/l6/3248mst11s9g2g013c04ff8w0000gp/T/ipykernel_65850/1634055033.py:74: RuntimeWarning: overflow encountered in scalar add\n",
      "  total_sum1 = int(sum(sum(chk1)) )\n"
     ]
    },
    {
     "name": "stdout",
     "output_type": "stream",
     "text": [
      "21 84 completed\n",
      "264 /Users/prdubey/Documents/code/AI_proj/Modern-Computer-Vision-with-PyTorch-2E/Chapter16/images_of_videos/20250513_163002_INF_2/frame251.jpg\n",
      "step1\n",
      "step2\n",
      "264 masks 83\n"
     ]
    },
    {
     "name": "stderr",
     "output_type": "stream",
     "text": [
      "/var/folders/l6/3248mst11s9g2g013c04ff8w0000gp/T/ipykernel_65850/1634055033.py:74: RuntimeWarning: overflow encountered in scalar add\n",
      "  total_sum1 = int(sum(sum(chk1)) )\n"
     ]
    },
    {
     "name": "stdout",
     "output_type": "stream",
     "text": [
      "13 83 completed\n",
      "265 /Users/prdubey/Documents/code/AI_proj/Modern-Computer-Vision-with-PyTorch-2E/Chapter16/images_of_videos/20250513_163002_INF_2/frame279.jpg\n",
      "step1\n",
      "step2\n",
      "265 masks 83\n"
     ]
    },
    {
     "name": "stderr",
     "output_type": "stream",
     "text": [
      "/var/folders/l6/3248mst11s9g2g013c04ff8w0000gp/T/ipykernel_65850/1634055033.py:74: RuntimeWarning: overflow encountered in scalar add\n",
      "  total_sum1 = int(sum(sum(chk1)) )\n"
     ]
    },
    {
     "name": "stdout",
     "output_type": "stream",
     "text": [
      "18 83 completed\n",
      "266 /Users/prdubey/Documents/code/AI_proj/Modern-Computer-Vision-with-PyTorch-2E/Chapter16/images_of_videos/20250513_163002_INF_2/frame721.jpg\n",
      "step1\n",
      "step2\n",
      "266 masks 55\n"
     ]
    },
    {
     "name": "stderr",
     "output_type": "stream",
     "text": [
      "/var/folders/l6/3248mst11s9g2g013c04ff8w0000gp/T/ipykernel_65850/1634055033.py:74: RuntimeWarning: overflow encountered in scalar add\n",
      "  total_sum1 = int(sum(sum(chk1)) )\n"
     ]
    },
    {
     "name": "stdout",
     "output_type": "stream",
     "text": [
      "16 55 completed\n",
      "267 /Users/prdubey/Documents/code/AI_proj/Modern-Computer-Vision-with-PyTorch-2E/Chapter16/images_of_videos/20250513_163002_INF_2/frame735.jpg\n",
      "step1\n",
      "step2\n",
      "267 masks 81\n"
     ]
    },
    {
     "name": "stderr",
     "output_type": "stream",
     "text": [
      "/var/folders/l6/3248mst11s9g2g013c04ff8w0000gp/T/ipykernel_65850/1634055033.py:74: RuntimeWarning: overflow encountered in scalar add\n",
      "  total_sum1 = int(sum(sum(chk1)) )\n"
     ]
    },
    {
     "name": "stdout",
     "output_type": "stream",
     "text": [
      "16 81 completed\n",
      "268 /Users/prdubey/Documents/code/AI_proj/Modern-Computer-Vision-with-PyTorch-2E/Chapter16/images_of_videos/20250513_163002_INF_2/frame709.jpg\n",
      "step1\n",
      "step2\n",
      "268 masks 79\n"
     ]
    },
    {
     "name": "stderr",
     "output_type": "stream",
     "text": [
      "/var/folders/l6/3248mst11s9g2g013c04ff8w0000gp/T/ipykernel_65850/1634055033.py:74: RuntimeWarning: overflow encountered in scalar add\n",
      "  total_sum1 = int(sum(sum(chk1)) )\n"
     ]
    },
    {
     "name": "stdout",
     "output_type": "stream",
     "text": [
      "17 79 completed\n",
      "269 /Users/prdubey/Documents/code/AI_proj/Modern-Computer-Vision-with-PyTorch-2E/Chapter16/images_of_videos/20250513_163002_INF_2/frame696.jpg\n",
      "step1\n",
      "step2\n",
      "269 masks 70\n"
     ]
    },
    {
     "name": "stderr",
     "output_type": "stream",
     "text": [
      "/var/folders/l6/3248mst11s9g2g013c04ff8w0000gp/T/ipykernel_65850/1634055033.py:74: RuntimeWarning: overflow encountered in scalar add\n",
      "  total_sum1 = int(sum(sum(chk1)) )\n"
     ]
    },
    {
     "name": "stdout",
     "output_type": "stream",
     "text": [
      "14 70 completed\n",
      "270 /Users/prdubey/Documents/code/AI_proj/Modern-Computer-Vision-with-PyTorch-2E/Chapter16/images_of_videos/20250513_163002_INF_2/frame682.jpg\n",
      "step1\n",
      "step2\n",
      "270 masks 84\n"
     ]
    },
    {
     "name": "stderr",
     "output_type": "stream",
     "text": [
      "/var/folders/l6/3248mst11s9g2g013c04ff8w0000gp/T/ipykernel_65850/1634055033.py:74: RuntimeWarning: overflow encountered in scalar add\n",
      "  total_sum1 = int(sum(sum(chk1)) )\n"
     ]
    },
    {
     "name": "stdout",
     "output_type": "stream",
     "text": [
      "15 84 completed\n",
      "271 /Users/prdubey/Documents/code/AI_proj/Modern-Computer-Vision-with-PyTorch-2E/Chapter16/images_of_videos/20250513_163002_INF_2/frame655.jpg\n",
      "step1\n",
      "step2\n",
      "271 masks 76\n"
     ]
    },
    {
     "name": "stderr",
     "output_type": "stream",
     "text": [
      "/var/folders/l6/3248mst11s9g2g013c04ff8w0000gp/T/ipykernel_65850/1634055033.py:74: RuntimeWarning: overflow encountered in scalar add\n",
      "  total_sum1 = int(sum(sum(chk1)) )\n"
     ]
    },
    {
     "name": "stdout",
     "output_type": "stream",
     "text": [
      "19 76 completed\n",
      "272 /Users/prdubey/Documents/code/AI_proj/Modern-Computer-Vision-with-PyTorch-2E/Chapter16/images_of_videos/20250513_163002_INF_2/frame19.jpg\n",
      "step1\n",
      "step2\n",
      "272 masks 94\n"
     ]
    },
    {
     "name": "stderr",
     "output_type": "stream",
     "text": [
      "/var/folders/l6/3248mst11s9g2g013c04ff8w0000gp/T/ipykernel_65850/1634055033.py:74: RuntimeWarning: overflow encountered in scalar add\n",
      "  total_sum1 = int(sum(sum(chk1)) )\n"
     ]
    },
    {
     "name": "stdout",
     "output_type": "stream",
     "text": [
      "18 94 completed\n",
      "273 /Users/prdubey/Documents/code/AI_proj/Modern-Computer-Vision-with-PyTorch-2E/Chapter16/images_of_videos/20250513_163002_INF_2/frame133.jpg\n",
      "step1\n",
      "step2\n",
      "273 masks 77\n"
     ]
    },
    {
     "name": "stderr",
     "output_type": "stream",
     "text": [
      "/var/folders/l6/3248mst11s9g2g013c04ff8w0000gp/T/ipykernel_65850/1634055033.py:74: RuntimeWarning: overflow encountered in scalar add\n",
      "  total_sum1 = int(sum(sum(chk1)) )\n"
     ]
    },
    {
     "name": "stdout",
     "output_type": "stream",
     "text": [
      "19 77 completed\n",
      "274 /Users/prdubey/Documents/code/AI_proj/Modern-Computer-Vision-with-PyTorch-2E/Chapter16/images_of_videos/20250513_163002_INF_2/frame127.jpg\n",
      "step1\n",
      "step2\n",
      "274 masks 79\n"
     ]
    },
    {
     "name": "stderr",
     "output_type": "stream",
     "text": [
      "/var/folders/l6/3248mst11s9g2g013c04ff8w0000gp/T/ipykernel_65850/1634055033.py:74: RuntimeWarning: overflow encountered in scalar add\n",
      "  total_sum1 = int(sum(sum(chk1)) )\n"
     ]
    },
    {
     "name": "stdout",
     "output_type": "stream",
     "text": [
      "18 79 completed\n",
      "275 /Users/prdubey/Documents/code/AI_proj/Modern-Computer-Vision-with-PyTorch-2E/Chapter16/images_of_videos/20250513_163002_INF_2/frame641.jpg\n",
      "step1\n",
      "step2\n",
      "275 masks 82\n"
     ]
    },
    {
     "name": "stderr",
     "output_type": "stream",
     "text": [
      "/var/folders/l6/3248mst11s9g2g013c04ff8w0000gp/T/ipykernel_65850/1634055033.py:74: RuntimeWarning: overflow encountered in scalar add\n",
      "  total_sum1 = int(sum(sum(chk1)) )\n"
     ]
    },
    {
     "name": "stdout",
     "output_type": "stream",
     "text": [
      "16 82 completed\n",
      "276 /Users/prdubey/Documents/code/AI_proj/Modern-Computer-Vision-with-PyTorch-2E/Chapter16/images_of_videos/20250513_163002_INF_2/frame25.jpg\n",
      "step1\n",
      "step2\n",
      "276 masks 89\n"
     ]
    },
    {
     "name": "stderr",
     "output_type": "stream",
     "text": [
      "/var/folders/l6/3248mst11s9g2g013c04ff8w0000gp/T/ipykernel_65850/1634055033.py:74: RuntimeWarning: overflow encountered in scalar add\n",
      "  total_sum1 = int(sum(sum(chk1)) )\n"
     ]
    },
    {
     "name": "stdout",
     "output_type": "stream",
     "text": [
      "27 89 completed\n",
      "277 /Users/prdubey/Documents/code/AI_proj/Modern-Computer-Vision-with-PyTorch-2E/Chapter16/images_of_videos/20250513_163002_INF_2/frame669.jpg\n",
      "step1\n",
      "step2\n",
      "277 masks 77\n"
     ]
    },
    {
     "name": "stderr",
     "output_type": "stream",
     "text": [
      "/var/folders/l6/3248mst11s9g2g013c04ff8w0000gp/T/ipykernel_65850/1634055033.py:74: RuntimeWarning: overflow encountered in scalar add\n",
      "  total_sum1 = int(sum(sum(chk1)) )\n"
     ]
    },
    {
     "name": "stdout",
     "output_type": "stream",
     "text": [
      "15 77 completed\n",
      "278 /Users/prdubey/Documents/code/AI_proj/Modern-Computer-Vision-with-PyTorch-2E/Chapter16/images_of_videos/20250513_163002_INF_2/frame31.jpg\n",
      "step1\n",
      "step2\n",
      "278 masks 87\n"
     ]
    },
    {
     "name": "stderr",
     "output_type": "stream",
     "text": [
      "/var/folders/l6/3248mst11s9g2g013c04ff8w0000gp/T/ipykernel_65850/1634055033.py:74: RuntimeWarning: overflow encountered in scalar add\n",
      "  total_sum1 = int(sum(sum(chk1)) )\n"
     ]
    },
    {
     "name": "stdout",
     "output_type": "stream",
     "text": [
      "16 87 completed\n",
      "279 /Users/prdubey/Documents/code/AI_proj/Modern-Computer-Vision-with-PyTorch-2E/Chapter16/images_of_videos/20250513_163002_INF_2/frame494.jpg\n",
      "step1\n",
      "step2\n",
      "279 masks 76\n"
     ]
    },
    {
     "name": "stderr",
     "output_type": "stream",
     "text": [
      "/var/folders/l6/3248mst11s9g2g013c04ff8w0000gp/T/ipykernel_65850/1634055033.py:74: RuntimeWarning: overflow encountered in scalar add\n",
      "  total_sum1 = int(sum(sum(chk1)) )\n"
     ]
    },
    {
     "name": "stdout",
     "output_type": "stream",
     "text": [
      "20 76 completed\n",
      "280 /Users/prdubey/Documents/code/AI_proj/Modern-Computer-Vision-with-PyTorch-2E/Chapter16/images_of_videos/20250513_163002_INF_2/frame480.jpg\n",
      "step1\n",
      "step2\n",
      "280 masks 80\n"
     ]
    },
    {
     "name": "stderr",
     "output_type": "stream",
     "text": [
      "/var/folders/l6/3248mst11s9g2g013c04ff8w0000gp/T/ipykernel_65850/1634055033.py:74: RuntimeWarning: overflow encountered in scalar add\n",
      "  total_sum1 = int(sum(sum(chk1)) )\n"
     ]
    },
    {
     "name": "stdout",
     "output_type": "stream",
     "text": [
      "16 80 completed\n",
      "281 /Users/prdubey/Documents/code/AI_proj/Modern-Computer-Vision-with-PyTorch-2E/Chapter16/images_of_videos/20250513_163002_INF_2/frame331.jpg\n",
      "step1\n",
      "step2\n",
      "281 masks 85\n"
     ]
    },
    {
     "name": "stderr",
     "output_type": "stream",
     "text": [
      "/var/folders/l6/3248mst11s9g2g013c04ff8w0000gp/T/ipykernel_65850/1634055033.py:74: RuntimeWarning: overflow encountered in scalar add\n",
      "  total_sum1 = int(sum(sum(chk1)) )\n"
     ]
    },
    {
     "name": "stdout",
     "output_type": "stream",
     "text": [
      "22 85 completed\n",
      "282 /Users/prdubey/Documents/code/AI_proj/Modern-Computer-Vision-with-PyTorch-2E/Chapter16/images_of_videos/20250513_163002_INF_2/frame457.jpg\n",
      "step1\n",
      "step2\n",
      "282 masks 80\n"
     ]
    },
    {
     "name": "stderr",
     "output_type": "stream",
     "text": [
      "/var/folders/l6/3248mst11s9g2g013c04ff8w0000gp/T/ipykernel_65850/1634055033.py:74: RuntimeWarning: overflow encountered in scalar add\n",
      "  total_sum1 = int(sum(sum(chk1)) )\n"
     ]
    },
    {
     "name": "stdout",
     "output_type": "stream",
     "text": [
      "18 80 completed\n",
      "283 /Users/prdubey/Documents/code/AI_proj/Modern-Computer-Vision-with-PyTorch-2E/Chapter16/images_of_videos/20250513_163002_INF_2/frame443.jpg\n",
      "step1\n",
      "step2\n",
      "283 masks 81\n"
     ]
    },
    {
     "name": "stderr",
     "output_type": "stream",
     "text": [
      "/var/folders/l6/3248mst11s9g2g013c04ff8w0000gp/T/ipykernel_65850/1634055033.py:74: RuntimeWarning: overflow encountered in scalar add\n",
      "  total_sum1 = int(sum(sum(chk1)) )\n"
     ]
    },
    {
     "name": "stdout",
     "output_type": "stream",
     "text": [
      "21 81 completed\n",
      "284 /Users/prdubey/Documents/code/AI_proj/Modern-Computer-Vision-with-PyTorch-2E/Chapter16/images_of_videos/20250513_163002_INF_2/frame325.jpg\n",
      "step1\n",
      "step2\n",
      "284 masks 83\n"
     ]
    },
    {
     "name": "stderr",
     "output_type": "stream",
     "text": [
      "/var/folders/l6/3248mst11s9g2g013c04ff8w0000gp/T/ipykernel_65850/1634055033.py:74: RuntimeWarning: overflow encountered in scalar add\n",
      "  total_sum1 = int(sum(sum(chk1)) )\n"
     ]
    },
    {
     "name": "stdout",
     "output_type": "stream",
     "text": [
      "22 83 completed\n",
      "285 /Users/prdubey/Documents/code/AI_proj/Modern-Computer-Vision-with-PyTorch-2E/Chapter16/images_of_videos/20250513_163002_INF_2/frame319.jpg\n",
      "step1\n",
      "step2\n",
      "285 masks 84\n"
     ]
    },
    {
     "name": "stderr",
     "output_type": "stream",
     "text": [
      "/var/folders/l6/3248mst11s9g2g013c04ff8w0000gp/T/ipykernel_65850/1634055033.py:74: RuntimeWarning: overflow encountered in scalar add\n",
      "  total_sum1 = int(sum(sum(chk1)) )\n"
     ]
    },
    {
     "name": "stdout",
     "output_type": "stream",
     "text": [
      "15 84 completed\n",
      "286 /Users/prdubey/Documents/code/AI_proj/Modern-Computer-Vision-with-PyTorch-2E/Chapter16/images_of_videos/20250513_163002_INF_2/frame318.jpg\n",
      "step1\n",
      "step2\n",
      "286 masks 85\n"
     ]
    },
    {
     "name": "stderr",
     "output_type": "stream",
     "text": [
      "/var/folders/l6/3248mst11s9g2g013c04ff8w0000gp/T/ipykernel_65850/1634055033.py:74: RuntimeWarning: overflow encountered in scalar add\n",
      "  total_sum1 = int(sum(sum(chk1)) )\n"
     ]
    },
    {
     "name": "stdout",
     "output_type": "stream",
     "text": [
      "16 85 completed\n",
      "287 /Users/prdubey/Documents/code/AI_proj/Modern-Computer-Vision-with-PyTorch-2E/Chapter16/images_of_videos/20250513_163002_INF_2/frame442.jpg\n",
      "step1\n",
      "step2\n",
      "287 masks 81\n"
     ]
    },
    {
     "name": "stderr",
     "output_type": "stream",
     "text": [
      "/var/folders/l6/3248mst11s9g2g013c04ff8w0000gp/T/ipykernel_65850/1634055033.py:74: RuntimeWarning: overflow encountered in scalar add\n",
      "  total_sum1 = int(sum(sum(chk1)) )\n"
     ]
    },
    {
     "name": "stdout",
     "output_type": "stream",
     "text": [
      "23 81 completed\n",
      "288 /Users/prdubey/Documents/code/AI_proj/Modern-Computer-Vision-with-PyTorch-2E/Chapter16/images_of_videos/20250513_163002_INF_2/frame324.jpg\n",
      "step1\n",
      "step2\n",
      "288 masks 89\n"
     ]
    },
    {
     "name": "stderr",
     "output_type": "stream",
     "text": [
      "/var/folders/l6/3248mst11s9g2g013c04ff8w0000gp/T/ipykernel_65850/1634055033.py:74: RuntimeWarning: overflow encountered in scalar add\n",
      "  total_sum1 = int(sum(sum(chk1)) )\n"
     ]
    },
    {
     "name": "stdout",
     "output_type": "stream",
     "text": [
      "17 89 completed\n",
      "289 /Users/prdubey/Documents/code/AI_proj/Modern-Computer-Vision-with-PyTorch-2E/Chapter16/images_of_videos/20250513_163002_INF_2/frame330.jpg\n",
      "step1\n",
      "step2\n",
      "289 masks 88\n"
     ]
    },
    {
     "name": "stderr",
     "output_type": "stream",
     "text": [
      "/var/folders/l6/3248mst11s9g2g013c04ff8w0000gp/T/ipykernel_65850/1634055033.py:74: RuntimeWarning: overflow encountered in scalar add\n",
      "  total_sum1 = int(sum(sum(chk1)) )\n"
     ]
    },
    {
     "name": "stdout",
     "output_type": "stream",
     "text": [
      "21 88 completed\n",
      "290 /Users/prdubey/Documents/code/AI_proj/Modern-Computer-Vision-with-PyTorch-2E/Chapter16/images_of_videos/20250513_163002_INF_2/frame456.jpg\n",
      "step1\n",
      "step2\n",
      "290 masks 80\n"
     ]
    },
    {
     "name": "stderr",
     "output_type": "stream",
     "text": [
      "/var/folders/l6/3248mst11s9g2g013c04ff8w0000gp/T/ipykernel_65850/1634055033.py:74: RuntimeWarning: overflow encountered in scalar add\n",
      "  total_sum1 = int(sum(sum(chk1)) )\n"
     ]
    },
    {
     "name": "stdout",
     "output_type": "stream",
     "text": [
      "25 80 completed\n",
      "291 /Users/prdubey/Documents/code/AI_proj/Modern-Computer-Vision-with-PyTorch-2E/Chapter16/images_of_videos/20250513_163002_INF_2/frame481.jpg\n",
      "step1\n",
      "step2\n",
      "291 masks 75\n"
     ]
    },
    {
     "name": "stderr",
     "output_type": "stream",
     "text": [
      "/var/folders/l6/3248mst11s9g2g013c04ff8w0000gp/T/ipykernel_65850/1634055033.py:74: RuntimeWarning: overflow encountered in scalar add\n",
      "  total_sum1 = int(sum(sum(chk1)) )\n"
     ]
    },
    {
     "name": "stdout",
     "output_type": "stream",
     "text": [
      "25 75 completed\n",
      "292 /Users/prdubey/Documents/code/AI_proj/Modern-Computer-Vision-with-PyTorch-2E/Chapter16/images_of_videos/20250513_163002_INF_2/frame495.jpg\n",
      "step1\n",
      "step2\n",
      "292 masks 79\n"
     ]
    },
    {
     "name": "stderr",
     "output_type": "stream",
     "text": [
      "/var/folders/l6/3248mst11s9g2g013c04ff8w0000gp/T/ipykernel_65850/1634055033.py:74: RuntimeWarning: overflow encountered in scalar add\n",
      "  total_sum1 = int(sum(sum(chk1)) )\n"
     ]
    },
    {
     "name": "stdout",
     "output_type": "stream",
     "text": [
      "16 79 completed\n",
      "293 /Users/prdubey/Documents/code/AI_proj/Modern-Computer-Vision-with-PyTorch-2E/Chapter16/images_of_videos/20250513_163002_INF_2/frame30.jpg\n",
      "step1\n",
      "step2\n",
      "293 masks 76\n"
     ]
    },
    {
     "name": "stderr",
     "output_type": "stream",
     "text": [
      "/var/folders/l6/3248mst11s9g2g013c04ff8w0000gp/T/ipykernel_65850/1634055033.py:74: RuntimeWarning: overflow encountered in scalar add\n",
      "  total_sum1 = int(sum(sum(chk1)) )\n"
     ]
    },
    {
     "name": "stdout",
     "output_type": "stream",
     "text": [
      "16 76 completed\n",
      "294 /Users/prdubey/Documents/code/AI_proj/Modern-Computer-Vision-with-PyTorch-2E/Chapter16/images_of_videos/20250513_163002_INF_2/frame668.jpg\n",
      "step1\n",
      "step2\n",
      "294 masks 80\n"
     ]
    },
    {
     "name": "stderr",
     "output_type": "stream",
     "text": [
      "/var/folders/l6/3248mst11s9g2g013c04ff8w0000gp/T/ipykernel_65850/1634055033.py:74: RuntimeWarning: overflow encountered in scalar add\n",
      "  total_sum1 = int(sum(sum(chk1)) )\n"
     ]
    },
    {
     "name": "stdout",
     "output_type": "stream",
     "text": [
      "19 80 completed\n",
      "295 /Users/prdubey/Documents/code/AI_proj/Modern-Computer-Vision-with-PyTorch-2E/Chapter16/images_of_videos/20250513_163002_INF_2/frame24.jpg\n",
      "step1\n",
      "step2\n",
      "295 masks 88\n"
     ]
    },
    {
     "name": "stderr",
     "output_type": "stream",
     "text": [
      "/var/folders/l6/3248mst11s9g2g013c04ff8w0000gp/T/ipykernel_65850/1634055033.py:74: RuntimeWarning: overflow encountered in scalar add\n",
      "  total_sum1 = int(sum(sum(chk1)) )\n"
     ]
    },
    {
     "name": "stdout",
     "output_type": "stream",
     "text": [
      "23 88 completed\n",
      "296 /Users/prdubey/Documents/code/AI_proj/Modern-Computer-Vision-with-PyTorch-2E/Chapter16/images_of_videos/20250513_163002_INF_2/frame126.jpg\n",
      "step1\n",
      "step2\n",
      "296 masks 87\n"
     ]
    },
    {
     "name": "stderr",
     "output_type": "stream",
     "text": [
      "/var/folders/l6/3248mst11s9g2g013c04ff8w0000gp/T/ipykernel_65850/1634055033.py:74: RuntimeWarning: overflow encountered in scalar add\n",
      "  total_sum1 = int(sum(sum(chk1)) )\n"
     ]
    },
    {
     "name": "stdout",
     "output_type": "stream",
     "text": [
      "22 87 completed\n",
      "297 /Users/prdubey/Documents/code/AI_proj/Modern-Computer-Vision-with-PyTorch-2E/Chapter16/images_of_videos/20250513_163002_INF_2/frame640.jpg\n",
      "step1\n",
      "step2\n",
      "297 masks 83\n"
     ]
    },
    {
     "name": "stderr",
     "output_type": "stream",
     "text": [
      "/var/folders/l6/3248mst11s9g2g013c04ff8w0000gp/T/ipykernel_65850/1634055033.py:74: RuntimeWarning: overflow encountered in scalar add\n",
      "  total_sum1 = int(sum(sum(chk1)) )\n"
     ]
    },
    {
     "name": "stdout",
     "output_type": "stream",
     "text": [
      "15 83 completed\n",
      "298 /Users/prdubey/Documents/code/AI_proj/Modern-Computer-Vision-with-PyTorch-2E/Chapter16/images_of_videos/20250513_163002_INF_2/frame18.jpg\n",
      "step1\n",
      "step2\n",
      "298 masks 92\n"
     ]
    },
    {
     "name": "stderr",
     "output_type": "stream",
     "text": [
      "/var/folders/l6/3248mst11s9g2g013c04ff8w0000gp/T/ipykernel_65850/1634055033.py:74: RuntimeWarning: overflow encountered in scalar add\n",
      "  total_sum1 = int(sum(sum(chk1)) )\n"
     ]
    },
    {
     "name": "stdout",
     "output_type": "stream",
     "text": [
      "19 92 completed\n",
      "299 /Users/prdubey/Documents/code/AI_proj/Modern-Computer-Vision-with-PyTorch-2E/Chapter16/images_of_videos/20250513_163002_INF_2/frame654.jpg\n",
      "step1\n",
      "step2\n",
      "299 masks 67\n"
     ]
    },
    {
     "name": "stderr",
     "output_type": "stream",
     "text": [
      "/var/folders/l6/3248mst11s9g2g013c04ff8w0000gp/T/ipykernel_65850/1634055033.py:74: RuntimeWarning: overflow encountered in scalar add\n",
      "  total_sum1 = int(sum(sum(chk1)) )\n"
     ]
    },
    {
     "name": "stdout",
     "output_type": "stream",
     "text": [
      "16 67 completed\n",
      "300 /Users/prdubey/Documents/code/AI_proj/Modern-Computer-Vision-with-PyTorch-2E/Chapter16/images_of_videos/20250513_163002_INF_2/frame132.jpg\n",
      "step1\n",
      "step2\n",
      "300 masks 83\n"
     ]
    },
    {
     "name": "stderr",
     "output_type": "stream",
     "text": [
      "/var/folders/l6/3248mst11s9g2g013c04ff8w0000gp/T/ipykernel_65850/1634055033.py:74: RuntimeWarning: overflow encountered in scalar add\n",
      "  total_sum1 = int(sum(sum(chk1)) )\n"
     ]
    },
    {
     "name": "stdout",
     "output_type": "stream",
     "text": [
      "18 83 completed\n",
      "301 /Users/prdubey/Documents/code/AI_proj/Modern-Computer-Vision-with-PyTorch-2E/Chapter16/images_of_videos/20250513_163002_INF_2/frame683.jpg\n",
      "step1\n",
      "step2\n",
      "301 masks 83\n"
     ]
    },
    {
     "name": "stderr",
     "output_type": "stream",
     "text": [
      "/var/folders/l6/3248mst11s9g2g013c04ff8w0000gp/T/ipykernel_65850/1634055033.py:74: RuntimeWarning: overflow encountered in scalar add\n",
      "  total_sum1 = int(sum(sum(chk1)) )\n"
     ]
    },
    {
     "name": "stdout",
     "output_type": "stream",
     "text": [
      "20 83 completed\n",
      "302 /Users/prdubey/Documents/code/AI_proj/Modern-Computer-Vision-with-PyTorch-2E/Chapter16/images_of_videos/20250513_163002_INF_2/frame697.jpg\n",
      "step1\n",
      "step2\n",
      "302 masks 68\n"
     ]
    },
    {
     "name": "stderr",
     "output_type": "stream",
     "text": [
      "/var/folders/l6/3248mst11s9g2g013c04ff8w0000gp/T/ipykernel_65850/1634055033.py:74: RuntimeWarning: overflow encountered in scalar add\n",
      "  total_sum1 = int(sum(sum(chk1)) )\n"
     ]
    },
    {
     "name": "stdout",
     "output_type": "stream",
     "text": [
      "14 68 completed\n",
      "303 /Users/prdubey/Documents/code/AI_proj/Modern-Computer-Vision-with-PyTorch-2E/Chapter16/images_of_videos/20250513_163002_INF_2/frame708.jpg\n",
      "step1\n",
      "step2\n",
      "303 masks 78\n"
     ]
    },
    {
     "name": "stderr",
     "output_type": "stream",
     "text": [
      "/var/folders/l6/3248mst11s9g2g013c04ff8w0000gp/T/ipykernel_65850/1634055033.py:74: RuntimeWarning: overflow encountered in scalar add\n",
      "  total_sum1 = int(sum(sum(chk1)) )\n"
     ]
    },
    {
     "name": "stdout",
     "output_type": "stream",
     "text": [
      "20 78 completed\n",
      "304 /Users/prdubey/Documents/code/AI_proj/Modern-Computer-Vision-with-PyTorch-2E/Chapter16/images_of_videos/20250513_163002_INF_2/frame734.jpg\n",
      "step1\n",
      "step2\n",
      "304 masks 78\n"
     ]
    },
    {
     "name": "stderr",
     "output_type": "stream",
     "text": [
      "/var/folders/l6/3248mst11s9g2g013c04ff8w0000gp/T/ipykernel_65850/1634055033.py:74: RuntimeWarning: overflow encountered in scalar add\n",
      "  total_sum1 = int(sum(sum(chk1)) )\n"
     ]
    },
    {
     "name": "stdout",
     "output_type": "stream",
     "text": [
      "15 78 completed\n",
      "305 /Users/prdubey/Documents/code/AI_proj/Modern-Computer-Vision-with-PyTorch-2E/Chapter16/images_of_videos/20250513_163002_INF_2/frame720.jpg\n",
      "step1\n",
      "step2\n",
      "305 masks 77\n"
     ]
    },
    {
     "name": "stderr",
     "output_type": "stream",
     "text": [
      "/var/folders/l6/3248mst11s9g2g013c04ff8w0000gp/T/ipykernel_65850/1634055033.py:74: RuntimeWarning: overflow encountered in scalar add\n",
      "  total_sum1 = int(sum(sum(chk1)) )\n"
     ]
    },
    {
     "name": "stdout",
     "output_type": "stream",
     "text": [
      "16 77 completed\n",
      "306 /Users/prdubey/Documents/code/AI_proj/Modern-Computer-Vision-with-PyTorch-2E/Chapter16/images_of_videos/20250513_163002_INF_2/frame278.jpg\n",
      "step1\n",
      "step2\n",
      "306 masks 80\n"
     ]
    },
    {
     "name": "stderr",
     "output_type": "stream",
     "text": [
      "/var/folders/l6/3248mst11s9g2g013c04ff8w0000gp/T/ipykernel_65850/1634055033.py:74: RuntimeWarning: overflow encountered in scalar add\n",
      "  total_sum1 = int(sum(sum(chk1)) )\n"
     ]
    },
    {
     "name": "stdout",
     "output_type": "stream",
     "text": [
      "16 80 completed\n",
      "307 /Users/prdubey/Documents/code/AI_proj/Modern-Computer-Vision-with-PyTorch-2E/Chapter16/images_of_videos/20250513_163002_INF_2/frame536.jpg\n",
      "step1\n",
      "step2\n",
      "307 masks 82\n"
     ]
    },
    {
     "name": "stderr",
     "output_type": "stream",
     "text": [
      "/var/folders/l6/3248mst11s9g2g013c04ff8w0000gp/T/ipykernel_65850/1634055033.py:74: RuntimeWarning: overflow encountered in scalar add\n",
      "  total_sum1 = int(sum(sum(chk1)) )\n"
     ]
    },
    {
     "name": "stdout",
     "output_type": "stream",
     "text": [
      "16 82 completed\n",
      "308 /Users/prdubey/Documents/code/AI_proj/Modern-Computer-Vision-with-PyTorch-2E/Chapter16/images_of_videos/20250513_163002_INF_2/frame250.jpg\n",
      "step1\n",
      "step2\n",
      "308 masks 88\n"
     ]
    },
    {
     "name": "stderr",
     "output_type": "stream",
     "text": [
      "/var/folders/l6/3248mst11s9g2g013c04ff8w0000gp/T/ipykernel_65850/1634055033.py:74: RuntimeWarning: overflow encountered in scalar add\n",
      "  total_sum1 = int(sum(sum(chk1)) )\n"
     ]
    },
    {
     "name": "stdout",
     "output_type": "stream",
     "text": [
      "16 88 completed\n",
      "309 /Users/prdubey/Documents/code/AI_proj/Modern-Computer-Vision-with-PyTorch-2E/Chapter16/images_of_videos/20250513_163002_INF_2/frame244.jpg\n",
      "step1\n",
      "step2\n",
      "309 masks 83\n"
     ]
    },
    {
     "name": "stderr",
     "output_type": "stream",
     "text": [
      "/var/folders/l6/3248mst11s9g2g013c04ff8w0000gp/T/ipykernel_65850/1634055033.py:74: RuntimeWarning: overflow encountered in scalar add\n",
      "  total_sum1 = int(sum(sum(chk1)) )\n"
     ]
    },
    {
     "name": "stdout",
     "output_type": "stream",
     "text": [
      "17 83 completed\n",
      "310 /Users/prdubey/Documents/code/AI_proj/Modern-Computer-Vision-with-PyTorch-2E/Chapter16/images_of_videos/20250513_163002_INF_2/frame522.jpg\n",
      "step1\n",
      "step2\n",
      "310 masks 80\n"
     ]
    },
    {
     "name": "stderr",
     "output_type": "stream",
     "text": [
      "/var/folders/l6/3248mst11s9g2g013c04ff8w0000gp/T/ipykernel_65850/1634055033.py:74: RuntimeWarning: overflow encountered in scalar add\n",
      "  total_sum1 = int(sum(sum(chk1)) )\n"
     ]
    },
    {
     "name": "stdout",
     "output_type": "stream",
     "text": [
      "18 80 completed\n",
      "311 /Users/prdubey/Documents/code/AI_proj/Modern-Computer-Vision-with-PyTorch-2E/Chapter16/images_of_videos/20250513_163002_INF_2/frame293.jpg\n",
      "step1\n",
      "step2\n",
      "311 masks 88\n"
     ]
    },
    {
     "name": "stderr",
     "output_type": "stream",
     "text": [
      "/var/folders/l6/3248mst11s9g2g013c04ff8w0000gp/T/ipykernel_65850/1634055033.py:74: RuntimeWarning: overflow encountered in scalar add\n",
      "  total_sum1 = int(sum(sum(chk1)) )\n"
     ]
    },
    {
     "name": "stdout",
     "output_type": "stream",
     "text": [
      "20 88 completed\n",
      "312 /Users/prdubey/Documents/code/AI_proj/Modern-Computer-Vision-with-PyTorch-2E/Chapter16/images_of_videos/20250513_163002_INF_2/frame287.jpg\n",
      "step1\n",
      "step2\n",
      "312 masks 84\n"
     ]
    },
    {
     "name": "stderr",
     "output_type": "stream",
     "text": [
      "/var/folders/l6/3248mst11s9g2g013c04ff8w0000gp/T/ipykernel_65850/1634055033.py:74: RuntimeWarning: overflow encountered in scalar add\n",
      "  total_sum1 = int(sum(sum(chk1)) )\n"
     ]
    },
    {
     "name": "stdout",
     "output_type": "stream",
     "text": [
      "22 84 completed\n",
      "313 /Users/prdubey/Documents/code/AI_proj/Modern-Computer-Vision-with-PyTorch-2E/Chapter16/images_of_videos/20250513_163002_INF_2/frame291.jpg\n",
      "step1\n",
      "step2\n",
      "313 masks 64\n"
     ]
    },
    {
     "name": "stderr",
     "output_type": "stream",
     "text": [
      "/var/folders/l6/3248mst11s9g2g013c04ff8w0000gp/T/ipykernel_65850/1634055033.py:74: RuntimeWarning: overflow encountered in scalar add\n",
      "  total_sum1 = int(sum(sum(chk1)) )\n"
     ]
    },
    {
     "name": "stdout",
     "output_type": "stream",
     "text": [
      "15 64 completed\n",
      "314 /Users/prdubey/Documents/code/AI_proj/Modern-Computer-Vision-with-PyTorch-2E/Chapter16/images_of_videos/20250513_163002_INF_2/frame285.jpg\n",
      "step1\n",
      "step2\n",
      "314 masks 87\n"
     ]
    },
    {
     "name": "stderr",
     "output_type": "stream",
     "text": [
      "/var/folders/l6/3248mst11s9g2g013c04ff8w0000gp/T/ipykernel_65850/1634055033.py:74: RuntimeWarning: overflow encountered in scalar add\n",
      "  total_sum1 = int(sum(sum(chk1)) )\n"
     ]
    },
    {
     "name": "stdout",
     "output_type": "stream",
     "text": [
      "20 87 completed\n",
      "315 /Users/prdubey/Documents/code/AI_proj/Modern-Computer-Vision-with-PyTorch-2E/Chapter16/images_of_videos/20250513_163002_INF_2/frame252.jpg\n",
      "step1\n",
      "step2\n",
      "315 masks 80\n"
     ]
    },
    {
     "name": "stderr",
     "output_type": "stream",
     "text": [
      "/var/folders/l6/3248mst11s9g2g013c04ff8w0000gp/T/ipykernel_65850/1634055033.py:74: RuntimeWarning: overflow encountered in scalar add\n",
      "  total_sum1 = int(sum(sum(chk1)) )\n"
     ]
    },
    {
     "name": "stdout",
     "output_type": "stream",
     "text": [
      "20 80 completed\n",
      "316 /Users/prdubey/Documents/code/AI_proj/Modern-Computer-Vision-with-PyTorch-2E/Chapter16/images_of_videos/20250513_163002_INF_2/frame534.jpg\n",
      "step1\n",
      "step2\n",
      "316 masks 84\n"
     ]
    },
    {
     "name": "stderr",
     "output_type": "stream",
     "text": [
      "/var/folders/l6/3248mst11s9g2g013c04ff8w0000gp/T/ipykernel_65850/1634055033.py:74: RuntimeWarning: overflow encountered in scalar add\n",
      "  total_sum1 = int(sum(sum(chk1)) )\n"
     ]
    },
    {
     "name": "stdout",
     "output_type": "stream",
     "text": [
      "15 84 completed\n",
      "317 /Users/prdubey/Documents/code/AI_proj/Modern-Computer-Vision-with-PyTorch-2E/Chapter16/images_of_videos/20250513_163002_INF_2/frame520.jpg\n",
      "step1\n",
      "step2\n",
      "317 masks 83\n"
     ]
    },
    {
     "name": "stderr",
     "output_type": "stream",
     "text": [
      "/var/folders/l6/3248mst11s9g2g013c04ff8w0000gp/T/ipykernel_65850/1634055033.py:74: RuntimeWarning: overflow encountered in scalar add\n",
      "  total_sum1 = int(sum(sum(chk1)) )\n"
     ]
    },
    {
     "name": "stdout",
     "output_type": "stream",
     "text": [
      "21 83 completed\n",
      "318 /Users/prdubey/Documents/code/AI_proj/Modern-Computer-Vision-with-PyTorch-2E/Chapter16/images_of_videos/20250513_163002_INF_2/frame246.jpg\n",
      "step1\n",
      "step2\n",
      "318 masks 79\n"
     ]
    },
    {
     "name": "stderr",
     "output_type": "stream",
     "text": [
      "/var/folders/l6/3248mst11s9g2g013c04ff8w0000gp/T/ipykernel_65850/1634055033.py:74: RuntimeWarning: overflow encountered in scalar add\n",
      "  total_sum1 = int(sum(sum(chk1)) )\n"
     ]
    },
    {
     "name": "stdout",
     "output_type": "stream",
     "text": [
      "16 79 completed\n",
      "319 /Users/prdubey/Documents/code/AI_proj/Modern-Computer-Vision-with-PyTorch-2E/Chapter16/images_of_videos/20250513_163002_INF_2/frame508.jpg\n",
      "step1\n",
      "step2\n",
      "319 masks 82\n"
     ]
    },
    {
     "name": "stderr",
     "output_type": "stream",
     "text": [
      "/var/folders/l6/3248mst11s9g2g013c04ff8w0000gp/T/ipykernel_65850/1634055033.py:74: RuntimeWarning: overflow encountered in scalar add\n",
      "  total_sum1 = int(sum(sum(chk1)) )\n"
     ]
    },
    {
     "name": "stdout",
     "output_type": "stream",
     "text": [
      "19 82 completed\n",
      "320 /Users/prdubey/Documents/code/AI_proj/Modern-Computer-Vision-with-PyTorch-2E/Chapter16/images_of_videos/20250513_163002_INF_2/frame736.jpg\n",
      "step1\n",
      "step2\n",
      "320 masks 75\n"
     ]
    },
    {
     "name": "stderr",
     "output_type": "stream",
     "text": [
      "/var/folders/l6/3248mst11s9g2g013c04ff8w0000gp/T/ipykernel_65850/1634055033.py:74: RuntimeWarning: overflow encountered in scalar add\n",
      "  total_sum1 = int(sum(sum(chk1)) )\n"
     ]
    },
    {
     "name": "stdout",
     "output_type": "stream",
     "text": [
      "11 75 completed\n",
      "321 /Users/prdubey/Documents/code/AI_proj/Modern-Computer-Vision-with-PyTorch-2E/Chapter16/images_of_videos/20250513_163002_INF_2/frame722.jpg\n",
      "step1\n",
      "step2\n",
      "321 masks 80\n"
     ]
    },
    {
     "name": "stderr",
     "output_type": "stream",
     "text": [
      "/var/folders/l6/3248mst11s9g2g013c04ff8w0000gp/T/ipykernel_65850/1634055033.py:74: RuntimeWarning: overflow encountered in scalar add\n",
      "  total_sum1 = int(sum(sum(chk1)) )\n"
     ]
    },
    {
     "name": "stdout",
     "output_type": "stream",
     "text": [
      "16 80 completed\n",
      "322 /Users/prdubey/Documents/code/AI_proj/Modern-Computer-Vision-with-PyTorch-2E/Chapter16/images_of_videos/20250513_163002_INF_2/frame681.jpg\n",
      "step1\n",
      "step2\n",
      "322 masks 79\n"
     ]
    },
    {
     "name": "stderr",
     "output_type": "stream",
     "text": [
      "/var/folders/l6/3248mst11s9g2g013c04ff8w0000gp/T/ipykernel_65850/1634055033.py:74: RuntimeWarning: overflow encountered in scalar add\n",
      "  total_sum1 = int(sum(sum(chk1)) )\n"
     ]
    },
    {
     "name": "stdout",
     "output_type": "stream",
     "text": [
      "11 79 completed\n",
      "323 /Users/prdubey/Documents/code/AI_proj/Modern-Computer-Vision-with-PyTorch-2E/Chapter16/images_of_videos/20250513_163002_INF_2/frame695.jpg\n",
      "step1\n",
      "step2\n",
      "323 masks 74\n"
     ]
    },
    {
     "name": "stderr",
     "output_type": "stream",
     "text": [
      "/var/folders/l6/3248mst11s9g2g013c04ff8w0000gp/T/ipykernel_65850/1634055033.py:74: RuntimeWarning: overflow encountered in scalar add\n",
      "  total_sum1 = int(sum(sum(chk1)) )\n"
     ]
    },
    {
     "name": "stdout",
     "output_type": "stream",
     "text": [
      "10 74 completed\n",
      "324 /Users/prdubey/Documents/code/AI_proj/Modern-Computer-Vision-with-PyTorch-2E/Chapter16/images_of_videos/20250513_163002_INF_2/frame642.jpg\n",
      "step1\n",
      "step2\n",
      "324 masks 85\n"
     ]
    },
    {
     "name": "stderr",
     "output_type": "stream",
     "text": [
      "/var/folders/l6/3248mst11s9g2g013c04ff8w0000gp/T/ipykernel_65850/1634055033.py:74: RuntimeWarning: overflow encountered in scalar add\n",
      "  total_sum1 = int(sum(sum(chk1)) )\n"
     ]
    },
    {
     "name": "stdout",
     "output_type": "stream",
     "text": [
      "15 85 completed\n",
      "325 /Users/prdubey/Documents/code/AI_proj/Modern-Computer-Vision-with-PyTorch-2E/Chapter16/images_of_videos/20250513_163002_INF_2/frame124.jpg\n",
      "step1\n",
      "step2\n",
      "325 masks 90\n"
     ]
    },
    {
     "name": "stderr",
     "output_type": "stream",
     "text": [
      "/var/folders/l6/3248mst11s9g2g013c04ff8w0000gp/T/ipykernel_65850/1634055033.py:74: RuntimeWarning: overflow encountered in scalar add\n",
      "  total_sum1 = int(sum(sum(chk1)) )\n"
     ]
    },
    {
     "name": "stdout",
     "output_type": "stream",
     "text": [
      "26 90 completed\n",
      "326 /Users/prdubey/Documents/code/AI_proj/Modern-Computer-Vision-with-PyTorch-2E/Chapter16/images_of_videos/20250513_163002_INF_2/frame130.jpg\n",
      "step1\n",
      "step2\n",
      "326 masks 77\n"
     ]
    },
    {
     "name": "stderr",
     "output_type": "stream",
     "text": [
      "/var/folders/l6/3248mst11s9g2g013c04ff8w0000gp/T/ipykernel_65850/1634055033.py:74: RuntimeWarning: overflow encountered in scalar add\n",
      "  total_sum1 = int(sum(sum(chk1)) )\n"
     ]
    },
    {
     "name": "stdout",
     "output_type": "stream",
     "text": [
      "23 77 completed\n",
      "327 /Users/prdubey/Documents/code/AI_proj/Modern-Computer-Vision-with-PyTorch-2E/Chapter16/images_of_videos/20250513_163002_INF_2/frame656.jpg\n",
      "step1\n",
      "step2\n",
      "327 masks 82\n"
     ]
    },
    {
     "name": "stderr",
     "output_type": "stream",
     "text": [
      "/var/folders/l6/3248mst11s9g2g013c04ff8w0000gp/T/ipykernel_65850/1634055033.py:74: RuntimeWarning: overflow encountered in scalar add\n",
      "  total_sum1 = int(sum(sum(chk1)) )\n"
     ]
    },
    {
     "name": "stdout",
     "output_type": "stream",
     "text": [
      "21 82 completed\n",
      "328 /Users/prdubey/Documents/code/AI_proj/Modern-Computer-Vision-with-PyTorch-2E/Chapter16/images_of_videos/20250513_163002_INF_2/frame32.jpg\n",
      "step1\n",
      "step2\n",
      "328 masks 84\n"
     ]
    },
    {
     "name": "stderr",
     "output_type": "stream",
     "text": [
      "/var/folders/l6/3248mst11s9g2g013c04ff8w0000gp/T/ipykernel_65850/1634055033.py:74: RuntimeWarning: overflow encountered in scalar add\n",
      "  total_sum1 = int(sum(sum(chk1)) )\n"
     ]
    },
    {
     "name": "stdout",
     "output_type": "stream",
     "text": [
      "14 84 completed\n",
      "329 /Users/prdubey/Documents/code/AI_proj/Modern-Computer-Vision-with-PyTorch-2E/Chapter16/images_of_videos/20250513_163002_INF_2/frame118.jpg\n",
      "step1\n",
      "step2\n",
      "329 masks 89\n"
     ]
    },
    {
     "name": "stderr",
     "output_type": "stream",
     "text": [
      "/var/folders/l6/3248mst11s9g2g013c04ff8w0000gp/T/ipykernel_65850/1634055033.py:74: RuntimeWarning: overflow encountered in scalar add\n",
      "  total_sum1 = int(sum(sum(chk1)) )\n"
     ]
    },
    {
     "name": "stdout",
     "output_type": "stream",
     "text": [
      "20 89 completed\n",
      "330 /Users/prdubey/Documents/code/AI_proj/Modern-Computer-Vision-with-PyTorch-2E/Chapter16/images_of_videos/20250513_163002_INF_2/frame26.jpg\n",
      "step1\n",
      "step2\n",
      "330 masks 84\n"
     ]
    },
    {
     "name": "stderr",
     "output_type": "stream",
     "text": [
      "/var/folders/l6/3248mst11s9g2g013c04ff8w0000gp/T/ipykernel_65850/1634055033.py:74: RuntimeWarning: overflow encountered in scalar add\n",
      "  total_sum1 = int(sum(sum(chk1)) )\n"
     ]
    },
    {
     "name": "stdout",
     "output_type": "stream",
     "text": [
      "10 84 completed\n",
      "331 /Users/prdubey/Documents/code/AI_proj/Modern-Computer-Vision-with-PyTorch-2E/Chapter16/images_of_videos/20250513_163002_INF_2/frame483.jpg\n",
      "step1\n",
      "step2\n",
      "331 masks 78\n"
     ]
    },
    {
     "name": "stderr",
     "output_type": "stream",
     "text": [
      "/var/folders/l6/3248mst11s9g2g013c04ff8w0000gp/T/ipykernel_65850/1634055033.py:74: RuntimeWarning: overflow encountered in scalar add\n",
      "  total_sum1 = int(sum(sum(chk1)) )\n"
     ]
    },
    {
     "name": "stdout",
     "output_type": "stream",
     "text": [
      "18 78 completed\n",
      "332 /Users/prdubey/Documents/code/AI_proj/Modern-Computer-Vision-with-PyTorch-2E/Chapter16/images_of_videos/20250513_163002_INF_2/frame497.jpg\n",
      "step1\n",
      "step2\n",
      "332 masks 80\n"
     ]
    },
    {
     "name": "stderr",
     "output_type": "stream",
     "text": [
      "/var/folders/l6/3248mst11s9g2g013c04ff8w0000gp/T/ipykernel_65850/1634055033.py:74: RuntimeWarning: overflow encountered in scalar add\n",
      "  total_sum1 = int(sum(sum(chk1)) )\n"
     ]
    },
    {
     "name": "stdout",
     "output_type": "stream",
     "text": [
      "13 80 completed\n",
      "333 /Users/prdubey/Documents/code/AI_proj/Modern-Computer-Vision-with-PyTorch-2E/Chapter16/images_of_videos/20250513_163002_INF_2/frame326.jpg\n",
      "step1\n",
      "step2\n",
      "333 masks 85\n"
     ]
    },
    {
     "name": "stderr",
     "output_type": "stream",
     "text": [
      "/var/folders/l6/3248mst11s9g2g013c04ff8w0000gp/T/ipykernel_65850/1634055033.py:74: RuntimeWarning: overflow encountered in scalar add\n",
      "  total_sum1 = int(sum(sum(chk1)) )\n"
     ]
    },
    {
     "name": "stdout",
     "output_type": "stream",
     "text": [
      "20 85 completed\n",
      "334 /Users/prdubey/Documents/code/AI_proj/Modern-Computer-Vision-with-PyTorch-2E/Chapter16/images_of_videos/20250513_163002_INF_2/frame440.jpg\n",
      "step1\n",
      "step2\n",
      "334 masks 84\n"
     ]
    },
    {
     "name": "stderr",
     "output_type": "stream",
     "text": [
      "/var/folders/l6/3248mst11s9g2g013c04ff8w0000gp/T/ipykernel_65850/1634055033.py:74: RuntimeWarning: overflow encountered in scalar add\n",
      "  total_sum1 = int(sum(sum(chk1)) )\n"
     ]
    },
    {
     "name": "stdout",
     "output_type": "stream",
     "text": [
      "22 84 completed\n",
      "335 /Users/prdubey/Documents/code/AI_proj/Modern-Computer-Vision-with-PyTorch-2E/Chapter16/images_of_videos/20250513_163002_INF_2/frame454.jpg\n",
      "step1\n",
      "step2\n",
      "335 masks 80\n"
     ]
    },
    {
     "name": "stderr",
     "output_type": "stream",
     "text": [
      "/var/folders/l6/3248mst11s9g2g013c04ff8w0000gp/T/ipykernel_65850/1634055033.py:74: RuntimeWarning: overflow encountered in scalar add\n",
      "  total_sum1 = int(sum(sum(chk1)) )\n"
     ]
    },
    {
     "name": "stdout",
     "output_type": "stream",
     "text": [
      "21 80 completed\n",
      "336 /Users/prdubey/Documents/code/AI_proj/Modern-Computer-Vision-with-PyTorch-2E/Chapter16/images_of_videos/20250513_163002_INF_2/frame332.jpg\n",
      "step1\n",
      "step2\n",
      "336 masks 92\n"
     ]
    },
    {
     "name": "stderr",
     "output_type": "stream",
     "text": [
      "/var/folders/l6/3248mst11s9g2g013c04ff8w0000gp/T/ipykernel_65850/1634055033.py:74: RuntimeWarning: overflow encountered in scalar add\n",
      "  total_sum1 = int(sum(sum(chk1)) )\n"
     ]
    },
    {
     "name": "stdout",
     "output_type": "stream",
     "text": [
      "15 92 completed\n",
      "337 /Users/prdubey/Documents/code/AI_proj/Modern-Computer-Vision-with-PyTorch-2E/Chapter16/images_of_videos/20250513_163002_INF_2/frame468.jpg\n",
      "step1\n",
      "step2\n",
      "337 masks 80\n"
     ]
    },
    {
     "name": "stderr",
     "output_type": "stream",
     "text": [
      "/var/folders/l6/3248mst11s9g2g013c04ff8w0000gp/T/ipykernel_65850/1634055033.py:74: RuntimeWarning: overflow encountered in scalar add\n",
      "  total_sum1 = int(sum(sum(chk1)) )\n"
     ]
    },
    {
     "name": "stdout",
     "output_type": "stream",
     "text": [
      "17 80 completed\n",
      "338 /Users/prdubey/Documents/code/AI_proj/Modern-Computer-Vision-with-PyTorch-2E/Chapter16/images_of_videos/20250513_163002_INF_2/frame469.jpg\n",
      "step1\n",
      "step2\n",
      "338 masks 86\n"
     ]
    },
    {
     "name": "stderr",
     "output_type": "stream",
     "text": [
      "/var/folders/l6/3248mst11s9g2g013c04ff8w0000gp/T/ipykernel_65850/1634055033.py:74: RuntimeWarning: overflow encountered in scalar add\n",
      "  total_sum1 = int(sum(sum(chk1)) )\n"
     ]
    },
    {
     "name": "stdout",
     "output_type": "stream",
     "text": [
      "19 86 completed\n",
      "339 /Users/prdubey/Documents/code/AI_proj/Modern-Computer-Vision-with-PyTorch-2E/Chapter16/images_of_videos/20250513_163002_INF_2/frame455.jpg\n",
      "step1\n",
      "step2\n",
      "339 masks 77\n"
     ]
    },
    {
     "name": "stderr",
     "output_type": "stream",
     "text": [
      "/var/folders/l6/3248mst11s9g2g013c04ff8w0000gp/T/ipykernel_65850/1634055033.py:74: RuntimeWarning: overflow encountered in scalar add\n",
      "  total_sum1 = int(sum(sum(chk1)) )\n"
     ]
    },
    {
     "name": "stdout",
     "output_type": "stream",
     "text": [
      "20 77 completed\n",
      "340 /Users/prdubey/Documents/code/AI_proj/Modern-Computer-Vision-with-PyTorch-2E/Chapter16/images_of_videos/20250513_163002_INF_2/frame333.jpg\n",
      "step1\n",
      "step2\n",
      "340 masks 86\n"
     ]
    },
    {
     "name": "stderr",
     "output_type": "stream",
     "text": [
      "/var/folders/l6/3248mst11s9g2g013c04ff8w0000gp/T/ipykernel_65850/1634055033.py:74: RuntimeWarning: overflow encountered in scalar add\n",
      "  total_sum1 = int(sum(sum(chk1)) )\n"
     ]
    },
    {
     "name": "stdout",
     "output_type": "stream",
     "text": [
      "18 86 completed\n",
      "341 /Users/prdubey/Documents/code/AI_proj/Modern-Computer-Vision-with-PyTorch-2E/Chapter16/images_of_videos/20250513_163002_INF_2/frame327.jpg\n",
      "step1\n",
      "step2\n",
      "341 masks 82\n"
     ]
    },
    {
     "name": "stderr",
     "output_type": "stream",
     "text": [
      "/var/folders/l6/3248mst11s9g2g013c04ff8w0000gp/T/ipykernel_65850/1634055033.py:74: RuntimeWarning: overflow encountered in scalar add\n",
      "  total_sum1 = int(sum(sum(chk1)) )\n"
     ]
    },
    {
     "name": "stdout",
     "output_type": "stream",
     "text": [
      "23 82 completed\n",
      "342 /Users/prdubey/Documents/code/AI_proj/Modern-Computer-Vision-with-PyTorch-2E/Chapter16/images_of_videos/20250513_163002_INF_2/frame441.jpg\n",
      "step1\n",
      "step2\n",
      "342 masks 86\n"
     ]
    },
    {
     "name": "stderr",
     "output_type": "stream",
     "text": [
      "/var/folders/l6/3248mst11s9g2g013c04ff8w0000gp/T/ipykernel_65850/1634055033.py:74: RuntimeWarning: overflow encountered in scalar add\n",
      "  total_sum1 = int(sum(sum(chk1)) )\n"
     ]
    },
    {
     "name": "stdout",
     "output_type": "stream",
     "text": [
      "24 86 completed\n",
      "343 /Users/prdubey/Documents/code/AI_proj/Modern-Computer-Vision-with-PyTorch-2E/Chapter16/images_of_videos/20250513_163002_INF_2/frame496.jpg\n",
      "step1\n",
      "step2\n",
      "343 masks 87\n"
     ]
    },
    {
     "name": "stderr",
     "output_type": "stream",
     "text": [
      "/var/folders/l6/3248mst11s9g2g013c04ff8w0000gp/T/ipykernel_65850/1634055033.py:74: RuntimeWarning: overflow encountered in scalar add\n",
      "  total_sum1 = int(sum(sum(chk1)) )\n"
     ]
    },
    {
     "name": "stdout",
     "output_type": "stream",
     "text": [
      "22 87 completed\n",
      "344 /Users/prdubey/Documents/code/AI_proj/Modern-Computer-Vision-with-PyTorch-2E/Chapter16/images_of_videos/20250513_163002_INF_2/frame482.jpg\n",
      "step1\n",
      "step2\n",
      "344 masks 77\n"
     ]
    },
    {
     "name": "stderr",
     "output_type": "stream",
     "text": [
      "/var/folders/l6/3248mst11s9g2g013c04ff8w0000gp/T/ipykernel_65850/1634055033.py:74: RuntimeWarning: overflow encountered in scalar add\n",
      "  total_sum1 = int(sum(sum(chk1)) )\n"
     ]
    },
    {
     "name": "stdout",
     "output_type": "stream",
     "text": [
      "10 77 completed\n",
      "345 /Users/prdubey/Documents/code/AI_proj/Modern-Computer-Vision-with-PyTorch-2E/Chapter16/images_of_videos/20250513_163002_INF_2/frame27.jpg\n",
      "step1\n",
      "step2\n",
      "345 masks 84\n"
     ]
    },
    {
     "name": "stderr",
     "output_type": "stream",
     "text": [
      "/var/folders/l6/3248mst11s9g2g013c04ff8w0000gp/T/ipykernel_65850/1634055033.py:74: RuntimeWarning: overflow encountered in scalar add\n",
      "  total_sum1 = int(sum(sum(chk1)) )\n"
     ]
    },
    {
     "name": "stdout",
     "output_type": "stream",
     "text": [
      "20 84 completed\n",
      "346 /Users/prdubey/Documents/code/AI_proj/Modern-Computer-Vision-with-PyTorch-2E/Chapter16/images_of_videos/20250513_163002_INF_2/frame33.jpg\n",
      "step1\n",
      "step2\n",
      "346 masks 82\n"
     ]
    },
    {
     "name": "stderr",
     "output_type": "stream",
     "text": [
      "/var/folders/l6/3248mst11s9g2g013c04ff8w0000gp/T/ipykernel_65850/1634055033.py:74: RuntimeWarning: overflow encountered in scalar add\n",
      "  total_sum1 = int(sum(sum(chk1)) )\n"
     ]
    },
    {
     "name": "stdout",
     "output_type": "stream",
     "text": [
      "23 82 completed\n",
      "347 /Users/prdubey/Documents/code/AI_proj/Modern-Computer-Vision-with-PyTorch-2E/Chapter16/images_of_videos/20250513_163002_INF_2/frame119.jpg\n",
      "step1\n",
      "step2\n",
      "347 masks 79\n"
     ]
    },
    {
     "name": "stderr",
     "output_type": "stream",
     "text": [
      "/var/folders/l6/3248mst11s9g2g013c04ff8w0000gp/T/ipykernel_65850/1634055033.py:74: RuntimeWarning: overflow encountered in scalar add\n",
      "  total_sum1 = int(sum(sum(chk1)) )\n"
     ]
    },
    {
     "name": "stdout",
     "output_type": "stream",
     "text": [
      "19 79 completed\n",
      "348 /Users/prdubey/Documents/code/AI_proj/Modern-Computer-Vision-with-PyTorch-2E/Chapter16/images_of_videos/20250513_163002_INF_2/frame131.jpg\n",
      "step1\n",
      "step2\n",
      "348 masks 84\n"
     ]
    },
    {
     "name": "stderr",
     "output_type": "stream",
     "text": [
      "/var/folders/l6/3248mst11s9g2g013c04ff8w0000gp/T/ipykernel_65850/1634055033.py:74: RuntimeWarning: overflow encountered in scalar add\n",
      "  total_sum1 = int(sum(sum(chk1)) )\n"
     ]
    },
    {
     "name": "stdout",
     "output_type": "stream",
     "text": [
      "14 84 completed\n",
      "349 /Users/prdubey/Documents/code/AI_proj/Modern-Computer-Vision-with-PyTorch-2E/Chapter16/images_of_videos/20250513_163002_INF_2/frame657.jpg\n",
      "step1\n",
      "step2\n",
      "349 masks 81\n"
     ]
    },
    {
     "name": "stderr",
     "output_type": "stream",
     "text": [
      "/var/folders/l6/3248mst11s9g2g013c04ff8w0000gp/T/ipykernel_65850/1634055033.py:74: RuntimeWarning: overflow encountered in scalar add\n",
      "  total_sum1 = int(sum(sum(chk1)) )\n"
     ]
    },
    {
     "name": "stdout",
     "output_type": "stream",
     "text": [
      "21 81 completed\n",
      "350 /Users/prdubey/Documents/code/AI_proj/Modern-Computer-Vision-with-PyTorch-2E/Chapter16/images_of_videos/20250513_163002_INF_2/frame643.jpg\n",
      "step1\n",
      "step2\n",
      "350 masks 81\n"
     ]
    },
    {
     "name": "stderr",
     "output_type": "stream",
     "text": [
      "/var/folders/l6/3248mst11s9g2g013c04ff8w0000gp/T/ipykernel_65850/1634055033.py:74: RuntimeWarning: overflow encountered in scalar add\n",
      "  total_sum1 = int(sum(sum(chk1)) )\n"
     ]
    },
    {
     "name": "stdout",
     "output_type": "stream",
     "text": [
      "17 81 completed\n",
      "351 /Users/prdubey/Documents/code/AI_proj/Modern-Computer-Vision-with-PyTorch-2E/Chapter16/images_of_videos/20250513_163002_INF_2/frame125.jpg\n",
      "step1\n",
      "step2\n",
      "351 masks 82\n"
     ]
    },
    {
     "name": "stderr",
     "output_type": "stream",
     "text": [
      "/var/folders/l6/3248mst11s9g2g013c04ff8w0000gp/T/ipykernel_65850/1634055033.py:74: RuntimeWarning: overflow encountered in scalar add\n",
      "  total_sum1 = int(sum(sum(chk1)) )\n"
     ]
    },
    {
     "name": "stdout",
     "output_type": "stream",
     "text": [
      "18 82 completed\n",
      "352 /Users/prdubey/Documents/code/AI_proj/Modern-Computer-Vision-with-PyTorch-2E/Chapter16/images_of_videos/20250513_163002_INF_2/frame694.jpg\n",
      "step1\n",
      "step2\n",
      "352 masks 84\n"
     ]
    },
    {
     "name": "stderr",
     "output_type": "stream",
     "text": [
      "/var/folders/l6/3248mst11s9g2g013c04ff8w0000gp/T/ipykernel_65850/1634055033.py:74: RuntimeWarning: overflow encountered in scalar add\n",
      "  total_sum1 = int(sum(sum(chk1)) )\n"
     ]
    },
    {
     "name": "stdout",
     "output_type": "stream",
     "text": [
      "23 84 completed\n",
      "353 /Users/prdubey/Documents/code/AI_proj/Modern-Computer-Vision-with-PyTorch-2E/Chapter16/images_of_videos/20250513_163002_INF_2/frame680.jpg\n",
      "step1\n",
      "step2\n",
      "353 masks 77\n"
     ]
    },
    {
     "name": "stderr",
     "output_type": "stream",
     "text": [
      "/var/folders/l6/3248mst11s9g2g013c04ff8w0000gp/T/ipykernel_65850/1634055033.py:74: RuntimeWarning: overflow encountered in scalar add\n",
      "  total_sum1 = int(sum(sum(chk1)) )\n"
     ]
    },
    {
     "name": "stdout",
     "output_type": "stream",
     "text": [
      "10 77 completed\n",
      "354 /Users/prdubey/Documents/code/AI_proj/Modern-Computer-Vision-with-PyTorch-2E/Chapter16/images_of_videos/20250513_163002_INF_2/frame723.jpg\n",
      "step1\n",
      "step2\n",
      "354 masks 76\n"
     ]
    },
    {
     "name": "stderr",
     "output_type": "stream",
     "text": [
      "/var/folders/l6/3248mst11s9g2g013c04ff8w0000gp/T/ipykernel_65850/1634055033.py:74: RuntimeWarning: overflow encountered in scalar add\n",
      "  total_sum1 = int(sum(sum(chk1)) )\n"
     ]
    },
    {
     "name": "stdout",
     "output_type": "stream",
     "text": [
      "19 76 completed\n",
      "355 /Users/prdubey/Documents/code/AI_proj/Modern-Computer-Vision-with-PyTorch-2E/Chapter16/images_of_videos/20250513_163002_INF_2/frame737.jpg\n",
      "step1\n",
      "step2\n",
      "355 masks 76\n"
     ]
    },
    {
     "name": "stderr",
     "output_type": "stream",
     "text": [
      "/var/folders/l6/3248mst11s9g2g013c04ff8w0000gp/T/ipykernel_65850/1634055033.py:74: RuntimeWarning: overflow encountered in scalar add\n",
      "  total_sum1 = int(sum(sum(chk1)) )\n"
     ]
    },
    {
     "name": "stdout",
     "output_type": "stream",
     "text": [
      "21 76 completed\n",
      "356 /Users/prdubey/Documents/code/AI_proj/Modern-Computer-Vision-with-PyTorch-2E/Chapter16/images_of_videos/20250513_163002_INF_2/frame509.jpg\n",
      "step1\n",
      "step2\n",
      "356 masks 81\n"
     ]
    },
    {
     "name": "stderr",
     "output_type": "stream",
     "text": [
      "/var/folders/l6/3248mst11s9g2g013c04ff8w0000gp/T/ipykernel_65850/1634055033.py:74: RuntimeWarning: overflow encountered in scalar add\n",
      "  total_sum1 = int(sum(sum(chk1)) )\n"
     ]
    },
    {
     "name": "stdout",
     "output_type": "stream",
     "text": [
      "16 81 completed\n",
      "357 /Users/prdubey/Documents/code/AI_proj/Modern-Computer-Vision-with-PyTorch-2E/Chapter16/images_of_videos/20250513_163002_INF_2/frame521.jpg\n",
      "step1\n",
      "step2\n",
      "357 masks 82\n"
     ]
    },
    {
     "name": "stderr",
     "output_type": "stream",
     "text": [
      "/var/folders/l6/3248mst11s9g2g013c04ff8w0000gp/T/ipykernel_65850/1634055033.py:74: RuntimeWarning: overflow encountered in scalar add\n",
      "  total_sum1 = int(sum(sum(chk1)) )\n"
     ]
    },
    {
     "name": "stdout",
     "output_type": "stream",
     "text": [
      "22 82 completed\n",
      "358 /Users/prdubey/Documents/code/AI_proj/Modern-Computer-Vision-with-PyTorch-2E/Chapter16/images_of_videos/20250513_163002_INF_2/frame247.jpg\n",
      "step1\n",
      "step2\n",
      "358 masks 82\n"
     ]
    },
    {
     "name": "stderr",
     "output_type": "stream",
     "text": [
      "/var/folders/l6/3248mst11s9g2g013c04ff8w0000gp/T/ipykernel_65850/1634055033.py:74: RuntimeWarning: overflow encountered in scalar add\n",
      "  total_sum1 = int(sum(sum(chk1)) )\n"
     ]
    },
    {
     "name": "stdout",
     "output_type": "stream",
     "text": [
      "19 82 completed\n",
      "359 /Users/prdubey/Documents/code/AI_proj/Modern-Computer-Vision-with-PyTorch-2E/Chapter16/images_of_videos/20250513_163002_INF_2/frame253.jpg\n",
      "step1\n",
      "step2\n",
      "359 masks 85\n"
     ]
    },
    {
     "name": "stderr",
     "output_type": "stream",
     "text": [
      "/var/folders/l6/3248mst11s9g2g013c04ff8w0000gp/T/ipykernel_65850/1634055033.py:74: RuntimeWarning: overflow encountered in scalar add\n",
      "  total_sum1 = int(sum(sum(chk1)) )\n"
     ]
    },
    {
     "name": "stdout",
     "output_type": "stream",
     "text": [
      "19 85 completed\n",
      "360 /Users/prdubey/Documents/code/AI_proj/Modern-Computer-Vision-with-PyTorch-2E/Chapter16/images_of_videos/20250513_163002_INF_2/frame535.jpg\n",
      "step1\n",
      "step2\n",
      "360 masks 78\n"
     ]
    },
    {
     "name": "stderr",
     "output_type": "stream",
     "text": [
      "/var/folders/l6/3248mst11s9g2g013c04ff8w0000gp/T/ipykernel_65850/1634055033.py:74: RuntimeWarning: overflow encountered in scalar add\n",
      "  total_sum1 = int(sum(sum(chk1)) )\n"
     ]
    },
    {
     "name": "stdout",
     "output_type": "stream",
     "text": [
      "15 78 completed\n",
      "361 /Users/prdubey/Documents/code/AI_proj/Modern-Computer-Vision-with-PyTorch-2E/Chapter16/images_of_videos/20250513_163002_INF_2/frame284.jpg\n",
      "step1\n",
      "step2\n",
      "361 masks 89\n"
     ]
    },
    {
     "name": "stderr",
     "output_type": "stream",
     "text": [
      "/var/folders/l6/3248mst11s9g2g013c04ff8w0000gp/T/ipykernel_65850/1634055033.py:74: RuntimeWarning: overflow encountered in scalar add\n",
      "  total_sum1 = int(sum(sum(chk1)) )\n"
     ]
    },
    {
     "name": "stdout",
     "output_type": "stream",
     "text": [
      "20 89 completed\n",
      "362 /Users/prdubey/Documents/code/AI_proj/Modern-Computer-Vision-with-PyTorch-2E/Chapter16/images_of_videos/20250513_163002_INF_2/frame290.jpg\n",
      "step1\n",
      "step2\n",
      "362 masks 80\n"
     ]
    },
    {
     "name": "stderr",
     "output_type": "stream",
     "text": [
      "/var/folders/l6/3248mst11s9g2g013c04ff8w0000gp/T/ipykernel_65850/1634055033.py:74: RuntimeWarning: overflow encountered in scalar add\n",
      "  total_sum1 = int(sum(sum(chk1)) )\n"
     ]
    },
    {
     "name": "stdout",
     "output_type": "stream",
     "text": [
      "19 80 completed\n",
      "363 /Users/prdubey/Documents/code/AI_proj/Modern-Computer-Vision-with-PyTorch-2E/Chapter16/images_of_videos/20250513_163002_INF_2/frame294.jpg\n",
      "step1\n",
      "step2\n",
      "363 masks 88\n"
     ]
    },
    {
     "name": "stderr",
     "output_type": "stream",
     "text": [
      "/var/folders/l6/3248mst11s9g2g013c04ff8w0000gp/T/ipykernel_65850/1634055033.py:74: RuntimeWarning: overflow encountered in scalar add\n",
      "  total_sum1 = int(sum(sum(chk1)) )\n"
     ]
    },
    {
     "name": "stdout",
     "output_type": "stream",
     "text": [
      "14 88 completed\n",
      "364 /Users/prdubey/Documents/code/AI_proj/Modern-Computer-Vision-with-PyTorch-2E/Chapter16/images_of_videos/20250513_163002_INF_2/frame280.jpg\n",
      "step1\n",
      "step2\n",
      "364 masks 82\n"
     ]
    },
    {
     "name": "stderr",
     "output_type": "stream",
     "text": [
      "/var/folders/l6/3248mst11s9g2g013c04ff8w0000gp/T/ipykernel_65850/1634055033.py:74: RuntimeWarning: overflow encountered in scalar add\n",
      "  total_sum1 = int(sum(sum(chk1)) )\n"
     ]
    },
    {
     "name": "stdout",
     "output_type": "stream",
     "text": [
      "20 82 completed\n",
      "365 /Users/prdubey/Documents/code/AI_proj/Modern-Computer-Vision-with-PyTorch-2E/Chapter16/images_of_videos/20250513_163002_INF_2/frame519.jpg\n",
      "step1\n",
      "step2\n",
      "365 masks 76\n"
     ]
    },
    {
     "name": "stderr",
     "output_type": "stream",
     "text": [
      "/var/folders/l6/3248mst11s9g2g013c04ff8w0000gp/T/ipykernel_65850/1634055033.py:74: RuntimeWarning: overflow encountered in scalar add\n",
      "  total_sum1 = int(sum(sum(chk1)) )\n"
     ]
    },
    {
     "name": "stdout",
     "output_type": "stream",
     "text": [
      "22 76 completed\n",
      "366 /Users/prdubey/Documents/code/AI_proj/Modern-Computer-Vision-with-PyTorch-2E/Chapter16/images_of_videos/20250513_163002_INF_2/frame531.jpg\n",
      "step1\n",
      "step2\n",
      "366 masks 83\n"
     ]
    },
    {
     "name": "stderr",
     "output_type": "stream",
     "text": [
      "/var/folders/l6/3248mst11s9g2g013c04ff8w0000gp/T/ipykernel_65850/1634055033.py:74: RuntimeWarning: overflow encountered in scalar add\n",
      "  total_sum1 = int(sum(sum(chk1)) )\n"
     ]
    },
    {
     "name": "stdout",
     "output_type": "stream",
     "text": [
      "20 83 completed\n",
      "367 /Users/prdubey/Documents/code/AI_proj/Modern-Computer-Vision-with-PyTorch-2E/Chapter16/images_of_videos/20250513_163002_INF_2/frame257.jpg\n",
      "step1\n",
      "step2\n",
      "367 masks 85\n"
     ]
    },
    {
     "name": "stderr",
     "output_type": "stream",
     "text": [
      "/var/folders/l6/3248mst11s9g2g013c04ff8w0000gp/T/ipykernel_65850/1634055033.py:74: RuntimeWarning: overflow encountered in scalar add\n",
      "  total_sum1 = int(sum(sum(chk1)) )\n"
     ]
    },
    {
     "name": "stdout",
     "output_type": "stream",
     "text": [
      "25 85 completed\n",
      "368 /Users/prdubey/Documents/code/AI_proj/Modern-Computer-Vision-with-PyTorch-2E/Chapter16/images_of_videos/20250513_163002_INF_2/frame243.jpg\n",
      "step1\n",
      "step2\n",
      "368 masks 85\n"
     ]
    },
    {
     "name": "stderr",
     "output_type": "stream",
     "text": [
      "/var/folders/l6/3248mst11s9g2g013c04ff8w0000gp/T/ipykernel_65850/1634055033.py:74: RuntimeWarning: overflow encountered in scalar add\n",
      "  total_sum1 = int(sum(sum(chk1)) )\n"
     ]
    },
    {
     "name": "stdout",
     "output_type": "stream",
     "text": [
      "14 85 completed\n",
      "369 /Users/prdubey/Documents/code/AI_proj/Modern-Computer-Vision-with-PyTorch-2E/Chapter16/images_of_videos/20250513_163002_INF_2/frame525.jpg\n",
      "step1\n"
     ]
    }
   ],
   "source": [
    "\n",
    "from segment_anything import SamAutomaticMaskGenerator, sam_model_registry, SamPredictor\n",
    "import cv2\n",
    "import os\n",
    "!wget https://dl.fbaipublicfiles.com/segment_anything/sam_vit_h_4b8939.pth\n",
    "sam = sam_model_registry[\"vit_h\"](checkpoint=\"sam_vit_h_4b8939.pth\")\n",
    "mask_generator = SamAutomaticMaskGenerator(sam)\n",
    "help(SamAutomaticMaskGenerator)\n",
    "\n",
    "predictor = SamPredictor(sam)\n",
    "\n",
    "import numpy as np\n",
    "import matplotlib.pyplot as plt\n",
    "%matplotlib inline\n",
    "def show_anns(anns, fname):\n",
    "        if len(anns) == 0:\n",
    "            return\n",
    "        sorted_anns = sorted(anns, key=(lambda x: x['area']), reverse=True)\n",
    "        ax = plt.gca()\n",
    "        ax.set_autoscale_on(False)\n",
    "        img = np.ones((sorted_anns[0]['segmentation'].shape[0],\n",
    "        sorted_anns[0]['segmentation'].shape[1], 4))\n",
    "        img[:,:,3] = 0\n",
    "        for ann in sorted_anns:\n",
    "            m = ann['segmentation']\n",
    "            color_mask = np.concatenate([np.random.random(3), [0.35]])\n",
    "            img[m] = color_mask\n",
    "        ax.imshow(img)\n",
    "        #ax.savefig(fname)\n",
    "        return img\n",
    "        #ax.imshow(img)\n",
    "\n",
    "\n",
    "\n",
    "pth = \"/Users/prdubey/Documents/code/AI_proj/Modern-Computer-Vision-with-PyTorch-2E/Chapter16/images_of_videos/\"\n",
    "subdir_list = ['20250513_163002_INF_2','20250513_163132_INF_2']#os.listdir(pth)\n",
    "for ctr_list in range(len(subdir_list)):\n",
    "    path_index = pth+subdir_list[ctr_list]\n",
    "    sub_path = os.listdir(path_index)\n",
    "    for i in range(len(sub_path)):\n",
    "        print(i,path_index+'/'+sub_path[i])\n",
    "        image = cv2.imread(path_index+'/'+sub_path[i])\n",
    "        image = cv2.cvtColor(image, cv2.COLOR_BGR2RGB)\n",
    "        predictor.set_image(image)\n",
    "        #%%time\n",
    "        print('step1')\n",
    "        masks = mask_generator.generate(image)\n",
    "        print('step2')\n",
    "        import numpy as np\n",
    "        import torch\n",
    "        import matplotlib.pyplot as plt\n",
    "        import cv2\n",
    "       \n",
    "        #plt.figure(figsize=(20,20))\n",
    "        #plt.imshow(image)\n",
    "        try:\n",
    "            os.makedirs(path_index+'/segmented_images')\n",
    "            print('created directory', path_index+'/segmented_images')\n",
    "        except:\n",
    "            aa = 2+3\n",
    "        fname = path_index+'/segmented_images/'+sub_path[i].split('.')[0]+'.jpg'\n",
    "        plt.figure(figsize=(40,40))\n",
    "        plt.imshow(image)\n",
    "        imgg = show_anns(masks,fname)\n",
    "       \n",
    "        plt.axis('off')\n",
    "        plt.imshow(imgg)\n",
    "        plt.savefig(fname)\n",
    "        print(i,'masks',len(masks))\n",
    "        #input_box = np.array([425, 600, 700, 875])\n",
    "        import numpy as np\n",
    "        cnt_valid = 0\n",
    "        for j in range(len(masks)):\n",
    "            chk1 = masks[j]['segmentation'].astype('uint8')\n",
    "            total_sum1 = int(sum(sum(chk1)) )\n",
    "            if total_sum1 > 200:\n",
    "                cnt_valid += 1\n",
    "                ime1 = np.array([np.multiply(chk1,image[:,:,0]), np.multiply(chk1,image[:,:,1]),np.multiply(chk1,image[:,:,2])]).transpose(1,2,0)\n",
    "                plt.imshow(ime1)\n",
    "                from PIL import Image\n",
    "                im = Image.fromarray(ime1)\n",
    "                new_temp_dir_name = sub_path[i].split('.')[0].split('/')[-1]\n",
    "                new_save_path = path_index+'/segmented_images1/'+sub_path[i].split('.')[0]+'mask_'+str(j)+'.jpg'\n",
    "                try:\n",
    "                    os.makedirs(path_index+'/segmented_images1')\n",
    "                    \n",
    "                except:\n",
    "                    aa = 2+3\n",
    "                im.save(new_save_path)\n",
    "            else:\n",
    "                mm = 2+3\n",
    "        print(cnt_valid, len(masks), 'completed')\n"
   ]
  },
  {
   "cell_type": "code",
   "execution_count": null,
   "id": "32ca2aae-8af4-45a2-8e06-884ac43f8cb3",
   "metadata": {},
   "outputs": [],
   "source": []
  }
 ],
 "metadata": {
  "kernelspec": {
   "display_name": "Python 3 (ipykernel)",
   "language": "python",
   "name": "python3"
  },
  "language_info": {
   "codemirror_mode": {
    "name": "ipython",
    "version": 3
   },
   "file_extension": ".py",
   "mimetype": "text/x-python",
   "name": "python",
   "nbconvert_exporter": "python",
   "pygments_lexer": "ipython3",
   "version": "3.13.2"
  }
 },
 "nbformat": 4,
 "nbformat_minor": 5
}
