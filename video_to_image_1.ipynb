{
 "cells": [
  {
   "cell_type": "code",
   "execution_count": 28,
   "id": "af43f79a-6834-4d9c-ae73-4f47f2633ed4",
   "metadata": {},
   "outputs": [
    {
     "ename": "error",
     "evalue": "OpenCV(4.11.0) /Users/xperience/GHA-Actions-OpenCV/_work/opencv-python/opencv-python/opencv/modules/imgcodecs/src/loadsave.cpp:929: error: (-215:Assertion failed) !_img.empty() in function 'imwrite'\n",
     "output_type": "error",
     "traceback": [
      "\u001b[0;31m---------------------------------------------------------------------------\u001b[0m",
      "\u001b[0;31merror\u001b[0m                                     Traceback (most recent call last)",
      "Cell \u001b[0;32mIn[28], line 34\u001b[0m\n\u001b[1;32m     30\u001b[0m \u001b[38;5;66;03m# Driver Code \u001b[39;00m\n\u001b[1;32m     31\u001b[0m \u001b[38;5;28;01mif\u001b[39;00m \u001b[38;5;18m__name__\u001b[39m \u001b[38;5;241m==\u001b[39m \u001b[38;5;124m'\u001b[39m\u001b[38;5;124m__main__\u001b[39m\u001b[38;5;124m'\u001b[39m: \n\u001b[1;32m     32\u001b[0m \n\u001b[1;32m     33\u001b[0m \t\u001b[38;5;66;03m# Calling the function \u001b[39;00m\n\u001b[0;32m---> 34\u001b[0m \t\u001b[43mFrameCapture\u001b[49m\u001b[43m(\u001b[49m\u001b[38;5;124;43m\"\u001b[39;49m\u001b[38;5;124;43mIMG_4209.MOV\u001b[39;49m\u001b[38;5;124;43m\"\u001b[39;49m\u001b[43m)\u001b[49m \n",
      "Cell \u001b[0;32mIn[28], line 25\u001b[0m, in \u001b[0;36mFrameCapture\u001b[0;34m(path)\u001b[0m\n\u001b[1;32m     22\u001b[0m success, image \u001b[38;5;241m=\u001b[39m vidObj\u001b[38;5;241m.\u001b[39mread() \n\u001b[1;32m     24\u001b[0m \u001b[38;5;66;03m# Saves the frames with frame-count \u001b[39;00m\n\u001b[0;32m---> 25\u001b[0m \u001b[43mcv2\u001b[49m\u001b[38;5;241;43m.\u001b[39;49m\u001b[43mimwrite\u001b[49m\u001b[43m(\u001b[49m\u001b[38;5;124;43m\"\u001b[39;49m\u001b[38;5;124;43m/Users/prdubey/Documents/code/AI_proj/Modern-Computer-Vision-with-PyTorch-2E/Chapter16/images_from_video/images_4209/frame\u001b[39;49m\u001b[38;5;132;43;01m%d\u001b[39;49;00m\u001b[38;5;124;43m.jpg\u001b[39;49m\u001b[38;5;124;43m\"\u001b[39;49m\u001b[43m \u001b[49m\u001b[38;5;241;43m%\u001b[39;49m\u001b[43m \u001b[49m\u001b[43mcount\u001b[49m\u001b[43m,\u001b[49m\u001b[43m \u001b[49m\u001b[43mimage\u001b[49m\u001b[43m)\u001b[49m \n\u001b[1;32m     27\u001b[0m count \u001b[38;5;241m+\u001b[39m\u001b[38;5;241m=\u001b[39m \u001b[38;5;241m1\u001b[39m\n",
      "\u001b[0;31merror\u001b[0m: OpenCV(4.11.0) /Users/xperience/GHA-Actions-OpenCV/_work/opencv-python/opencv-python/opencv/modules/imgcodecs/src/loadsave.cpp:929: error: (-215:Assertion failed) !_img.empty() in function 'imwrite'\n"
     ]
    }
   ],
   "source": [
    "# Program To Read video \n",
    "# and Extract Frames \n",
    "\n",
    "import cv2 \n",
    "\n",
    "# Function to extract frames \n",
    "def FrameCapture(path): \n",
    "\n",
    "\t# Path to video file \n",
    "\tvidObj = cv2.VideoCapture(path) \n",
    "\n",
    "\t# Used as counter variable \n",
    "\tcount = 0\n",
    "\n",
    "\t# checks whether frames were extracted \n",
    "\tsuccess = 1\n",
    "\n",
    "\twhile success: \n",
    "\n",
    "\t\t# vidObj object calls read \n",
    "\t\t# function extract frames \n",
    "\t\tsuccess, image = vidObj.read() \n",
    "\n",
    "\t\t# Saves the frames with frame-count \n",
    "\t\tcv2.imwrite(\"/Users/prdubey/Documents/code/AI_proj/Modern-Computer-Vision-with-PyTorch-2E/Chapter16/images_from_video/images_4209/frame%d.jpg\" % count, image) \n",
    "\n",
    "\t\tcount += 1\n",
    "\n",
    "\n",
    "# Driver Code \n",
    "if __name__ == '__main__': \n",
    "\n",
    "\t# Calling the function \n",
    "\tFrameCapture(\"IMG_4209.MOV\") \n"
   ]
  },
  {
   "cell_type": "code",
   "execution_count": null,
   "id": "f6257951-a18f-4f3b-adec-9e01297b7cb5",
   "metadata": {},
   "outputs": [],
   "source": []
  }
 ],
 "metadata": {
  "kernelspec": {
   "display_name": "Python 3 (ipykernel)",
   "language": "python",
   "name": "python3"
  },
  "language_info": {
   "codemirror_mode": {
    "name": "ipython",
    "version": 3
   },
   "file_extension": ".py",
   "mimetype": "text/x-python",
   "name": "python",
   "nbconvert_exporter": "python",
   "pygments_lexer": "ipython3",
   "version": "3.13.2"
  }
 },
 "nbformat": 4,
 "nbformat_minor": 5
}
